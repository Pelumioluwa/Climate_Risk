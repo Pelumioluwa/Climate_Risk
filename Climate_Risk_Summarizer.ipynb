{
  "nbformat": 4,
  "nbformat_minor": 0,
  "metadata": {
    "colab": {
      "provenance": []
    },
    "kernelspec": {
      "name": "python3",
      "display_name": "Python 3"
    },
    "language_info": {
      "name": "python"
    },
    "widgets": {
      "application/vnd.jupyter.widget-state+json": {
        "34d6b31b1bfc49098d867af3427d4ec2": {
          "model_module": "@jupyter-widgets/controls",
          "model_name": "HBoxModel",
          "model_module_version": "1.5.0",
          "state": {
            "_dom_classes": [],
            "_model_module": "@jupyter-widgets/controls",
            "_model_module_version": "1.5.0",
            "_model_name": "HBoxModel",
            "_view_count": null,
            "_view_module": "@jupyter-widgets/controls",
            "_view_module_version": "1.5.0",
            "_view_name": "HBoxView",
            "box_style": "",
            "children": [
              "IPY_MODEL_a1e65341436441e7936698ac283aa9f5",
              "IPY_MODEL_48523a9d1ac743ad80d819e95bcb35f0",
              "IPY_MODEL_3f2ab10ae5d3424c86cd5d36f32cdc99"
            ],
            "layout": "IPY_MODEL_784dbf3499644312b60eb642d465da08"
          }
        },
        "a1e65341436441e7936698ac283aa9f5": {
          "model_module": "@jupyter-widgets/controls",
          "model_name": "HTMLModel",
          "model_module_version": "1.5.0",
          "state": {
            "_dom_classes": [],
            "_model_module": "@jupyter-widgets/controls",
            "_model_module_version": "1.5.0",
            "_model_name": "HTMLModel",
            "_view_count": null,
            "_view_module": "@jupyter-widgets/controls",
            "_view_module_version": "1.5.0",
            "_view_name": "HTMLView",
            "description": "",
            "description_tooltip": null,
            "layout": "IPY_MODEL_eaf6595fe5dc431b9cc05568ae903dc3",
            "placeholder": "​",
            "style": "IPY_MODEL_ea3c780a8bbf4af780e287a563c42a65",
            "value": "config.json: 100%"
          }
        },
        "48523a9d1ac743ad80d819e95bcb35f0": {
          "model_module": "@jupyter-widgets/controls",
          "model_name": "FloatProgressModel",
          "model_module_version": "1.5.0",
          "state": {
            "_dom_classes": [],
            "_model_module": "@jupyter-widgets/controls",
            "_model_module_version": "1.5.0",
            "_model_name": "FloatProgressModel",
            "_view_count": null,
            "_view_module": "@jupyter-widgets/controls",
            "_view_module_version": "1.5.0",
            "_view_name": "ProgressView",
            "bar_style": "success",
            "description": "",
            "description_tooltip": null,
            "layout": "IPY_MODEL_6b334cf9e5434b3cb04a0ba7caf02ee2",
            "max": 1585,
            "min": 0,
            "orientation": "horizontal",
            "style": "IPY_MODEL_c6cf80d15a25496da244627a7ba3d80c",
            "value": 1585
          }
        },
        "3f2ab10ae5d3424c86cd5d36f32cdc99": {
          "model_module": "@jupyter-widgets/controls",
          "model_name": "HTMLModel",
          "model_module_version": "1.5.0",
          "state": {
            "_dom_classes": [],
            "_model_module": "@jupyter-widgets/controls",
            "_model_module_version": "1.5.0",
            "_model_name": "HTMLModel",
            "_view_count": null,
            "_view_module": "@jupyter-widgets/controls",
            "_view_module_version": "1.5.0",
            "_view_name": "HTMLView",
            "description": "",
            "description_tooltip": null,
            "layout": "IPY_MODEL_fe8cfeac5652458e8febb0c7220ddaf3",
            "placeholder": "​",
            "style": "IPY_MODEL_a5fd419d9c0241c8bca88871ac49dabd",
            "value": " 1.58k/1.58k [00:00&lt;00:00, 110kB/s]"
          }
        },
        "784dbf3499644312b60eb642d465da08": {
          "model_module": "@jupyter-widgets/base",
          "model_name": "LayoutModel",
          "model_module_version": "1.2.0",
          "state": {
            "_model_module": "@jupyter-widgets/base",
            "_model_module_version": "1.2.0",
            "_model_name": "LayoutModel",
            "_view_count": null,
            "_view_module": "@jupyter-widgets/base",
            "_view_module_version": "1.2.0",
            "_view_name": "LayoutView",
            "align_content": null,
            "align_items": null,
            "align_self": null,
            "border": null,
            "bottom": null,
            "display": null,
            "flex": null,
            "flex_flow": null,
            "grid_area": null,
            "grid_auto_columns": null,
            "grid_auto_flow": null,
            "grid_auto_rows": null,
            "grid_column": null,
            "grid_gap": null,
            "grid_row": null,
            "grid_template_areas": null,
            "grid_template_columns": null,
            "grid_template_rows": null,
            "height": null,
            "justify_content": null,
            "justify_items": null,
            "left": null,
            "margin": null,
            "max_height": null,
            "max_width": null,
            "min_height": null,
            "min_width": null,
            "object_fit": null,
            "object_position": null,
            "order": null,
            "overflow": null,
            "overflow_x": null,
            "overflow_y": null,
            "padding": null,
            "right": null,
            "top": null,
            "visibility": null,
            "width": null
          }
        },
        "eaf6595fe5dc431b9cc05568ae903dc3": {
          "model_module": "@jupyter-widgets/base",
          "model_name": "LayoutModel",
          "model_module_version": "1.2.0",
          "state": {
            "_model_module": "@jupyter-widgets/base",
            "_model_module_version": "1.2.0",
            "_model_name": "LayoutModel",
            "_view_count": null,
            "_view_module": "@jupyter-widgets/base",
            "_view_module_version": "1.2.0",
            "_view_name": "LayoutView",
            "align_content": null,
            "align_items": null,
            "align_self": null,
            "border": null,
            "bottom": null,
            "display": null,
            "flex": null,
            "flex_flow": null,
            "grid_area": null,
            "grid_auto_columns": null,
            "grid_auto_flow": null,
            "grid_auto_rows": null,
            "grid_column": null,
            "grid_gap": null,
            "grid_row": null,
            "grid_template_areas": null,
            "grid_template_columns": null,
            "grid_template_rows": null,
            "height": null,
            "justify_content": null,
            "justify_items": null,
            "left": null,
            "margin": null,
            "max_height": null,
            "max_width": null,
            "min_height": null,
            "min_width": null,
            "object_fit": null,
            "object_position": null,
            "order": null,
            "overflow": null,
            "overflow_x": null,
            "overflow_y": null,
            "padding": null,
            "right": null,
            "top": null,
            "visibility": null,
            "width": null
          }
        },
        "ea3c780a8bbf4af780e287a563c42a65": {
          "model_module": "@jupyter-widgets/controls",
          "model_name": "DescriptionStyleModel",
          "model_module_version": "1.5.0",
          "state": {
            "_model_module": "@jupyter-widgets/controls",
            "_model_module_version": "1.5.0",
            "_model_name": "DescriptionStyleModel",
            "_view_count": null,
            "_view_module": "@jupyter-widgets/base",
            "_view_module_version": "1.2.0",
            "_view_name": "StyleView",
            "description_width": ""
          }
        },
        "6b334cf9e5434b3cb04a0ba7caf02ee2": {
          "model_module": "@jupyter-widgets/base",
          "model_name": "LayoutModel",
          "model_module_version": "1.2.0",
          "state": {
            "_model_module": "@jupyter-widgets/base",
            "_model_module_version": "1.2.0",
            "_model_name": "LayoutModel",
            "_view_count": null,
            "_view_module": "@jupyter-widgets/base",
            "_view_module_version": "1.2.0",
            "_view_name": "LayoutView",
            "align_content": null,
            "align_items": null,
            "align_self": null,
            "border": null,
            "bottom": null,
            "display": null,
            "flex": null,
            "flex_flow": null,
            "grid_area": null,
            "grid_auto_columns": null,
            "grid_auto_flow": null,
            "grid_auto_rows": null,
            "grid_column": null,
            "grid_gap": null,
            "grid_row": null,
            "grid_template_areas": null,
            "grid_template_columns": null,
            "grid_template_rows": null,
            "height": null,
            "justify_content": null,
            "justify_items": null,
            "left": null,
            "margin": null,
            "max_height": null,
            "max_width": null,
            "min_height": null,
            "min_width": null,
            "object_fit": null,
            "object_position": null,
            "order": null,
            "overflow": null,
            "overflow_x": null,
            "overflow_y": null,
            "padding": null,
            "right": null,
            "top": null,
            "visibility": null,
            "width": null
          }
        },
        "c6cf80d15a25496da244627a7ba3d80c": {
          "model_module": "@jupyter-widgets/controls",
          "model_name": "ProgressStyleModel",
          "model_module_version": "1.5.0",
          "state": {
            "_model_module": "@jupyter-widgets/controls",
            "_model_module_version": "1.5.0",
            "_model_name": "ProgressStyleModel",
            "_view_count": null,
            "_view_module": "@jupyter-widgets/base",
            "_view_module_version": "1.2.0",
            "_view_name": "StyleView",
            "bar_color": null,
            "description_width": ""
          }
        },
        "fe8cfeac5652458e8febb0c7220ddaf3": {
          "model_module": "@jupyter-widgets/base",
          "model_name": "LayoutModel",
          "model_module_version": "1.2.0",
          "state": {
            "_model_module": "@jupyter-widgets/base",
            "_model_module_version": "1.2.0",
            "_model_name": "LayoutModel",
            "_view_count": null,
            "_view_module": "@jupyter-widgets/base",
            "_view_module_version": "1.2.0",
            "_view_name": "LayoutView",
            "align_content": null,
            "align_items": null,
            "align_self": null,
            "border": null,
            "bottom": null,
            "display": null,
            "flex": null,
            "flex_flow": null,
            "grid_area": null,
            "grid_auto_columns": null,
            "grid_auto_flow": null,
            "grid_auto_rows": null,
            "grid_column": null,
            "grid_gap": null,
            "grid_row": null,
            "grid_template_areas": null,
            "grid_template_columns": null,
            "grid_template_rows": null,
            "height": null,
            "justify_content": null,
            "justify_items": null,
            "left": null,
            "margin": null,
            "max_height": null,
            "max_width": null,
            "min_height": null,
            "min_width": null,
            "object_fit": null,
            "object_position": null,
            "order": null,
            "overflow": null,
            "overflow_x": null,
            "overflow_y": null,
            "padding": null,
            "right": null,
            "top": null,
            "visibility": null,
            "width": null
          }
        },
        "a5fd419d9c0241c8bca88871ac49dabd": {
          "model_module": "@jupyter-widgets/controls",
          "model_name": "DescriptionStyleModel",
          "model_module_version": "1.5.0",
          "state": {
            "_model_module": "@jupyter-widgets/controls",
            "_model_module_version": "1.5.0",
            "_model_name": "DescriptionStyleModel",
            "_view_count": null,
            "_view_module": "@jupyter-widgets/base",
            "_view_module_version": "1.2.0",
            "_view_name": "StyleView",
            "description_width": ""
          }
        },
        "579014f5401c4285ab33fdbd7e6d6560": {
          "model_module": "@jupyter-widgets/controls",
          "model_name": "HBoxModel",
          "model_module_version": "1.5.0",
          "state": {
            "_dom_classes": [],
            "_model_module": "@jupyter-widgets/controls",
            "_model_module_version": "1.5.0",
            "_model_name": "HBoxModel",
            "_view_count": null,
            "_view_module": "@jupyter-widgets/controls",
            "_view_module_version": "1.5.0",
            "_view_name": "HBoxView",
            "box_style": "",
            "children": [
              "IPY_MODEL_93ae5ab6f5c3458a9584dae4eb7cd130",
              "IPY_MODEL_988a6bff828341dc9aba0487eb7af2b9",
              "IPY_MODEL_86c21852948742d296d71138e42099b1"
            ],
            "layout": "IPY_MODEL_7d0726b44a9142c9ab78d1ca1474b5e5"
          }
        },
        "93ae5ab6f5c3458a9584dae4eb7cd130": {
          "model_module": "@jupyter-widgets/controls",
          "model_name": "HTMLModel",
          "model_module_version": "1.5.0",
          "state": {
            "_dom_classes": [],
            "_model_module": "@jupyter-widgets/controls",
            "_model_module_version": "1.5.0",
            "_model_name": "HTMLModel",
            "_view_count": null,
            "_view_module": "@jupyter-widgets/controls",
            "_view_module_version": "1.5.0",
            "_view_name": "HTMLView",
            "description": "",
            "description_tooltip": null,
            "layout": "IPY_MODEL_7b7162ed961e44369401f8883779b708",
            "placeholder": "​",
            "style": "IPY_MODEL_7762b9545b454705b5e7ef634e6925b2",
            "value": "vocab.json: 100%"
          }
        },
        "988a6bff828341dc9aba0487eb7af2b9": {
          "model_module": "@jupyter-widgets/controls",
          "model_name": "FloatProgressModel",
          "model_module_version": "1.5.0",
          "state": {
            "_dom_classes": [],
            "_model_module": "@jupyter-widgets/controls",
            "_model_module_version": "1.5.0",
            "_model_name": "FloatProgressModel",
            "_view_count": null,
            "_view_module": "@jupyter-widgets/controls",
            "_view_module_version": "1.5.0",
            "_view_name": "ProgressView",
            "bar_style": "success",
            "description": "",
            "description_tooltip": null,
            "layout": "IPY_MODEL_5aa80444f72a4428a43dbcf2342e7554",
            "max": 898823,
            "min": 0,
            "orientation": "horizontal",
            "style": "IPY_MODEL_5fb3ef8a98fb4d05af7d1358ced7226a",
            "value": 898823
          }
        },
        "86c21852948742d296d71138e42099b1": {
          "model_module": "@jupyter-widgets/controls",
          "model_name": "HTMLModel",
          "model_module_version": "1.5.0",
          "state": {
            "_dom_classes": [],
            "_model_module": "@jupyter-widgets/controls",
            "_model_module_version": "1.5.0",
            "_model_name": "HTMLModel",
            "_view_count": null,
            "_view_module": "@jupyter-widgets/controls",
            "_view_module_version": "1.5.0",
            "_view_name": "HTMLView",
            "description": "",
            "description_tooltip": null,
            "layout": "IPY_MODEL_01b9494200234041a9e77c02ccbfde6d",
            "placeholder": "​",
            "style": "IPY_MODEL_dfa20c5b882740278fafc8eeb4bc9d1f",
            "value": " 899k/899k [00:00&lt;00:00, 11.3MB/s]"
          }
        },
        "7d0726b44a9142c9ab78d1ca1474b5e5": {
          "model_module": "@jupyter-widgets/base",
          "model_name": "LayoutModel",
          "model_module_version": "1.2.0",
          "state": {
            "_model_module": "@jupyter-widgets/base",
            "_model_module_version": "1.2.0",
            "_model_name": "LayoutModel",
            "_view_count": null,
            "_view_module": "@jupyter-widgets/base",
            "_view_module_version": "1.2.0",
            "_view_name": "LayoutView",
            "align_content": null,
            "align_items": null,
            "align_self": null,
            "border": null,
            "bottom": null,
            "display": null,
            "flex": null,
            "flex_flow": null,
            "grid_area": null,
            "grid_auto_columns": null,
            "grid_auto_flow": null,
            "grid_auto_rows": null,
            "grid_column": null,
            "grid_gap": null,
            "grid_row": null,
            "grid_template_areas": null,
            "grid_template_columns": null,
            "grid_template_rows": null,
            "height": null,
            "justify_content": null,
            "justify_items": null,
            "left": null,
            "margin": null,
            "max_height": null,
            "max_width": null,
            "min_height": null,
            "min_width": null,
            "object_fit": null,
            "object_position": null,
            "order": null,
            "overflow": null,
            "overflow_x": null,
            "overflow_y": null,
            "padding": null,
            "right": null,
            "top": null,
            "visibility": null,
            "width": null
          }
        },
        "7b7162ed961e44369401f8883779b708": {
          "model_module": "@jupyter-widgets/base",
          "model_name": "LayoutModel",
          "model_module_version": "1.2.0",
          "state": {
            "_model_module": "@jupyter-widgets/base",
            "_model_module_version": "1.2.0",
            "_model_name": "LayoutModel",
            "_view_count": null,
            "_view_module": "@jupyter-widgets/base",
            "_view_module_version": "1.2.0",
            "_view_name": "LayoutView",
            "align_content": null,
            "align_items": null,
            "align_self": null,
            "border": null,
            "bottom": null,
            "display": null,
            "flex": null,
            "flex_flow": null,
            "grid_area": null,
            "grid_auto_columns": null,
            "grid_auto_flow": null,
            "grid_auto_rows": null,
            "grid_column": null,
            "grid_gap": null,
            "grid_row": null,
            "grid_template_areas": null,
            "grid_template_columns": null,
            "grid_template_rows": null,
            "height": null,
            "justify_content": null,
            "justify_items": null,
            "left": null,
            "margin": null,
            "max_height": null,
            "max_width": null,
            "min_height": null,
            "min_width": null,
            "object_fit": null,
            "object_position": null,
            "order": null,
            "overflow": null,
            "overflow_x": null,
            "overflow_y": null,
            "padding": null,
            "right": null,
            "top": null,
            "visibility": null,
            "width": null
          }
        },
        "7762b9545b454705b5e7ef634e6925b2": {
          "model_module": "@jupyter-widgets/controls",
          "model_name": "DescriptionStyleModel",
          "model_module_version": "1.5.0",
          "state": {
            "_model_module": "@jupyter-widgets/controls",
            "_model_module_version": "1.5.0",
            "_model_name": "DescriptionStyleModel",
            "_view_count": null,
            "_view_module": "@jupyter-widgets/base",
            "_view_module_version": "1.2.0",
            "_view_name": "StyleView",
            "description_width": ""
          }
        },
        "5aa80444f72a4428a43dbcf2342e7554": {
          "model_module": "@jupyter-widgets/base",
          "model_name": "LayoutModel",
          "model_module_version": "1.2.0",
          "state": {
            "_model_module": "@jupyter-widgets/base",
            "_model_module_version": "1.2.0",
            "_model_name": "LayoutModel",
            "_view_count": null,
            "_view_module": "@jupyter-widgets/base",
            "_view_module_version": "1.2.0",
            "_view_name": "LayoutView",
            "align_content": null,
            "align_items": null,
            "align_self": null,
            "border": null,
            "bottom": null,
            "display": null,
            "flex": null,
            "flex_flow": null,
            "grid_area": null,
            "grid_auto_columns": null,
            "grid_auto_flow": null,
            "grid_auto_rows": null,
            "grid_column": null,
            "grid_gap": null,
            "grid_row": null,
            "grid_template_areas": null,
            "grid_template_columns": null,
            "grid_template_rows": null,
            "height": null,
            "justify_content": null,
            "justify_items": null,
            "left": null,
            "margin": null,
            "max_height": null,
            "max_width": null,
            "min_height": null,
            "min_width": null,
            "object_fit": null,
            "object_position": null,
            "order": null,
            "overflow": null,
            "overflow_x": null,
            "overflow_y": null,
            "padding": null,
            "right": null,
            "top": null,
            "visibility": null,
            "width": null
          }
        },
        "5fb3ef8a98fb4d05af7d1358ced7226a": {
          "model_module": "@jupyter-widgets/controls",
          "model_name": "ProgressStyleModel",
          "model_module_version": "1.5.0",
          "state": {
            "_model_module": "@jupyter-widgets/controls",
            "_model_module_version": "1.5.0",
            "_model_name": "ProgressStyleModel",
            "_view_count": null,
            "_view_module": "@jupyter-widgets/base",
            "_view_module_version": "1.2.0",
            "_view_name": "StyleView",
            "bar_color": null,
            "description_width": ""
          }
        },
        "01b9494200234041a9e77c02ccbfde6d": {
          "model_module": "@jupyter-widgets/base",
          "model_name": "LayoutModel",
          "model_module_version": "1.2.0",
          "state": {
            "_model_module": "@jupyter-widgets/base",
            "_model_module_version": "1.2.0",
            "_model_name": "LayoutModel",
            "_view_count": null,
            "_view_module": "@jupyter-widgets/base",
            "_view_module_version": "1.2.0",
            "_view_name": "LayoutView",
            "align_content": null,
            "align_items": null,
            "align_self": null,
            "border": null,
            "bottom": null,
            "display": null,
            "flex": null,
            "flex_flow": null,
            "grid_area": null,
            "grid_auto_columns": null,
            "grid_auto_flow": null,
            "grid_auto_rows": null,
            "grid_column": null,
            "grid_gap": null,
            "grid_row": null,
            "grid_template_areas": null,
            "grid_template_columns": null,
            "grid_template_rows": null,
            "height": null,
            "justify_content": null,
            "justify_items": null,
            "left": null,
            "margin": null,
            "max_height": null,
            "max_width": null,
            "min_height": null,
            "min_width": null,
            "object_fit": null,
            "object_position": null,
            "order": null,
            "overflow": null,
            "overflow_x": null,
            "overflow_y": null,
            "padding": null,
            "right": null,
            "top": null,
            "visibility": null,
            "width": null
          }
        },
        "dfa20c5b882740278fafc8eeb4bc9d1f": {
          "model_module": "@jupyter-widgets/controls",
          "model_name": "DescriptionStyleModel",
          "model_module_version": "1.5.0",
          "state": {
            "_model_module": "@jupyter-widgets/controls",
            "_model_module_version": "1.5.0",
            "_model_name": "DescriptionStyleModel",
            "_view_count": null,
            "_view_module": "@jupyter-widgets/base",
            "_view_module_version": "1.2.0",
            "_view_name": "StyleView",
            "description_width": ""
          }
        },
        "33cd7049de704d7d8f26d8c8c4f7ca62": {
          "model_module": "@jupyter-widgets/controls",
          "model_name": "HBoxModel",
          "model_module_version": "1.5.0",
          "state": {
            "_dom_classes": [],
            "_model_module": "@jupyter-widgets/controls",
            "_model_module_version": "1.5.0",
            "_model_name": "HBoxModel",
            "_view_count": null,
            "_view_module": "@jupyter-widgets/controls",
            "_view_module_version": "1.5.0",
            "_view_name": "HBoxView",
            "box_style": "",
            "children": [
              "IPY_MODEL_62e3b122d20a46ef9a971b27766cfceb",
              "IPY_MODEL_1c2379a62b194c79a2fdf7f85f9aa615",
              "IPY_MODEL_e994820dcd47466d8a8ae7a2aca505c0"
            ],
            "layout": "IPY_MODEL_bfcf0818ef8042bb8eda5f17a357b5a6"
          }
        },
        "62e3b122d20a46ef9a971b27766cfceb": {
          "model_module": "@jupyter-widgets/controls",
          "model_name": "HTMLModel",
          "model_module_version": "1.5.0",
          "state": {
            "_dom_classes": [],
            "_model_module": "@jupyter-widgets/controls",
            "_model_module_version": "1.5.0",
            "_model_name": "HTMLModel",
            "_view_count": null,
            "_view_module": "@jupyter-widgets/controls",
            "_view_module_version": "1.5.0",
            "_view_name": "HTMLView",
            "description": "",
            "description_tooltip": null,
            "layout": "IPY_MODEL_0b7ac60374ac4dfe8d5b110d2d7b2513",
            "placeholder": "​",
            "style": "IPY_MODEL_57d6c615bb9b4ca0992cc05c4159c719",
            "value": "merges.txt: 100%"
          }
        },
        "1c2379a62b194c79a2fdf7f85f9aa615": {
          "model_module": "@jupyter-widgets/controls",
          "model_name": "FloatProgressModel",
          "model_module_version": "1.5.0",
          "state": {
            "_dom_classes": [],
            "_model_module": "@jupyter-widgets/controls",
            "_model_module_version": "1.5.0",
            "_model_name": "FloatProgressModel",
            "_view_count": null,
            "_view_module": "@jupyter-widgets/controls",
            "_view_module_version": "1.5.0",
            "_view_name": "ProgressView",
            "bar_style": "success",
            "description": "",
            "description_tooltip": null,
            "layout": "IPY_MODEL_5f07aeb85fc84921bca4a07f92cc90a1",
            "max": 456318,
            "min": 0,
            "orientation": "horizontal",
            "style": "IPY_MODEL_d9e51cdc648a4db8be1abf2cc9c7a287",
            "value": 456318
          }
        },
        "e994820dcd47466d8a8ae7a2aca505c0": {
          "model_module": "@jupyter-widgets/controls",
          "model_name": "HTMLModel",
          "model_module_version": "1.5.0",
          "state": {
            "_dom_classes": [],
            "_model_module": "@jupyter-widgets/controls",
            "_model_module_version": "1.5.0",
            "_model_name": "HTMLModel",
            "_view_count": null,
            "_view_module": "@jupyter-widgets/controls",
            "_view_module_version": "1.5.0",
            "_view_name": "HTMLView",
            "description": "",
            "description_tooltip": null,
            "layout": "IPY_MODEL_614b21bc249148ef9e38a3fc6cf741e4",
            "placeholder": "​",
            "style": "IPY_MODEL_d1dfefdc792943b8842debc489c53495",
            "value": " 456k/456k [00:00&lt;00:00, 27.4MB/s]"
          }
        },
        "bfcf0818ef8042bb8eda5f17a357b5a6": {
          "model_module": "@jupyter-widgets/base",
          "model_name": "LayoutModel",
          "model_module_version": "1.2.0",
          "state": {
            "_model_module": "@jupyter-widgets/base",
            "_model_module_version": "1.2.0",
            "_model_name": "LayoutModel",
            "_view_count": null,
            "_view_module": "@jupyter-widgets/base",
            "_view_module_version": "1.2.0",
            "_view_name": "LayoutView",
            "align_content": null,
            "align_items": null,
            "align_self": null,
            "border": null,
            "bottom": null,
            "display": null,
            "flex": null,
            "flex_flow": null,
            "grid_area": null,
            "grid_auto_columns": null,
            "grid_auto_flow": null,
            "grid_auto_rows": null,
            "grid_column": null,
            "grid_gap": null,
            "grid_row": null,
            "grid_template_areas": null,
            "grid_template_columns": null,
            "grid_template_rows": null,
            "height": null,
            "justify_content": null,
            "justify_items": null,
            "left": null,
            "margin": null,
            "max_height": null,
            "max_width": null,
            "min_height": null,
            "min_width": null,
            "object_fit": null,
            "object_position": null,
            "order": null,
            "overflow": null,
            "overflow_x": null,
            "overflow_y": null,
            "padding": null,
            "right": null,
            "top": null,
            "visibility": null,
            "width": null
          }
        },
        "0b7ac60374ac4dfe8d5b110d2d7b2513": {
          "model_module": "@jupyter-widgets/base",
          "model_name": "LayoutModel",
          "model_module_version": "1.2.0",
          "state": {
            "_model_module": "@jupyter-widgets/base",
            "_model_module_version": "1.2.0",
            "_model_name": "LayoutModel",
            "_view_count": null,
            "_view_module": "@jupyter-widgets/base",
            "_view_module_version": "1.2.0",
            "_view_name": "LayoutView",
            "align_content": null,
            "align_items": null,
            "align_self": null,
            "border": null,
            "bottom": null,
            "display": null,
            "flex": null,
            "flex_flow": null,
            "grid_area": null,
            "grid_auto_columns": null,
            "grid_auto_flow": null,
            "grid_auto_rows": null,
            "grid_column": null,
            "grid_gap": null,
            "grid_row": null,
            "grid_template_areas": null,
            "grid_template_columns": null,
            "grid_template_rows": null,
            "height": null,
            "justify_content": null,
            "justify_items": null,
            "left": null,
            "margin": null,
            "max_height": null,
            "max_width": null,
            "min_height": null,
            "min_width": null,
            "object_fit": null,
            "object_position": null,
            "order": null,
            "overflow": null,
            "overflow_x": null,
            "overflow_y": null,
            "padding": null,
            "right": null,
            "top": null,
            "visibility": null,
            "width": null
          }
        },
        "57d6c615bb9b4ca0992cc05c4159c719": {
          "model_module": "@jupyter-widgets/controls",
          "model_name": "DescriptionStyleModel",
          "model_module_version": "1.5.0",
          "state": {
            "_model_module": "@jupyter-widgets/controls",
            "_model_module_version": "1.5.0",
            "_model_name": "DescriptionStyleModel",
            "_view_count": null,
            "_view_module": "@jupyter-widgets/base",
            "_view_module_version": "1.2.0",
            "_view_name": "StyleView",
            "description_width": ""
          }
        },
        "5f07aeb85fc84921bca4a07f92cc90a1": {
          "model_module": "@jupyter-widgets/base",
          "model_name": "LayoutModel",
          "model_module_version": "1.2.0",
          "state": {
            "_model_module": "@jupyter-widgets/base",
            "_model_module_version": "1.2.0",
            "_model_name": "LayoutModel",
            "_view_count": null,
            "_view_module": "@jupyter-widgets/base",
            "_view_module_version": "1.2.0",
            "_view_name": "LayoutView",
            "align_content": null,
            "align_items": null,
            "align_self": null,
            "border": null,
            "bottom": null,
            "display": null,
            "flex": null,
            "flex_flow": null,
            "grid_area": null,
            "grid_auto_columns": null,
            "grid_auto_flow": null,
            "grid_auto_rows": null,
            "grid_column": null,
            "grid_gap": null,
            "grid_row": null,
            "grid_template_areas": null,
            "grid_template_columns": null,
            "grid_template_rows": null,
            "height": null,
            "justify_content": null,
            "justify_items": null,
            "left": null,
            "margin": null,
            "max_height": null,
            "max_width": null,
            "min_height": null,
            "min_width": null,
            "object_fit": null,
            "object_position": null,
            "order": null,
            "overflow": null,
            "overflow_x": null,
            "overflow_y": null,
            "padding": null,
            "right": null,
            "top": null,
            "visibility": null,
            "width": null
          }
        },
        "d9e51cdc648a4db8be1abf2cc9c7a287": {
          "model_module": "@jupyter-widgets/controls",
          "model_name": "ProgressStyleModel",
          "model_module_version": "1.5.0",
          "state": {
            "_model_module": "@jupyter-widgets/controls",
            "_model_module_version": "1.5.0",
            "_model_name": "ProgressStyleModel",
            "_view_count": null,
            "_view_module": "@jupyter-widgets/base",
            "_view_module_version": "1.2.0",
            "_view_name": "StyleView",
            "bar_color": null,
            "description_width": ""
          }
        },
        "614b21bc249148ef9e38a3fc6cf741e4": {
          "model_module": "@jupyter-widgets/base",
          "model_name": "LayoutModel",
          "model_module_version": "1.2.0",
          "state": {
            "_model_module": "@jupyter-widgets/base",
            "_model_module_version": "1.2.0",
            "_model_name": "LayoutModel",
            "_view_count": null,
            "_view_module": "@jupyter-widgets/base",
            "_view_module_version": "1.2.0",
            "_view_name": "LayoutView",
            "align_content": null,
            "align_items": null,
            "align_self": null,
            "border": null,
            "bottom": null,
            "display": null,
            "flex": null,
            "flex_flow": null,
            "grid_area": null,
            "grid_auto_columns": null,
            "grid_auto_flow": null,
            "grid_auto_rows": null,
            "grid_column": null,
            "grid_gap": null,
            "grid_row": null,
            "grid_template_areas": null,
            "grid_template_columns": null,
            "grid_template_rows": null,
            "height": null,
            "justify_content": null,
            "justify_items": null,
            "left": null,
            "margin": null,
            "max_height": null,
            "max_width": null,
            "min_height": null,
            "min_width": null,
            "object_fit": null,
            "object_position": null,
            "order": null,
            "overflow": null,
            "overflow_x": null,
            "overflow_y": null,
            "padding": null,
            "right": null,
            "top": null,
            "visibility": null,
            "width": null
          }
        },
        "d1dfefdc792943b8842debc489c53495": {
          "model_module": "@jupyter-widgets/controls",
          "model_name": "DescriptionStyleModel",
          "model_module_version": "1.5.0",
          "state": {
            "_model_module": "@jupyter-widgets/controls",
            "_model_module_version": "1.5.0",
            "_model_name": "DescriptionStyleModel",
            "_view_count": null,
            "_view_module": "@jupyter-widgets/base",
            "_view_module_version": "1.2.0",
            "_view_name": "StyleView",
            "description_width": ""
          }
        },
        "4ecbacef48b24d1c8995fbd15044bbe6": {
          "model_module": "@jupyter-widgets/controls",
          "model_name": "HBoxModel",
          "model_module_version": "1.5.0",
          "state": {
            "_dom_classes": [],
            "_model_module": "@jupyter-widgets/controls",
            "_model_module_version": "1.5.0",
            "_model_name": "HBoxModel",
            "_view_count": null,
            "_view_module": "@jupyter-widgets/controls",
            "_view_module_version": "1.5.0",
            "_view_name": "HBoxView",
            "box_style": "",
            "children": [
              "IPY_MODEL_e503f92b15c74685ba24c19ece52d48d",
              "IPY_MODEL_aae717bca51f48d79acf9c7655a4fae9",
              "IPY_MODEL_ad419b0685fa418ab0923916d7d48637"
            ],
            "layout": "IPY_MODEL_a3d83b901d994e9e95d5de9321ac00f3"
          }
        },
        "e503f92b15c74685ba24c19ece52d48d": {
          "model_module": "@jupyter-widgets/controls",
          "model_name": "HTMLModel",
          "model_module_version": "1.5.0",
          "state": {
            "_dom_classes": [],
            "_model_module": "@jupyter-widgets/controls",
            "_model_module_version": "1.5.0",
            "_model_name": "HTMLModel",
            "_view_count": null,
            "_view_module": "@jupyter-widgets/controls",
            "_view_module_version": "1.5.0",
            "_view_name": "HTMLView",
            "description": "",
            "description_tooltip": null,
            "layout": "IPY_MODEL_a714bb7f2dc743e28a3509e1d11889cf",
            "placeholder": "​",
            "style": "IPY_MODEL_a1b1e133b5434b50b067e7948e248b8e",
            "value": "tokenizer.json: 100%"
          }
        },
        "aae717bca51f48d79acf9c7655a4fae9": {
          "model_module": "@jupyter-widgets/controls",
          "model_name": "FloatProgressModel",
          "model_module_version": "1.5.0",
          "state": {
            "_dom_classes": [],
            "_model_module": "@jupyter-widgets/controls",
            "_model_module_version": "1.5.0",
            "_model_name": "FloatProgressModel",
            "_view_count": null,
            "_view_module": "@jupyter-widgets/controls",
            "_view_module_version": "1.5.0",
            "_view_name": "ProgressView",
            "bar_style": "success",
            "description": "",
            "description_tooltip": null,
            "layout": "IPY_MODEL_ba365e89fceb4f05a88eef6ec0ca709b",
            "max": 1355863,
            "min": 0,
            "orientation": "horizontal",
            "style": "IPY_MODEL_8d9cb9e4c9d44be5b7cd7a5ca7617b5f",
            "value": 1355863
          }
        },
        "ad419b0685fa418ab0923916d7d48637": {
          "model_module": "@jupyter-widgets/controls",
          "model_name": "HTMLModel",
          "model_module_version": "1.5.0",
          "state": {
            "_dom_classes": [],
            "_model_module": "@jupyter-widgets/controls",
            "_model_module_version": "1.5.0",
            "_model_name": "HTMLModel",
            "_view_count": null,
            "_view_module": "@jupyter-widgets/controls",
            "_view_module_version": "1.5.0",
            "_view_name": "HTMLView",
            "description": "",
            "description_tooltip": null,
            "layout": "IPY_MODEL_29b8d8de04cc45eda7f686b9b7f892d3",
            "placeholder": "​",
            "style": "IPY_MODEL_c0c70baf498145b5a32828dec1dcfa41",
            "value": " 1.36M/1.36M [00:00&lt;00:00, 12.5MB/s]"
          }
        },
        "a3d83b901d994e9e95d5de9321ac00f3": {
          "model_module": "@jupyter-widgets/base",
          "model_name": "LayoutModel",
          "model_module_version": "1.2.0",
          "state": {
            "_model_module": "@jupyter-widgets/base",
            "_model_module_version": "1.2.0",
            "_model_name": "LayoutModel",
            "_view_count": null,
            "_view_module": "@jupyter-widgets/base",
            "_view_module_version": "1.2.0",
            "_view_name": "LayoutView",
            "align_content": null,
            "align_items": null,
            "align_self": null,
            "border": null,
            "bottom": null,
            "display": null,
            "flex": null,
            "flex_flow": null,
            "grid_area": null,
            "grid_auto_columns": null,
            "grid_auto_flow": null,
            "grid_auto_rows": null,
            "grid_column": null,
            "grid_gap": null,
            "grid_row": null,
            "grid_template_areas": null,
            "grid_template_columns": null,
            "grid_template_rows": null,
            "height": null,
            "justify_content": null,
            "justify_items": null,
            "left": null,
            "margin": null,
            "max_height": null,
            "max_width": null,
            "min_height": null,
            "min_width": null,
            "object_fit": null,
            "object_position": null,
            "order": null,
            "overflow": null,
            "overflow_x": null,
            "overflow_y": null,
            "padding": null,
            "right": null,
            "top": null,
            "visibility": null,
            "width": null
          }
        },
        "a714bb7f2dc743e28a3509e1d11889cf": {
          "model_module": "@jupyter-widgets/base",
          "model_name": "LayoutModel",
          "model_module_version": "1.2.0",
          "state": {
            "_model_module": "@jupyter-widgets/base",
            "_model_module_version": "1.2.0",
            "_model_name": "LayoutModel",
            "_view_count": null,
            "_view_module": "@jupyter-widgets/base",
            "_view_module_version": "1.2.0",
            "_view_name": "LayoutView",
            "align_content": null,
            "align_items": null,
            "align_self": null,
            "border": null,
            "bottom": null,
            "display": null,
            "flex": null,
            "flex_flow": null,
            "grid_area": null,
            "grid_auto_columns": null,
            "grid_auto_flow": null,
            "grid_auto_rows": null,
            "grid_column": null,
            "grid_gap": null,
            "grid_row": null,
            "grid_template_areas": null,
            "grid_template_columns": null,
            "grid_template_rows": null,
            "height": null,
            "justify_content": null,
            "justify_items": null,
            "left": null,
            "margin": null,
            "max_height": null,
            "max_width": null,
            "min_height": null,
            "min_width": null,
            "object_fit": null,
            "object_position": null,
            "order": null,
            "overflow": null,
            "overflow_x": null,
            "overflow_y": null,
            "padding": null,
            "right": null,
            "top": null,
            "visibility": null,
            "width": null
          }
        },
        "a1b1e133b5434b50b067e7948e248b8e": {
          "model_module": "@jupyter-widgets/controls",
          "model_name": "DescriptionStyleModel",
          "model_module_version": "1.5.0",
          "state": {
            "_model_module": "@jupyter-widgets/controls",
            "_model_module_version": "1.5.0",
            "_model_name": "DescriptionStyleModel",
            "_view_count": null,
            "_view_module": "@jupyter-widgets/base",
            "_view_module_version": "1.2.0",
            "_view_name": "StyleView",
            "description_width": ""
          }
        },
        "ba365e89fceb4f05a88eef6ec0ca709b": {
          "model_module": "@jupyter-widgets/base",
          "model_name": "LayoutModel",
          "model_module_version": "1.2.0",
          "state": {
            "_model_module": "@jupyter-widgets/base",
            "_model_module_version": "1.2.0",
            "_model_name": "LayoutModel",
            "_view_count": null,
            "_view_module": "@jupyter-widgets/base",
            "_view_module_version": "1.2.0",
            "_view_name": "LayoutView",
            "align_content": null,
            "align_items": null,
            "align_self": null,
            "border": null,
            "bottom": null,
            "display": null,
            "flex": null,
            "flex_flow": null,
            "grid_area": null,
            "grid_auto_columns": null,
            "grid_auto_flow": null,
            "grid_auto_rows": null,
            "grid_column": null,
            "grid_gap": null,
            "grid_row": null,
            "grid_template_areas": null,
            "grid_template_columns": null,
            "grid_template_rows": null,
            "height": null,
            "justify_content": null,
            "justify_items": null,
            "left": null,
            "margin": null,
            "max_height": null,
            "max_width": null,
            "min_height": null,
            "min_width": null,
            "object_fit": null,
            "object_position": null,
            "order": null,
            "overflow": null,
            "overflow_x": null,
            "overflow_y": null,
            "padding": null,
            "right": null,
            "top": null,
            "visibility": null,
            "width": null
          }
        },
        "8d9cb9e4c9d44be5b7cd7a5ca7617b5f": {
          "model_module": "@jupyter-widgets/controls",
          "model_name": "ProgressStyleModel",
          "model_module_version": "1.5.0",
          "state": {
            "_model_module": "@jupyter-widgets/controls",
            "_model_module_version": "1.5.0",
            "_model_name": "ProgressStyleModel",
            "_view_count": null,
            "_view_module": "@jupyter-widgets/base",
            "_view_module_version": "1.2.0",
            "_view_name": "StyleView",
            "bar_color": null,
            "description_width": ""
          }
        },
        "29b8d8de04cc45eda7f686b9b7f892d3": {
          "model_module": "@jupyter-widgets/base",
          "model_name": "LayoutModel",
          "model_module_version": "1.2.0",
          "state": {
            "_model_module": "@jupyter-widgets/base",
            "_model_module_version": "1.2.0",
            "_model_name": "LayoutModel",
            "_view_count": null,
            "_view_module": "@jupyter-widgets/base",
            "_view_module_version": "1.2.0",
            "_view_name": "LayoutView",
            "align_content": null,
            "align_items": null,
            "align_self": null,
            "border": null,
            "bottom": null,
            "display": null,
            "flex": null,
            "flex_flow": null,
            "grid_area": null,
            "grid_auto_columns": null,
            "grid_auto_flow": null,
            "grid_auto_rows": null,
            "grid_column": null,
            "grid_gap": null,
            "grid_row": null,
            "grid_template_areas": null,
            "grid_template_columns": null,
            "grid_template_rows": null,
            "height": null,
            "justify_content": null,
            "justify_items": null,
            "left": null,
            "margin": null,
            "max_height": null,
            "max_width": null,
            "min_height": null,
            "min_width": null,
            "object_fit": null,
            "object_position": null,
            "order": null,
            "overflow": null,
            "overflow_x": null,
            "overflow_y": null,
            "padding": null,
            "right": null,
            "top": null,
            "visibility": null,
            "width": null
          }
        },
        "c0c70baf498145b5a32828dec1dcfa41": {
          "model_module": "@jupyter-widgets/controls",
          "model_name": "DescriptionStyleModel",
          "model_module_version": "1.5.0",
          "state": {
            "_model_module": "@jupyter-widgets/controls",
            "_model_module_version": "1.5.0",
            "_model_name": "DescriptionStyleModel",
            "_view_count": null,
            "_view_module": "@jupyter-widgets/base",
            "_view_module_version": "1.2.0",
            "_view_name": "StyleView",
            "description_width": ""
          }
        },
        "8cfbe091b86c42d88c2cac8cda77bab0": {
          "model_module": "@jupyter-widgets/controls",
          "model_name": "HBoxModel",
          "model_module_version": "1.5.0",
          "state": {
            "_dom_classes": [],
            "_model_module": "@jupyter-widgets/controls",
            "_model_module_version": "1.5.0",
            "_model_name": "HBoxModel",
            "_view_count": null,
            "_view_module": "@jupyter-widgets/controls",
            "_view_module_version": "1.5.0",
            "_view_name": "HBoxView",
            "box_style": "",
            "children": [
              "IPY_MODEL_cc8410673e914b81b64a3be2261e5195",
              "IPY_MODEL_0a53482844b0454ba55a08e56dbd4aac",
              "IPY_MODEL_95b049c3a7c041168d9cdd016f6fc282"
            ],
            "layout": "IPY_MODEL_e6dfc6d8de4b47e5b52e151bf49a5d89"
          }
        },
        "cc8410673e914b81b64a3be2261e5195": {
          "model_module": "@jupyter-widgets/controls",
          "model_name": "HTMLModel",
          "model_module_version": "1.5.0",
          "state": {
            "_dom_classes": [],
            "_model_module": "@jupyter-widgets/controls",
            "_model_module_version": "1.5.0",
            "_model_name": "HTMLModel",
            "_view_count": null,
            "_view_module": "@jupyter-widgets/controls",
            "_view_module_version": "1.5.0",
            "_view_name": "HTMLView",
            "description": "",
            "description_tooltip": null,
            "layout": "IPY_MODEL_fe68316885164836b282f929ea7fd995",
            "placeholder": "​",
            "style": "IPY_MODEL_66a08b51767c4ad1bc7bcbde89c338f2",
            "value": "model.safetensors: 100%"
          }
        },
        "0a53482844b0454ba55a08e56dbd4aac": {
          "model_module": "@jupyter-widgets/controls",
          "model_name": "FloatProgressModel",
          "model_module_version": "1.5.0",
          "state": {
            "_dom_classes": [],
            "_model_module": "@jupyter-widgets/controls",
            "_model_module_version": "1.5.0",
            "_model_name": "FloatProgressModel",
            "_view_count": null,
            "_view_module": "@jupyter-widgets/controls",
            "_view_module_version": "1.5.0",
            "_view_name": "ProgressView",
            "bar_style": "success",
            "description": "",
            "description_tooltip": null,
            "layout": "IPY_MODEL_954f5baaecae4422a7947729123a41a9",
            "max": 1625222120,
            "min": 0,
            "orientation": "horizontal",
            "style": "IPY_MODEL_d9b50409b2ab48929c1a1ada6071561a",
            "value": 1625222120
          }
        },
        "95b049c3a7c041168d9cdd016f6fc282": {
          "model_module": "@jupyter-widgets/controls",
          "model_name": "HTMLModel",
          "model_module_version": "1.5.0",
          "state": {
            "_dom_classes": [],
            "_model_module": "@jupyter-widgets/controls",
            "_model_module_version": "1.5.0",
            "_model_name": "HTMLModel",
            "_view_count": null,
            "_view_module": "@jupyter-widgets/controls",
            "_view_module_version": "1.5.0",
            "_view_name": "HTMLView",
            "description": "",
            "description_tooltip": null,
            "layout": "IPY_MODEL_fe7532b06fef48069f2c20bfbb7b43f7",
            "placeholder": "​",
            "style": "IPY_MODEL_ff4348fa6e3340c185362047695f75db",
            "value": " 1.63G/1.63G [00:18&lt;00:00, 93.8MB/s]"
          }
        },
        "e6dfc6d8de4b47e5b52e151bf49a5d89": {
          "model_module": "@jupyter-widgets/base",
          "model_name": "LayoutModel",
          "model_module_version": "1.2.0",
          "state": {
            "_model_module": "@jupyter-widgets/base",
            "_model_module_version": "1.2.0",
            "_model_name": "LayoutModel",
            "_view_count": null,
            "_view_module": "@jupyter-widgets/base",
            "_view_module_version": "1.2.0",
            "_view_name": "LayoutView",
            "align_content": null,
            "align_items": null,
            "align_self": null,
            "border": null,
            "bottom": null,
            "display": null,
            "flex": null,
            "flex_flow": null,
            "grid_area": null,
            "grid_auto_columns": null,
            "grid_auto_flow": null,
            "grid_auto_rows": null,
            "grid_column": null,
            "grid_gap": null,
            "grid_row": null,
            "grid_template_areas": null,
            "grid_template_columns": null,
            "grid_template_rows": null,
            "height": null,
            "justify_content": null,
            "justify_items": null,
            "left": null,
            "margin": null,
            "max_height": null,
            "max_width": null,
            "min_height": null,
            "min_width": null,
            "object_fit": null,
            "object_position": null,
            "order": null,
            "overflow": null,
            "overflow_x": null,
            "overflow_y": null,
            "padding": null,
            "right": null,
            "top": null,
            "visibility": null,
            "width": null
          }
        },
        "fe68316885164836b282f929ea7fd995": {
          "model_module": "@jupyter-widgets/base",
          "model_name": "LayoutModel",
          "model_module_version": "1.2.0",
          "state": {
            "_model_module": "@jupyter-widgets/base",
            "_model_module_version": "1.2.0",
            "_model_name": "LayoutModel",
            "_view_count": null,
            "_view_module": "@jupyter-widgets/base",
            "_view_module_version": "1.2.0",
            "_view_name": "LayoutView",
            "align_content": null,
            "align_items": null,
            "align_self": null,
            "border": null,
            "bottom": null,
            "display": null,
            "flex": null,
            "flex_flow": null,
            "grid_area": null,
            "grid_auto_columns": null,
            "grid_auto_flow": null,
            "grid_auto_rows": null,
            "grid_column": null,
            "grid_gap": null,
            "grid_row": null,
            "grid_template_areas": null,
            "grid_template_columns": null,
            "grid_template_rows": null,
            "height": null,
            "justify_content": null,
            "justify_items": null,
            "left": null,
            "margin": null,
            "max_height": null,
            "max_width": null,
            "min_height": null,
            "min_width": null,
            "object_fit": null,
            "object_position": null,
            "order": null,
            "overflow": null,
            "overflow_x": null,
            "overflow_y": null,
            "padding": null,
            "right": null,
            "top": null,
            "visibility": null,
            "width": null
          }
        },
        "66a08b51767c4ad1bc7bcbde89c338f2": {
          "model_module": "@jupyter-widgets/controls",
          "model_name": "DescriptionStyleModel",
          "model_module_version": "1.5.0",
          "state": {
            "_model_module": "@jupyter-widgets/controls",
            "_model_module_version": "1.5.0",
            "_model_name": "DescriptionStyleModel",
            "_view_count": null,
            "_view_module": "@jupyter-widgets/base",
            "_view_module_version": "1.2.0",
            "_view_name": "StyleView",
            "description_width": ""
          }
        },
        "954f5baaecae4422a7947729123a41a9": {
          "model_module": "@jupyter-widgets/base",
          "model_name": "LayoutModel",
          "model_module_version": "1.2.0",
          "state": {
            "_model_module": "@jupyter-widgets/base",
            "_model_module_version": "1.2.0",
            "_model_name": "LayoutModel",
            "_view_count": null,
            "_view_module": "@jupyter-widgets/base",
            "_view_module_version": "1.2.0",
            "_view_name": "LayoutView",
            "align_content": null,
            "align_items": null,
            "align_self": null,
            "border": null,
            "bottom": null,
            "display": null,
            "flex": null,
            "flex_flow": null,
            "grid_area": null,
            "grid_auto_columns": null,
            "grid_auto_flow": null,
            "grid_auto_rows": null,
            "grid_column": null,
            "grid_gap": null,
            "grid_row": null,
            "grid_template_areas": null,
            "grid_template_columns": null,
            "grid_template_rows": null,
            "height": null,
            "justify_content": null,
            "justify_items": null,
            "left": null,
            "margin": null,
            "max_height": null,
            "max_width": null,
            "min_height": null,
            "min_width": null,
            "object_fit": null,
            "object_position": null,
            "order": null,
            "overflow": null,
            "overflow_x": null,
            "overflow_y": null,
            "padding": null,
            "right": null,
            "top": null,
            "visibility": null,
            "width": null
          }
        },
        "d9b50409b2ab48929c1a1ada6071561a": {
          "model_module": "@jupyter-widgets/controls",
          "model_name": "ProgressStyleModel",
          "model_module_version": "1.5.0",
          "state": {
            "_model_module": "@jupyter-widgets/controls",
            "_model_module_version": "1.5.0",
            "_model_name": "ProgressStyleModel",
            "_view_count": null,
            "_view_module": "@jupyter-widgets/base",
            "_view_module_version": "1.2.0",
            "_view_name": "StyleView",
            "bar_color": null,
            "description_width": ""
          }
        },
        "fe7532b06fef48069f2c20bfbb7b43f7": {
          "model_module": "@jupyter-widgets/base",
          "model_name": "LayoutModel",
          "model_module_version": "1.2.0",
          "state": {
            "_model_module": "@jupyter-widgets/base",
            "_model_module_version": "1.2.0",
            "_model_name": "LayoutModel",
            "_view_count": null,
            "_view_module": "@jupyter-widgets/base",
            "_view_module_version": "1.2.0",
            "_view_name": "LayoutView",
            "align_content": null,
            "align_items": null,
            "align_self": null,
            "border": null,
            "bottom": null,
            "display": null,
            "flex": null,
            "flex_flow": null,
            "grid_area": null,
            "grid_auto_columns": null,
            "grid_auto_flow": null,
            "grid_auto_rows": null,
            "grid_column": null,
            "grid_gap": null,
            "grid_row": null,
            "grid_template_areas": null,
            "grid_template_columns": null,
            "grid_template_rows": null,
            "height": null,
            "justify_content": null,
            "justify_items": null,
            "left": null,
            "margin": null,
            "max_height": null,
            "max_width": null,
            "min_height": null,
            "min_width": null,
            "object_fit": null,
            "object_position": null,
            "order": null,
            "overflow": null,
            "overflow_x": null,
            "overflow_y": null,
            "padding": null,
            "right": null,
            "top": null,
            "visibility": null,
            "width": null
          }
        },
        "ff4348fa6e3340c185362047695f75db": {
          "model_module": "@jupyter-widgets/controls",
          "model_name": "DescriptionStyleModel",
          "model_module_version": "1.5.0",
          "state": {
            "_model_module": "@jupyter-widgets/controls",
            "_model_module_version": "1.5.0",
            "_model_name": "DescriptionStyleModel",
            "_view_count": null,
            "_view_module": "@jupyter-widgets/base",
            "_view_module_version": "1.2.0",
            "_view_name": "StyleView",
            "description_width": ""
          }
        },
        "54e60fed265f43f99de82ba98c83f2c3": {
          "model_module": "@jupyter-widgets/controls",
          "model_name": "HBoxModel",
          "model_module_version": "1.5.0",
          "state": {
            "_dom_classes": [],
            "_model_module": "@jupyter-widgets/controls",
            "_model_module_version": "1.5.0",
            "_model_name": "HBoxModel",
            "_view_count": null,
            "_view_module": "@jupyter-widgets/controls",
            "_view_module_version": "1.5.0",
            "_view_name": "HBoxView",
            "box_style": "",
            "children": [
              "IPY_MODEL_546a66f482644e6a8dab43775248f12b",
              "IPY_MODEL_eabdc32298794117ba4259233fe4252f",
              "IPY_MODEL_ce8f85b4fe9a4baeb0a449bc09bde0ef"
            ],
            "layout": "IPY_MODEL_dc8e4b1fa08b4200ba27c047c9e158a3"
          }
        },
        "546a66f482644e6a8dab43775248f12b": {
          "model_module": "@jupyter-widgets/controls",
          "model_name": "HTMLModel",
          "model_module_version": "1.5.0",
          "state": {
            "_dom_classes": [],
            "_model_module": "@jupyter-widgets/controls",
            "_model_module_version": "1.5.0",
            "_model_name": "HTMLModel",
            "_view_count": null,
            "_view_module": "@jupyter-widgets/controls",
            "_view_module_version": "1.5.0",
            "_view_name": "HTMLView",
            "description": "",
            "description_tooltip": null,
            "layout": "IPY_MODEL_d6e40dbb73444dd99d10e791f392107d",
            "placeholder": "​",
            "style": "IPY_MODEL_a16b76d18b634d509f1c7dfbd2ed4669",
            "value": "generation_config.json: 100%"
          }
        },
        "eabdc32298794117ba4259233fe4252f": {
          "model_module": "@jupyter-widgets/controls",
          "model_name": "FloatProgressModel",
          "model_module_version": "1.5.0",
          "state": {
            "_dom_classes": [],
            "_model_module": "@jupyter-widgets/controls",
            "_model_module_version": "1.5.0",
            "_model_name": "FloatProgressModel",
            "_view_count": null,
            "_view_module": "@jupyter-widgets/controls",
            "_view_module_version": "1.5.0",
            "_view_name": "ProgressView",
            "bar_style": "success",
            "description": "",
            "description_tooltip": null,
            "layout": "IPY_MODEL_cebbe07e9fa8461c8172aa20fd459f39",
            "max": 363,
            "min": 0,
            "orientation": "horizontal",
            "style": "IPY_MODEL_66653551749847c9bbd87ac8fd375ac7",
            "value": 363
          }
        },
        "ce8f85b4fe9a4baeb0a449bc09bde0ef": {
          "model_module": "@jupyter-widgets/controls",
          "model_name": "HTMLModel",
          "model_module_version": "1.5.0",
          "state": {
            "_dom_classes": [],
            "_model_module": "@jupyter-widgets/controls",
            "_model_module_version": "1.5.0",
            "_model_name": "HTMLModel",
            "_view_count": null,
            "_view_module": "@jupyter-widgets/controls",
            "_view_module_version": "1.5.0",
            "_view_name": "HTMLView",
            "description": "",
            "description_tooltip": null,
            "layout": "IPY_MODEL_1de03cfdac0041ab860a4fa4c44a8fdb",
            "placeholder": "​",
            "style": "IPY_MODEL_e5e6320024134b04a6e35fefee52b32e",
            "value": " 363/363 [00:00&lt;00:00, 28.5kB/s]"
          }
        },
        "dc8e4b1fa08b4200ba27c047c9e158a3": {
          "model_module": "@jupyter-widgets/base",
          "model_name": "LayoutModel",
          "model_module_version": "1.2.0",
          "state": {
            "_model_module": "@jupyter-widgets/base",
            "_model_module_version": "1.2.0",
            "_model_name": "LayoutModel",
            "_view_count": null,
            "_view_module": "@jupyter-widgets/base",
            "_view_module_version": "1.2.0",
            "_view_name": "LayoutView",
            "align_content": null,
            "align_items": null,
            "align_self": null,
            "border": null,
            "bottom": null,
            "display": null,
            "flex": null,
            "flex_flow": null,
            "grid_area": null,
            "grid_auto_columns": null,
            "grid_auto_flow": null,
            "grid_auto_rows": null,
            "grid_column": null,
            "grid_gap": null,
            "grid_row": null,
            "grid_template_areas": null,
            "grid_template_columns": null,
            "grid_template_rows": null,
            "height": null,
            "justify_content": null,
            "justify_items": null,
            "left": null,
            "margin": null,
            "max_height": null,
            "max_width": null,
            "min_height": null,
            "min_width": null,
            "object_fit": null,
            "object_position": null,
            "order": null,
            "overflow": null,
            "overflow_x": null,
            "overflow_y": null,
            "padding": null,
            "right": null,
            "top": null,
            "visibility": null,
            "width": null
          }
        },
        "d6e40dbb73444dd99d10e791f392107d": {
          "model_module": "@jupyter-widgets/base",
          "model_name": "LayoutModel",
          "model_module_version": "1.2.0",
          "state": {
            "_model_module": "@jupyter-widgets/base",
            "_model_module_version": "1.2.0",
            "_model_name": "LayoutModel",
            "_view_count": null,
            "_view_module": "@jupyter-widgets/base",
            "_view_module_version": "1.2.0",
            "_view_name": "LayoutView",
            "align_content": null,
            "align_items": null,
            "align_self": null,
            "border": null,
            "bottom": null,
            "display": null,
            "flex": null,
            "flex_flow": null,
            "grid_area": null,
            "grid_auto_columns": null,
            "grid_auto_flow": null,
            "grid_auto_rows": null,
            "grid_column": null,
            "grid_gap": null,
            "grid_row": null,
            "grid_template_areas": null,
            "grid_template_columns": null,
            "grid_template_rows": null,
            "height": null,
            "justify_content": null,
            "justify_items": null,
            "left": null,
            "margin": null,
            "max_height": null,
            "max_width": null,
            "min_height": null,
            "min_width": null,
            "object_fit": null,
            "object_position": null,
            "order": null,
            "overflow": null,
            "overflow_x": null,
            "overflow_y": null,
            "padding": null,
            "right": null,
            "top": null,
            "visibility": null,
            "width": null
          }
        },
        "a16b76d18b634d509f1c7dfbd2ed4669": {
          "model_module": "@jupyter-widgets/controls",
          "model_name": "DescriptionStyleModel",
          "model_module_version": "1.5.0",
          "state": {
            "_model_module": "@jupyter-widgets/controls",
            "_model_module_version": "1.5.0",
            "_model_name": "DescriptionStyleModel",
            "_view_count": null,
            "_view_module": "@jupyter-widgets/base",
            "_view_module_version": "1.2.0",
            "_view_name": "StyleView",
            "description_width": ""
          }
        },
        "cebbe07e9fa8461c8172aa20fd459f39": {
          "model_module": "@jupyter-widgets/base",
          "model_name": "LayoutModel",
          "model_module_version": "1.2.0",
          "state": {
            "_model_module": "@jupyter-widgets/base",
            "_model_module_version": "1.2.0",
            "_model_name": "LayoutModel",
            "_view_count": null,
            "_view_module": "@jupyter-widgets/base",
            "_view_module_version": "1.2.0",
            "_view_name": "LayoutView",
            "align_content": null,
            "align_items": null,
            "align_self": null,
            "border": null,
            "bottom": null,
            "display": null,
            "flex": null,
            "flex_flow": null,
            "grid_area": null,
            "grid_auto_columns": null,
            "grid_auto_flow": null,
            "grid_auto_rows": null,
            "grid_column": null,
            "grid_gap": null,
            "grid_row": null,
            "grid_template_areas": null,
            "grid_template_columns": null,
            "grid_template_rows": null,
            "height": null,
            "justify_content": null,
            "justify_items": null,
            "left": null,
            "margin": null,
            "max_height": null,
            "max_width": null,
            "min_height": null,
            "min_width": null,
            "object_fit": null,
            "object_position": null,
            "order": null,
            "overflow": null,
            "overflow_x": null,
            "overflow_y": null,
            "padding": null,
            "right": null,
            "top": null,
            "visibility": null,
            "width": null
          }
        },
        "66653551749847c9bbd87ac8fd375ac7": {
          "model_module": "@jupyter-widgets/controls",
          "model_name": "ProgressStyleModel",
          "model_module_version": "1.5.0",
          "state": {
            "_model_module": "@jupyter-widgets/controls",
            "_model_module_version": "1.5.0",
            "_model_name": "ProgressStyleModel",
            "_view_count": null,
            "_view_module": "@jupyter-widgets/base",
            "_view_module_version": "1.2.0",
            "_view_name": "StyleView",
            "bar_color": null,
            "description_width": ""
          }
        },
        "1de03cfdac0041ab860a4fa4c44a8fdb": {
          "model_module": "@jupyter-widgets/base",
          "model_name": "LayoutModel",
          "model_module_version": "1.2.0",
          "state": {
            "_model_module": "@jupyter-widgets/base",
            "_model_module_version": "1.2.0",
            "_model_name": "LayoutModel",
            "_view_count": null,
            "_view_module": "@jupyter-widgets/base",
            "_view_module_version": "1.2.0",
            "_view_name": "LayoutView",
            "align_content": null,
            "align_items": null,
            "align_self": null,
            "border": null,
            "bottom": null,
            "display": null,
            "flex": null,
            "flex_flow": null,
            "grid_area": null,
            "grid_auto_columns": null,
            "grid_auto_flow": null,
            "grid_auto_rows": null,
            "grid_column": null,
            "grid_gap": null,
            "grid_row": null,
            "grid_template_areas": null,
            "grid_template_columns": null,
            "grid_template_rows": null,
            "height": null,
            "justify_content": null,
            "justify_items": null,
            "left": null,
            "margin": null,
            "max_height": null,
            "max_width": null,
            "min_height": null,
            "min_width": null,
            "object_fit": null,
            "object_position": null,
            "order": null,
            "overflow": null,
            "overflow_x": null,
            "overflow_y": null,
            "padding": null,
            "right": null,
            "top": null,
            "visibility": null,
            "width": null
          }
        },
        "e5e6320024134b04a6e35fefee52b32e": {
          "model_module": "@jupyter-widgets/controls",
          "model_name": "DescriptionStyleModel",
          "model_module_version": "1.5.0",
          "state": {
            "_model_module": "@jupyter-widgets/controls",
            "_model_module_version": "1.5.0",
            "_model_name": "DescriptionStyleModel",
            "_view_count": null,
            "_view_module": "@jupyter-widgets/base",
            "_view_module_version": "1.2.0",
            "_view_name": "StyleView",
            "description_width": ""
          }
        },
        "f79cf2ff72534bf5b604a62d5346dabb": {
          "model_module": "@jupyter-widgets/controls",
          "model_name": "HBoxModel",
          "model_module_version": "1.5.0",
          "state": {
            "_dom_classes": [],
            "_model_module": "@jupyter-widgets/controls",
            "_model_module_version": "1.5.0",
            "_model_name": "HBoxModel",
            "_view_count": null,
            "_view_module": "@jupyter-widgets/controls",
            "_view_module_version": "1.5.0",
            "_view_name": "HBoxView",
            "box_style": "",
            "children": [
              "IPY_MODEL_58afccc6321c4f2a9a0503fe10d4362a",
              "IPY_MODEL_12a46e2abbdf409592996c70fa94bac6",
              "IPY_MODEL_92ccad31350e45039a0c93a3acc29d58"
            ],
            "layout": "IPY_MODEL_4d4728b078564672bd6bb24e4f77c72b"
          }
        },
        "58afccc6321c4f2a9a0503fe10d4362a": {
          "model_module": "@jupyter-widgets/controls",
          "model_name": "HTMLModel",
          "model_module_version": "1.5.0",
          "state": {
            "_dom_classes": [],
            "_model_module": "@jupyter-widgets/controls",
            "_model_module_version": "1.5.0",
            "_model_name": "HTMLModel",
            "_view_count": null,
            "_view_module": "@jupyter-widgets/controls",
            "_view_module_version": "1.5.0",
            "_view_name": "HTMLView",
            "description": "",
            "description_tooltip": null,
            "layout": "IPY_MODEL_417a4a5d92c242688747fb4bcf192f9a",
            "placeholder": "​",
            "style": "IPY_MODEL_f547ea01cdac4f27909243e38f3a22df",
            "value": "tokenizer_config.json: 100%"
          }
        },
        "12a46e2abbdf409592996c70fa94bac6": {
          "model_module": "@jupyter-widgets/controls",
          "model_name": "FloatProgressModel",
          "model_module_version": "1.5.0",
          "state": {
            "_dom_classes": [],
            "_model_module": "@jupyter-widgets/controls",
            "_model_module_version": "1.5.0",
            "_model_name": "FloatProgressModel",
            "_view_count": null,
            "_view_module": "@jupyter-widgets/controls",
            "_view_module_version": "1.5.0",
            "_view_name": "ProgressView",
            "bar_style": "success",
            "description": "",
            "description_tooltip": null,
            "layout": "IPY_MODEL_92f0ac83201e4f1d9dfc52d2b34c0e0b",
            "max": 88,
            "min": 0,
            "orientation": "horizontal",
            "style": "IPY_MODEL_8a50cdd8522a4add84cd61e5d7acc997",
            "value": 88
          }
        },
        "92ccad31350e45039a0c93a3acc29d58": {
          "model_module": "@jupyter-widgets/controls",
          "model_name": "HTMLModel",
          "model_module_version": "1.5.0",
          "state": {
            "_dom_classes": [],
            "_model_module": "@jupyter-widgets/controls",
            "_model_module_version": "1.5.0",
            "_model_name": "HTMLModel",
            "_view_count": null,
            "_view_module": "@jupyter-widgets/controls",
            "_view_module_version": "1.5.0",
            "_view_name": "HTMLView",
            "description": "",
            "description_tooltip": null,
            "layout": "IPY_MODEL_4645b0279ee74b60a1d6ffcf4ddb8c37",
            "placeholder": "​",
            "style": "IPY_MODEL_9482df8157aa4053a7f133fe7e2eca7c",
            "value": " 88.0/88.0 [00:00&lt;00:00, 1.81kB/s]"
          }
        },
        "4d4728b078564672bd6bb24e4f77c72b": {
          "model_module": "@jupyter-widgets/base",
          "model_name": "LayoutModel",
          "model_module_version": "1.2.0",
          "state": {
            "_model_module": "@jupyter-widgets/base",
            "_model_module_version": "1.2.0",
            "_model_name": "LayoutModel",
            "_view_count": null,
            "_view_module": "@jupyter-widgets/base",
            "_view_module_version": "1.2.0",
            "_view_name": "LayoutView",
            "align_content": null,
            "align_items": null,
            "align_self": null,
            "border": null,
            "bottom": null,
            "display": null,
            "flex": null,
            "flex_flow": null,
            "grid_area": null,
            "grid_auto_columns": null,
            "grid_auto_flow": null,
            "grid_auto_rows": null,
            "grid_column": null,
            "grid_gap": null,
            "grid_row": null,
            "grid_template_areas": null,
            "grid_template_columns": null,
            "grid_template_rows": null,
            "height": null,
            "justify_content": null,
            "justify_items": null,
            "left": null,
            "margin": null,
            "max_height": null,
            "max_width": null,
            "min_height": null,
            "min_width": null,
            "object_fit": null,
            "object_position": null,
            "order": null,
            "overflow": null,
            "overflow_x": null,
            "overflow_y": null,
            "padding": null,
            "right": null,
            "top": null,
            "visibility": null,
            "width": null
          }
        },
        "417a4a5d92c242688747fb4bcf192f9a": {
          "model_module": "@jupyter-widgets/base",
          "model_name": "LayoutModel",
          "model_module_version": "1.2.0",
          "state": {
            "_model_module": "@jupyter-widgets/base",
            "_model_module_version": "1.2.0",
            "_model_name": "LayoutModel",
            "_view_count": null,
            "_view_module": "@jupyter-widgets/base",
            "_view_module_version": "1.2.0",
            "_view_name": "LayoutView",
            "align_content": null,
            "align_items": null,
            "align_self": null,
            "border": null,
            "bottom": null,
            "display": null,
            "flex": null,
            "flex_flow": null,
            "grid_area": null,
            "grid_auto_columns": null,
            "grid_auto_flow": null,
            "grid_auto_rows": null,
            "grid_column": null,
            "grid_gap": null,
            "grid_row": null,
            "grid_template_areas": null,
            "grid_template_columns": null,
            "grid_template_rows": null,
            "height": null,
            "justify_content": null,
            "justify_items": null,
            "left": null,
            "margin": null,
            "max_height": null,
            "max_width": null,
            "min_height": null,
            "min_width": null,
            "object_fit": null,
            "object_position": null,
            "order": null,
            "overflow": null,
            "overflow_x": null,
            "overflow_y": null,
            "padding": null,
            "right": null,
            "top": null,
            "visibility": null,
            "width": null
          }
        },
        "f547ea01cdac4f27909243e38f3a22df": {
          "model_module": "@jupyter-widgets/controls",
          "model_name": "DescriptionStyleModel",
          "model_module_version": "1.5.0",
          "state": {
            "_model_module": "@jupyter-widgets/controls",
            "_model_module_version": "1.5.0",
            "_model_name": "DescriptionStyleModel",
            "_view_count": null,
            "_view_module": "@jupyter-widgets/base",
            "_view_module_version": "1.2.0",
            "_view_name": "StyleView",
            "description_width": ""
          }
        },
        "92f0ac83201e4f1d9dfc52d2b34c0e0b": {
          "model_module": "@jupyter-widgets/base",
          "model_name": "LayoutModel",
          "model_module_version": "1.2.0",
          "state": {
            "_model_module": "@jupyter-widgets/base",
            "_model_module_version": "1.2.0",
            "_model_name": "LayoutModel",
            "_view_count": null,
            "_view_module": "@jupyter-widgets/base",
            "_view_module_version": "1.2.0",
            "_view_name": "LayoutView",
            "align_content": null,
            "align_items": null,
            "align_self": null,
            "border": null,
            "bottom": null,
            "display": null,
            "flex": null,
            "flex_flow": null,
            "grid_area": null,
            "grid_auto_columns": null,
            "grid_auto_flow": null,
            "grid_auto_rows": null,
            "grid_column": null,
            "grid_gap": null,
            "grid_row": null,
            "grid_template_areas": null,
            "grid_template_columns": null,
            "grid_template_rows": null,
            "height": null,
            "justify_content": null,
            "justify_items": null,
            "left": null,
            "margin": null,
            "max_height": null,
            "max_width": null,
            "min_height": null,
            "min_width": null,
            "object_fit": null,
            "object_position": null,
            "order": null,
            "overflow": null,
            "overflow_x": null,
            "overflow_y": null,
            "padding": null,
            "right": null,
            "top": null,
            "visibility": null,
            "width": null
          }
        },
        "8a50cdd8522a4add84cd61e5d7acc997": {
          "model_module": "@jupyter-widgets/controls",
          "model_name": "ProgressStyleModel",
          "model_module_version": "1.5.0",
          "state": {
            "_model_module": "@jupyter-widgets/controls",
            "_model_module_version": "1.5.0",
            "_model_name": "ProgressStyleModel",
            "_view_count": null,
            "_view_module": "@jupyter-widgets/base",
            "_view_module_version": "1.2.0",
            "_view_name": "StyleView",
            "bar_color": null,
            "description_width": ""
          }
        },
        "4645b0279ee74b60a1d6ffcf4ddb8c37": {
          "model_module": "@jupyter-widgets/base",
          "model_name": "LayoutModel",
          "model_module_version": "1.2.0",
          "state": {
            "_model_module": "@jupyter-widgets/base",
            "_model_module_version": "1.2.0",
            "_model_name": "LayoutModel",
            "_view_count": null,
            "_view_module": "@jupyter-widgets/base",
            "_view_module_version": "1.2.0",
            "_view_name": "LayoutView",
            "align_content": null,
            "align_items": null,
            "align_self": null,
            "border": null,
            "bottom": null,
            "display": null,
            "flex": null,
            "flex_flow": null,
            "grid_area": null,
            "grid_auto_columns": null,
            "grid_auto_flow": null,
            "grid_auto_rows": null,
            "grid_column": null,
            "grid_gap": null,
            "grid_row": null,
            "grid_template_areas": null,
            "grid_template_columns": null,
            "grid_template_rows": null,
            "height": null,
            "justify_content": null,
            "justify_items": null,
            "left": null,
            "margin": null,
            "max_height": null,
            "max_width": null,
            "min_height": null,
            "min_width": null,
            "object_fit": null,
            "object_position": null,
            "order": null,
            "overflow": null,
            "overflow_x": null,
            "overflow_y": null,
            "padding": null,
            "right": null,
            "top": null,
            "visibility": null,
            "width": null
          }
        },
        "9482df8157aa4053a7f133fe7e2eca7c": {
          "model_module": "@jupyter-widgets/controls",
          "model_name": "DescriptionStyleModel",
          "model_module_version": "1.5.0",
          "state": {
            "_model_module": "@jupyter-widgets/controls",
            "_model_module_version": "1.5.0",
            "_model_name": "DescriptionStyleModel",
            "_view_count": null,
            "_view_module": "@jupyter-widgets/base",
            "_view_module_version": "1.2.0",
            "_view_name": "StyleView",
            "description_width": ""
          }
        },
        "5004fa23fbb240898f1c114c43099254": {
          "model_module": "@jupyter-widgets/controls",
          "model_name": "HBoxModel",
          "model_module_version": "1.5.0",
          "state": {
            "_dom_classes": [],
            "_model_module": "@jupyter-widgets/controls",
            "_model_module_version": "1.5.0",
            "_model_name": "HBoxModel",
            "_view_count": null,
            "_view_module": "@jupyter-widgets/controls",
            "_view_module_version": "1.5.0",
            "_view_name": "HBoxView",
            "box_style": "",
            "children": [
              "IPY_MODEL_4d65901c6a6f4f83a19188f522d77299",
              "IPY_MODEL_229c00bf16c64505bb16e4ccca06b647",
              "IPY_MODEL_a658af5a503240d2a531a31eba0992e1"
            ],
            "layout": "IPY_MODEL_10eb529edfe7457282cf7390660dc77a"
          }
        },
        "4d65901c6a6f4f83a19188f522d77299": {
          "model_module": "@jupyter-widgets/controls",
          "model_name": "HTMLModel",
          "model_module_version": "1.5.0",
          "state": {
            "_dom_classes": [],
            "_model_module": "@jupyter-widgets/controls",
            "_model_module_version": "1.5.0",
            "_model_name": "HTMLModel",
            "_view_count": null,
            "_view_module": "@jupyter-widgets/controls",
            "_view_module_version": "1.5.0",
            "_view_name": "HTMLView",
            "description": "",
            "description_tooltip": null,
            "layout": "IPY_MODEL_40ab834ce8994c9ca866eaeeb84a3c67",
            "placeholder": "​",
            "style": "IPY_MODEL_764b242a4368422a8822882934d19320",
            "value": "config.json: 100%"
          }
        },
        "229c00bf16c64505bb16e4ccca06b647": {
          "model_module": "@jupyter-widgets/controls",
          "model_name": "FloatProgressModel",
          "model_module_version": "1.5.0",
          "state": {
            "_dom_classes": [],
            "_model_module": "@jupyter-widgets/controls",
            "_model_module_version": "1.5.0",
            "_model_name": "FloatProgressModel",
            "_view_count": null,
            "_view_module": "@jupyter-widgets/controls",
            "_view_module_version": "1.5.0",
            "_view_name": "ProgressView",
            "bar_style": "success",
            "description": "",
            "description_tooltip": null,
            "layout": "IPY_MODEL_a122362b3cbb4bcfa27db1b5d1058527",
            "max": 3094,
            "min": 0,
            "orientation": "horizontal",
            "style": "IPY_MODEL_6a5833763fc14f5089817d9aaad5fe1d",
            "value": 3094
          }
        },
        "a658af5a503240d2a531a31eba0992e1": {
          "model_module": "@jupyter-widgets/controls",
          "model_name": "HTMLModel",
          "model_module_version": "1.5.0",
          "state": {
            "_dom_classes": [],
            "_model_module": "@jupyter-widgets/controls",
            "_model_module_version": "1.5.0",
            "_model_name": "HTMLModel",
            "_view_count": null,
            "_view_module": "@jupyter-widgets/controls",
            "_view_module_version": "1.5.0",
            "_view_name": "HTMLView",
            "description": "",
            "description_tooltip": null,
            "layout": "IPY_MODEL_04b63eb5ad8f432a91c00ba49baa5a8c",
            "placeholder": "​",
            "style": "IPY_MODEL_909c38b52b1542ba953fd8719a8ca190",
            "value": " 3.09k/3.09k [00:00&lt;00:00, 45.7kB/s]"
          }
        },
        "10eb529edfe7457282cf7390660dc77a": {
          "model_module": "@jupyter-widgets/base",
          "model_name": "LayoutModel",
          "model_module_version": "1.2.0",
          "state": {
            "_model_module": "@jupyter-widgets/base",
            "_model_module_version": "1.2.0",
            "_model_name": "LayoutModel",
            "_view_count": null,
            "_view_module": "@jupyter-widgets/base",
            "_view_module_version": "1.2.0",
            "_view_name": "LayoutView",
            "align_content": null,
            "align_items": null,
            "align_self": null,
            "border": null,
            "bottom": null,
            "display": null,
            "flex": null,
            "flex_flow": null,
            "grid_area": null,
            "grid_auto_columns": null,
            "grid_auto_flow": null,
            "grid_auto_rows": null,
            "grid_column": null,
            "grid_gap": null,
            "grid_row": null,
            "grid_template_areas": null,
            "grid_template_columns": null,
            "grid_template_rows": null,
            "height": null,
            "justify_content": null,
            "justify_items": null,
            "left": null,
            "margin": null,
            "max_height": null,
            "max_width": null,
            "min_height": null,
            "min_width": null,
            "object_fit": null,
            "object_position": null,
            "order": null,
            "overflow": null,
            "overflow_x": null,
            "overflow_y": null,
            "padding": null,
            "right": null,
            "top": null,
            "visibility": null,
            "width": null
          }
        },
        "40ab834ce8994c9ca866eaeeb84a3c67": {
          "model_module": "@jupyter-widgets/base",
          "model_name": "LayoutModel",
          "model_module_version": "1.2.0",
          "state": {
            "_model_module": "@jupyter-widgets/base",
            "_model_module_version": "1.2.0",
            "_model_name": "LayoutModel",
            "_view_count": null,
            "_view_module": "@jupyter-widgets/base",
            "_view_module_version": "1.2.0",
            "_view_name": "LayoutView",
            "align_content": null,
            "align_items": null,
            "align_self": null,
            "border": null,
            "bottom": null,
            "display": null,
            "flex": null,
            "flex_flow": null,
            "grid_area": null,
            "grid_auto_columns": null,
            "grid_auto_flow": null,
            "grid_auto_rows": null,
            "grid_column": null,
            "grid_gap": null,
            "grid_row": null,
            "grid_template_areas": null,
            "grid_template_columns": null,
            "grid_template_rows": null,
            "height": null,
            "justify_content": null,
            "justify_items": null,
            "left": null,
            "margin": null,
            "max_height": null,
            "max_width": null,
            "min_height": null,
            "min_width": null,
            "object_fit": null,
            "object_position": null,
            "order": null,
            "overflow": null,
            "overflow_x": null,
            "overflow_y": null,
            "padding": null,
            "right": null,
            "top": null,
            "visibility": null,
            "width": null
          }
        },
        "764b242a4368422a8822882934d19320": {
          "model_module": "@jupyter-widgets/controls",
          "model_name": "DescriptionStyleModel",
          "model_module_version": "1.5.0",
          "state": {
            "_model_module": "@jupyter-widgets/controls",
            "_model_module_version": "1.5.0",
            "_model_name": "DescriptionStyleModel",
            "_view_count": null,
            "_view_module": "@jupyter-widgets/base",
            "_view_module_version": "1.2.0",
            "_view_name": "StyleView",
            "description_width": ""
          }
        },
        "a122362b3cbb4bcfa27db1b5d1058527": {
          "model_module": "@jupyter-widgets/base",
          "model_name": "LayoutModel",
          "model_module_version": "1.2.0",
          "state": {
            "_model_module": "@jupyter-widgets/base",
            "_model_module_version": "1.2.0",
            "_model_name": "LayoutModel",
            "_view_count": null,
            "_view_module": "@jupyter-widgets/base",
            "_view_module_version": "1.2.0",
            "_view_name": "LayoutView",
            "align_content": null,
            "align_items": null,
            "align_self": null,
            "border": null,
            "bottom": null,
            "display": null,
            "flex": null,
            "flex_flow": null,
            "grid_area": null,
            "grid_auto_columns": null,
            "grid_auto_flow": null,
            "grid_auto_rows": null,
            "grid_column": null,
            "grid_gap": null,
            "grid_row": null,
            "grid_template_areas": null,
            "grid_template_columns": null,
            "grid_template_rows": null,
            "height": null,
            "justify_content": null,
            "justify_items": null,
            "left": null,
            "margin": null,
            "max_height": null,
            "max_width": null,
            "min_height": null,
            "min_width": null,
            "object_fit": null,
            "object_position": null,
            "order": null,
            "overflow": null,
            "overflow_x": null,
            "overflow_y": null,
            "padding": null,
            "right": null,
            "top": null,
            "visibility": null,
            "width": null
          }
        },
        "6a5833763fc14f5089817d9aaad5fe1d": {
          "model_module": "@jupyter-widgets/controls",
          "model_name": "ProgressStyleModel",
          "model_module_version": "1.5.0",
          "state": {
            "_model_module": "@jupyter-widgets/controls",
            "_model_module_version": "1.5.0",
            "_model_name": "ProgressStyleModel",
            "_view_count": null,
            "_view_module": "@jupyter-widgets/base",
            "_view_module_version": "1.2.0",
            "_view_name": "StyleView",
            "bar_color": null,
            "description_width": ""
          }
        },
        "04b63eb5ad8f432a91c00ba49baa5a8c": {
          "model_module": "@jupyter-widgets/base",
          "model_name": "LayoutModel",
          "model_module_version": "1.2.0",
          "state": {
            "_model_module": "@jupyter-widgets/base",
            "_model_module_version": "1.2.0",
            "_model_name": "LayoutModel",
            "_view_count": null,
            "_view_module": "@jupyter-widgets/base",
            "_view_module_version": "1.2.0",
            "_view_name": "LayoutView",
            "align_content": null,
            "align_items": null,
            "align_self": null,
            "border": null,
            "bottom": null,
            "display": null,
            "flex": null,
            "flex_flow": null,
            "grid_area": null,
            "grid_auto_columns": null,
            "grid_auto_flow": null,
            "grid_auto_rows": null,
            "grid_column": null,
            "grid_gap": null,
            "grid_row": null,
            "grid_template_areas": null,
            "grid_template_columns": null,
            "grid_template_rows": null,
            "height": null,
            "justify_content": null,
            "justify_items": null,
            "left": null,
            "margin": null,
            "max_height": null,
            "max_width": null,
            "min_height": null,
            "min_width": null,
            "object_fit": null,
            "object_position": null,
            "order": null,
            "overflow": null,
            "overflow_x": null,
            "overflow_y": null,
            "padding": null,
            "right": null,
            "top": null,
            "visibility": null,
            "width": null
          }
        },
        "909c38b52b1542ba953fd8719a8ca190": {
          "model_module": "@jupyter-widgets/controls",
          "model_name": "DescriptionStyleModel",
          "model_module_version": "1.5.0",
          "state": {
            "_model_module": "@jupyter-widgets/controls",
            "_model_module_version": "1.5.0",
            "_model_name": "DescriptionStyleModel",
            "_view_count": null,
            "_view_module": "@jupyter-widgets/base",
            "_view_module_version": "1.2.0",
            "_view_name": "StyleView",
            "description_width": ""
          }
        },
        "ee33ca6db478488e8cb7e8ea701c8d02": {
          "model_module": "@jupyter-widgets/controls",
          "model_name": "HBoxModel",
          "model_module_version": "1.5.0",
          "state": {
            "_dom_classes": [],
            "_model_module": "@jupyter-widgets/controls",
            "_model_module_version": "1.5.0",
            "_model_name": "HBoxModel",
            "_view_count": null,
            "_view_module": "@jupyter-widgets/controls",
            "_view_module_version": "1.5.0",
            "_view_name": "HBoxView",
            "box_style": "",
            "children": [
              "IPY_MODEL_dfd2240fe79d45ae9b934f7e56a6ab21",
              "IPY_MODEL_30486744b6734ad9a5cb7731205dc780",
              "IPY_MODEL_7b98e77cecbd41ddbbdd5158b7dab39f"
            ],
            "layout": "IPY_MODEL_23a8d53b14d542e79d16b990e3954327"
          }
        },
        "dfd2240fe79d45ae9b934f7e56a6ab21": {
          "model_module": "@jupyter-widgets/controls",
          "model_name": "HTMLModel",
          "model_module_version": "1.5.0",
          "state": {
            "_dom_classes": [],
            "_model_module": "@jupyter-widgets/controls",
            "_model_module_version": "1.5.0",
            "_model_name": "HTMLModel",
            "_view_count": null,
            "_view_module": "@jupyter-widgets/controls",
            "_view_module_version": "1.5.0",
            "_view_name": "HTMLView",
            "description": "",
            "description_tooltip": null,
            "layout": "IPY_MODEL_175265f8c1ad42bc824ca6a031f4b9e2",
            "placeholder": "​",
            "style": "IPY_MODEL_a64b663ab5624045bf38bf1ab78bc0f0",
            "value": "spiece.model: 100%"
          }
        },
        "30486744b6734ad9a5cb7731205dc780": {
          "model_module": "@jupyter-widgets/controls",
          "model_name": "FloatProgressModel",
          "model_module_version": "1.5.0",
          "state": {
            "_dom_classes": [],
            "_model_module": "@jupyter-widgets/controls",
            "_model_module_version": "1.5.0",
            "_model_name": "FloatProgressModel",
            "_view_count": null,
            "_view_module": "@jupyter-widgets/controls",
            "_view_module_version": "1.5.0",
            "_view_name": "ProgressView",
            "bar_style": "success",
            "description": "",
            "description_tooltip": null,
            "layout": "IPY_MODEL_b7c15a9881664897acfeafba291fbafe",
            "max": 1912529,
            "min": 0,
            "orientation": "horizontal",
            "style": "IPY_MODEL_d86d4d7c4423434b92857ca9ee456fe4",
            "value": 1912529
          }
        },
        "7b98e77cecbd41ddbbdd5158b7dab39f": {
          "model_module": "@jupyter-widgets/controls",
          "model_name": "HTMLModel",
          "model_module_version": "1.5.0",
          "state": {
            "_dom_classes": [],
            "_model_module": "@jupyter-widgets/controls",
            "_model_module_version": "1.5.0",
            "_model_name": "HTMLModel",
            "_view_count": null,
            "_view_module": "@jupyter-widgets/controls",
            "_view_module_version": "1.5.0",
            "_view_name": "HTMLView",
            "description": "",
            "description_tooltip": null,
            "layout": "IPY_MODEL_9889b1509fde4f69954d91e654589553",
            "placeholder": "​",
            "style": "IPY_MODEL_338420ab3ad74a1e87fcb3bb59b6bdc2",
            "value": " 1.91M/1.91M [00:00&lt;00:00, 18.1MB/s]"
          }
        },
        "23a8d53b14d542e79d16b990e3954327": {
          "model_module": "@jupyter-widgets/base",
          "model_name": "LayoutModel",
          "model_module_version": "1.2.0",
          "state": {
            "_model_module": "@jupyter-widgets/base",
            "_model_module_version": "1.2.0",
            "_model_name": "LayoutModel",
            "_view_count": null,
            "_view_module": "@jupyter-widgets/base",
            "_view_module_version": "1.2.0",
            "_view_name": "LayoutView",
            "align_content": null,
            "align_items": null,
            "align_self": null,
            "border": null,
            "bottom": null,
            "display": null,
            "flex": null,
            "flex_flow": null,
            "grid_area": null,
            "grid_auto_columns": null,
            "grid_auto_flow": null,
            "grid_auto_rows": null,
            "grid_column": null,
            "grid_gap": null,
            "grid_row": null,
            "grid_template_areas": null,
            "grid_template_columns": null,
            "grid_template_rows": null,
            "height": null,
            "justify_content": null,
            "justify_items": null,
            "left": null,
            "margin": null,
            "max_height": null,
            "max_width": null,
            "min_height": null,
            "min_width": null,
            "object_fit": null,
            "object_position": null,
            "order": null,
            "overflow": null,
            "overflow_x": null,
            "overflow_y": null,
            "padding": null,
            "right": null,
            "top": null,
            "visibility": null,
            "width": null
          }
        },
        "175265f8c1ad42bc824ca6a031f4b9e2": {
          "model_module": "@jupyter-widgets/base",
          "model_name": "LayoutModel",
          "model_module_version": "1.2.0",
          "state": {
            "_model_module": "@jupyter-widgets/base",
            "_model_module_version": "1.2.0",
            "_model_name": "LayoutModel",
            "_view_count": null,
            "_view_module": "@jupyter-widgets/base",
            "_view_module_version": "1.2.0",
            "_view_name": "LayoutView",
            "align_content": null,
            "align_items": null,
            "align_self": null,
            "border": null,
            "bottom": null,
            "display": null,
            "flex": null,
            "flex_flow": null,
            "grid_area": null,
            "grid_auto_columns": null,
            "grid_auto_flow": null,
            "grid_auto_rows": null,
            "grid_column": null,
            "grid_gap": null,
            "grid_row": null,
            "grid_template_areas": null,
            "grid_template_columns": null,
            "grid_template_rows": null,
            "height": null,
            "justify_content": null,
            "justify_items": null,
            "left": null,
            "margin": null,
            "max_height": null,
            "max_width": null,
            "min_height": null,
            "min_width": null,
            "object_fit": null,
            "object_position": null,
            "order": null,
            "overflow": null,
            "overflow_x": null,
            "overflow_y": null,
            "padding": null,
            "right": null,
            "top": null,
            "visibility": null,
            "width": null
          }
        },
        "a64b663ab5624045bf38bf1ab78bc0f0": {
          "model_module": "@jupyter-widgets/controls",
          "model_name": "DescriptionStyleModel",
          "model_module_version": "1.5.0",
          "state": {
            "_model_module": "@jupyter-widgets/controls",
            "_model_module_version": "1.5.0",
            "_model_name": "DescriptionStyleModel",
            "_view_count": null,
            "_view_module": "@jupyter-widgets/base",
            "_view_module_version": "1.2.0",
            "_view_name": "StyleView",
            "description_width": ""
          }
        },
        "b7c15a9881664897acfeafba291fbafe": {
          "model_module": "@jupyter-widgets/base",
          "model_name": "LayoutModel",
          "model_module_version": "1.2.0",
          "state": {
            "_model_module": "@jupyter-widgets/base",
            "_model_module_version": "1.2.0",
            "_model_name": "LayoutModel",
            "_view_count": null,
            "_view_module": "@jupyter-widgets/base",
            "_view_module_version": "1.2.0",
            "_view_name": "LayoutView",
            "align_content": null,
            "align_items": null,
            "align_self": null,
            "border": null,
            "bottom": null,
            "display": null,
            "flex": null,
            "flex_flow": null,
            "grid_area": null,
            "grid_auto_columns": null,
            "grid_auto_flow": null,
            "grid_auto_rows": null,
            "grid_column": null,
            "grid_gap": null,
            "grid_row": null,
            "grid_template_areas": null,
            "grid_template_columns": null,
            "grid_template_rows": null,
            "height": null,
            "justify_content": null,
            "justify_items": null,
            "left": null,
            "margin": null,
            "max_height": null,
            "max_width": null,
            "min_height": null,
            "min_width": null,
            "object_fit": null,
            "object_position": null,
            "order": null,
            "overflow": null,
            "overflow_x": null,
            "overflow_y": null,
            "padding": null,
            "right": null,
            "top": null,
            "visibility": null,
            "width": null
          }
        },
        "d86d4d7c4423434b92857ca9ee456fe4": {
          "model_module": "@jupyter-widgets/controls",
          "model_name": "ProgressStyleModel",
          "model_module_version": "1.5.0",
          "state": {
            "_model_module": "@jupyter-widgets/controls",
            "_model_module_version": "1.5.0",
            "_model_name": "ProgressStyleModel",
            "_view_count": null,
            "_view_module": "@jupyter-widgets/base",
            "_view_module_version": "1.2.0",
            "_view_name": "StyleView",
            "bar_color": null,
            "description_width": ""
          }
        },
        "9889b1509fde4f69954d91e654589553": {
          "model_module": "@jupyter-widgets/base",
          "model_name": "LayoutModel",
          "model_module_version": "1.2.0",
          "state": {
            "_model_module": "@jupyter-widgets/base",
            "_model_module_version": "1.2.0",
            "_model_name": "LayoutModel",
            "_view_count": null,
            "_view_module": "@jupyter-widgets/base",
            "_view_module_version": "1.2.0",
            "_view_name": "LayoutView",
            "align_content": null,
            "align_items": null,
            "align_self": null,
            "border": null,
            "bottom": null,
            "display": null,
            "flex": null,
            "flex_flow": null,
            "grid_area": null,
            "grid_auto_columns": null,
            "grid_auto_flow": null,
            "grid_auto_rows": null,
            "grid_column": null,
            "grid_gap": null,
            "grid_row": null,
            "grid_template_areas": null,
            "grid_template_columns": null,
            "grid_template_rows": null,
            "height": null,
            "justify_content": null,
            "justify_items": null,
            "left": null,
            "margin": null,
            "max_height": null,
            "max_width": null,
            "min_height": null,
            "min_width": null,
            "object_fit": null,
            "object_position": null,
            "order": null,
            "overflow": null,
            "overflow_x": null,
            "overflow_y": null,
            "padding": null,
            "right": null,
            "top": null,
            "visibility": null,
            "width": null
          }
        },
        "338420ab3ad74a1e87fcb3bb59b6bdc2": {
          "model_module": "@jupyter-widgets/controls",
          "model_name": "DescriptionStyleModel",
          "model_module_version": "1.5.0",
          "state": {
            "_model_module": "@jupyter-widgets/controls",
            "_model_module_version": "1.5.0",
            "_model_name": "DescriptionStyleModel",
            "_view_count": null,
            "_view_module": "@jupyter-widgets/base",
            "_view_module_version": "1.2.0",
            "_view_name": "StyleView",
            "description_width": ""
          }
        },
        "c73ba5725aff4122879087d788834b7c": {
          "model_module": "@jupyter-widgets/controls",
          "model_name": "HBoxModel",
          "model_module_version": "1.5.0",
          "state": {
            "_dom_classes": [],
            "_model_module": "@jupyter-widgets/controls",
            "_model_module_version": "1.5.0",
            "_model_name": "HBoxModel",
            "_view_count": null,
            "_view_module": "@jupyter-widgets/controls",
            "_view_module_version": "1.5.0",
            "_view_name": "HBoxView",
            "box_style": "",
            "children": [
              "IPY_MODEL_9b680e5fef4e4f8282f4b4f513f6a7d6",
              "IPY_MODEL_e7df4fb8034e415b9255d89a5d1db31a",
              "IPY_MODEL_ba6380c16c2d4349babf31902b70286f"
            ],
            "layout": "IPY_MODEL_d80787f04de44959b068cd3e8161e570"
          }
        },
        "9b680e5fef4e4f8282f4b4f513f6a7d6": {
          "model_module": "@jupyter-widgets/controls",
          "model_name": "HTMLModel",
          "model_module_version": "1.5.0",
          "state": {
            "_dom_classes": [],
            "_model_module": "@jupyter-widgets/controls",
            "_model_module_version": "1.5.0",
            "_model_name": "HTMLModel",
            "_view_count": null,
            "_view_module": "@jupyter-widgets/controls",
            "_view_module_version": "1.5.0",
            "_view_name": "HTMLView",
            "description": "",
            "description_tooltip": null,
            "layout": "IPY_MODEL_6b6ffd21abf04e0c9d7252f2dc3d0823",
            "placeholder": "​",
            "style": "IPY_MODEL_ccde708bf1e64c6cae3d8e28904a09c4",
            "value": "special_tokens_map.json: 100%"
          }
        },
        "e7df4fb8034e415b9255d89a5d1db31a": {
          "model_module": "@jupyter-widgets/controls",
          "model_name": "FloatProgressModel",
          "model_module_version": "1.5.0",
          "state": {
            "_dom_classes": [],
            "_model_module": "@jupyter-widgets/controls",
            "_model_module_version": "1.5.0",
            "_model_name": "FloatProgressModel",
            "_view_count": null,
            "_view_module": "@jupyter-widgets/controls",
            "_view_module_version": "1.5.0",
            "_view_name": "ProgressView",
            "bar_style": "success",
            "description": "",
            "description_tooltip": null,
            "layout": "IPY_MODEL_c4db95310af340d7ad57c05872e47442",
            "max": 65,
            "min": 0,
            "orientation": "horizontal",
            "style": "IPY_MODEL_60e46518689544a49fa3548d8f084f46",
            "value": 65
          }
        },
        "ba6380c16c2d4349babf31902b70286f": {
          "model_module": "@jupyter-widgets/controls",
          "model_name": "HTMLModel",
          "model_module_version": "1.5.0",
          "state": {
            "_dom_classes": [],
            "_model_module": "@jupyter-widgets/controls",
            "_model_module_version": "1.5.0",
            "_model_name": "HTMLModel",
            "_view_count": null,
            "_view_module": "@jupyter-widgets/controls",
            "_view_module_version": "1.5.0",
            "_view_name": "HTMLView",
            "description": "",
            "description_tooltip": null,
            "layout": "IPY_MODEL_dcd752cbe79c43a88175da81c9f691a7",
            "placeholder": "​",
            "style": "IPY_MODEL_c7c745a39b124cf49c849c78e6e38fee",
            "value": " 65.0/65.0 [00:00&lt;00:00, 1.17kB/s]"
          }
        },
        "d80787f04de44959b068cd3e8161e570": {
          "model_module": "@jupyter-widgets/base",
          "model_name": "LayoutModel",
          "model_module_version": "1.2.0",
          "state": {
            "_model_module": "@jupyter-widgets/base",
            "_model_module_version": "1.2.0",
            "_model_name": "LayoutModel",
            "_view_count": null,
            "_view_module": "@jupyter-widgets/base",
            "_view_module_version": "1.2.0",
            "_view_name": "LayoutView",
            "align_content": null,
            "align_items": null,
            "align_self": null,
            "border": null,
            "bottom": null,
            "display": null,
            "flex": null,
            "flex_flow": null,
            "grid_area": null,
            "grid_auto_columns": null,
            "grid_auto_flow": null,
            "grid_auto_rows": null,
            "grid_column": null,
            "grid_gap": null,
            "grid_row": null,
            "grid_template_areas": null,
            "grid_template_columns": null,
            "grid_template_rows": null,
            "height": null,
            "justify_content": null,
            "justify_items": null,
            "left": null,
            "margin": null,
            "max_height": null,
            "max_width": null,
            "min_height": null,
            "min_width": null,
            "object_fit": null,
            "object_position": null,
            "order": null,
            "overflow": null,
            "overflow_x": null,
            "overflow_y": null,
            "padding": null,
            "right": null,
            "top": null,
            "visibility": null,
            "width": null
          }
        },
        "6b6ffd21abf04e0c9d7252f2dc3d0823": {
          "model_module": "@jupyter-widgets/base",
          "model_name": "LayoutModel",
          "model_module_version": "1.2.0",
          "state": {
            "_model_module": "@jupyter-widgets/base",
            "_model_module_version": "1.2.0",
            "_model_name": "LayoutModel",
            "_view_count": null,
            "_view_module": "@jupyter-widgets/base",
            "_view_module_version": "1.2.0",
            "_view_name": "LayoutView",
            "align_content": null,
            "align_items": null,
            "align_self": null,
            "border": null,
            "bottom": null,
            "display": null,
            "flex": null,
            "flex_flow": null,
            "grid_area": null,
            "grid_auto_columns": null,
            "grid_auto_flow": null,
            "grid_auto_rows": null,
            "grid_column": null,
            "grid_gap": null,
            "grid_row": null,
            "grid_template_areas": null,
            "grid_template_columns": null,
            "grid_template_rows": null,
            "height": null,
            "justify_content": null,
            "justify_items": null,
            "left": null,
            "margin": null,
            "max_height": null,
            "max_width": null,
            "min_height": null,
            "min_width": null,
            "object_fit": null,
            "object_position": null,
            "order": null,
            "overflow": null,
            "overflow_x": null,
            "overflow_y": null,
            "padding": null,
            "right": null,
            "top": null,
            "visibility": null,
            "width": null
          }
        },
        "ccde708bf1e64c6cae3d8e28904a09c4": {
          "model_module": "@jupyter-widgets/controls",
          "model_name": "DescriptionStyleModel",
          "model_module_version": "1.5.0",
          "state": {
            "_model_module": "@jupyter-widgets/controls",
            "_model_module_version": "1.5.0",
            "_model_name": "DescriptionStyleModel",
            "_view_count": null,
            "_view_module": "@jupyter-widgets/base",
            "_view_module_version": "1.2.0",
            "_view_name": "StyleView",
            "description_width": ""
          }
        },
        "c4db95310af340d7ad57c05872e47442": {
          "model_module": "@jupyter-widgets/base",
          "model_name": "LayoutModel",
          "model_module_version": "1.2.0",
          "state": {
            "_model_module": "@jupyter-widgets/base",
            "_model_module_version": "1.2.0",
            "_model_name": "LayoutModel",
            "_view_count": null,
            "_view_module": "@jupyter-widgets/base",
            "_view_module_version": "1.2.0",
            "_view_name": "LayoutView",
            "align_content": null,
            "align_items": null,
            "align_self": null,
            "border": null,
            "bottom": null,
            "display": null,
            "flex": null,
            "flex_flow": null,
            "grid_area": null,
            "grid_auto_columns": null,
            "grid_auto_flow": null,
            "grid_auto_rows": null,
            "grid_column": null,
            "grid_gap": null,
            "grid_row": null,
            "grid_template_areas": null,
            "grid_template_columns": null,
            "grid_template_rows": null,
            "height": null,
            "justify_content": null,
            "justify_items": null,
            "left": null,
            "margin": null,
            "max_height": null,
            "max_width": null,
            "min_height": null,
            "min_width": null,
            "object_fit": null,
            "object_position": null,
            "order": null,
            "overflow": null,
            "overflow_x": null,
            "overflow_y": null,
            "padding": null,
            "right": null,
            "top": null,
            "visibility": null,
            "width": null
          }
        },
        "60e46518689544a49fa3548d8f084f46": {
          "model_module": "@jupyter-widgets/controls",
          "model_name": "ProgressStyleModel",
          "model_module_version": "1.5.0",
          "state": {
            "_model_module": "@jupyter-widgets/controls",
            "_model_module_version": "1.5.0",
            "_model_name": "ProgressStyleModel",
            "_view_count": null,
            "_view_module": "@jupyter-widgets/base",
            "_view_module_version": "1.2.0",
            "_view_name": "StyleView",
            "bar_color": null,
            "description_width": ""
          }
        },
        "dcd752cbe79c43a88175da81c9f691a7": {
          "model_module": "@jupyter-widgets/base",
          "model_name": "LayoutModel",
          "model_module_version": "1.2.0",
          "state": {
            "_model_module": "@jupyter-widgets/base",
            "_model_module_version": "1.2.0",
            "_model_name": "LayoutModel",
            "_view_count": null,
            "_view_module": "@jupyter-widgets/base",
            "_view_module_version": "1.2.0",
            "_view_name": "LayoutView",
            "align_content": null,
            "align_items": null,
            "align_self": null,
            "border": null,
            "bottom": null,
            "display": null,
            "flex": null,
            "flex_flow": null,
            "grid_area": null,
            "grid_auto_columns": null,
            "grid_auto_flow": null,
            "grid_auto_rows": null,
            "grid_column": null,
            "grid_gap": null,
            "grid_row": null,
            "grid_template_areas": null,
            "grid_template_columns": null,
            "grid_template_rows": null,
            "height": null,
            "justify_content": null,
            "justify_items": null,
            "left": null,
            "margin": null,
            "max_height": null,
            "max_width": null,
            "min_height": null,
            "min_width": null,
            "object_fit": null,
            "object_position": null,
            "order": null,
            "overflow": null,
            "overflow_x": null,
            "overflow_y": null,
            "padding": null,
            "right": null,
            "top": null,
            "visibility": null,
            "width": null
          }
        },
        "c7c745a39b124cf49c849c78e6e38fee": {
          "model_module": "@jupyter-widgets/controls",
          "model_name": "DescriptionStyleModel",
          "model_module_version": "1.5.0",
          "state": {
            "_model_module": "@jupyter-widgets/controls",
            "_model_module_version": "1.5.0",
            "_model_name": "DescriptionStyleModel",
            "_view_count": null,
            "_view_module": "@jupyter-widgets/base",
            "_view_module_version": "1.2.0",
            "_view_name": "StyleView",
            "description_width": ""
          }
        },
        "bb46dbfbf6674b3aa975bdeb7f02a91e": {
          "model_module": "@jupyter-widgets/controls",
          "model_name": "HBoxModel",
          "model_module_version": "1.5.0",
          "state": {
            "_dom_classes": [],
            "_model_module": "@jupyter-widgets/controls",
            "_model_module_version": "1.5.0",
            "_model_name": "HBoxModel",
            "_view_count": null,
            "_view_module": "@jupyter-widgets/controls",
            "_view_module_version": "1.5.0",
            "_view_name": "HBoxView",
            "box_style": "",
            "children": [
              "IPY_MODEL_5556209f89314d4c8bade12c7b417cdb",
              "IPY_MODEL_54a9c20e0b064aa79b5451f11e854e3a",
              "IPY_MODEL_5d0737fe60d74203b8f542835f7d67f5"
            ],
            "layout": "IPY_MODEL_a459d2dec37142ffb48cc96a18f1fd53"
          }
        },
        "5556209f89314d4c8bade12c7b417cdb": {
          "model_module": "@jupyter-widgets/controls",
          "model_name": "HTMLModel",
          "model_module_version": "1.5.0",
          "state": {
            "_dom_classes": [],
            "_model_module": "@jupyter-widgets/controls",
            "_model_module_version": "1.5.0",
            "_model_name": "HTMLModel",
            "_view_count": null,
            "_view_module": "@jupyter-widgets/controls",
            "_view_module_version": "1.5.0",
            "_view_name": "HTMLView",
            "description": "",
            "description_tooltip": null,
            "layout": "IPY_MODEL_75c9db8e9d09498aba294c9f95e07c4d",
            "placeholder": "​",
            "style": "IPY_MODEL_133331384f214267a459145dcfb1e733",
            "value": "pytorch_model.bin: 100%"
          }
        },
        "54a9c20e0b064aa79b5451f11e854e3a": {
          "model_module": "@jupyter-widgets/controls",
          "model_name": "FloatProgressModel",
          "model_module_version": "1.5.0",
          "state": {
            "_dom_classes": [],
            "_model_module": "@jupyter-widgets/controls",
            "_model_module_version": "1.5.0",
            "_model_name": "FloatProgressModel",
            "_view_count": null,
            "_view_module": "@jupyter-widgets/controls",
            "_view_module_version": "1.5.0",
            "_view_name": "ProgressView",
            "bar_style": "success",
            "description": "",
            "description_tooltip": null,
            "layout": "IPY_MODEL_6d163974471d4b7a9daede1d39931a2c",
            "max": 2275327883,
            "min": 0,
            "orientation": "horizontal",
            "style": "IPY_MODEL_f8a3146c3ec344fab8060cddd96267ae",
            "value": 2275327883
          }
        },
        "5d0737fe60d74203b8f542835f7d67f5": {
          "model_module": "@jupyter-widgets/controls",
          "model_name": "HTMLModel",
          "model_module_version": "1.5.0",
          "state": {
            "_dom_classes": [],
            "_model_module": "@jupyter-widgets/controls",
            "_model_module_version": "1.5.0",
            "_model_name": "HTMLModel",
            "_view_count": null,
            "_view_module": "@jupyter-widgets/controls",
            "_view_module_version": "1.5.0",
            "_view_name": "HTMLView",
            "description": "",
            "description_tooltip": null,
            "layout": "IPY_MODEL_6372d27c045843bcaebb220a7199f82d",
            "placeholder": "​",
            "style": "IPY_MODEL_2341776e95d742e5a62310a2eb50b9ef",
            "value": " 2.28G/2.28G [00:23&lt;00:00, 133MB/s]"
          }
        },
        "a459d2dec37142ffb48cc96a18f1fd53": {
          "model_module": "@jupyter-widgets/base",
          "model_name": "LayoutModel",
          "model_module_version": "1.2.0",
          "state": {
            "_model_module": "@jupyter-widgets/base",
            "_model_module_version": "1.2.0",
            "_model_name": "LayoutModel",
            "_view_count": null,
            "_view_module": "@jupyter-widgets/base",
            "_view_module_version": "1.2.0",
            "_view_name": "LayoutView",
            "align_content": null,
            "align_items": null,
            "align_self": null,
            "border": null,
            "bottom": null,
            "display": null,
            "flex": null,
            "flex_flow": null,
            "grid_area": null,
            "grid_auto_columns": null,
            "grid_auto_flow": null,
            "grid_auto_rows": null,
            "grid_column": null,
            "grid_gap": null,
            "grid_row": null,
            "grid_template_areas": null,
            "grid_template_columns": null,
            "grid_template_rows": null,
            "height": null,
            "justify_content": null,
            "justify_items": null,
            "left": null,
            "margin": null,
            "max_height": null,
            "max_width": null,
            "min_height": null,
            "min_width": null,
            "object_fit": null,
            "object_position": null,
            "order": null,
            "overflow": null,
            "overflow_x": null,
            "overflow_y": null,
            "padding": null,
            "right": null,
            "top": null,
            "visibility": null,
            "width": null
          }
        },
        "75c9db8e9d09498aba294c9f95e07c4d": {
          "model_module": "@jupyter-widgets/base",
          "model_name": "LayoutModel",
          "model_module_version": "1.2.0",
          "state": {
            "_model_module": "@jupyter-widgets/base",
            "_model_module_version": "1.2.0",
            "_model_name": "LayoutModel",
            "_view_count": null,
            "_view_module": "@jupyter-widgets/base",
            "_view_module_version": "1.2.0",
            "_view_name": "LayoutView",
            "align_content": null,
            "align_items": null,
            "align_self": null,
            "border": null,
            "bottom": null,
            "display": null,
            "flex": null,
            "flex_flow": null,
            "grid_area": null,
            "grid_auto_columns": null,
            "grid_auto_flow": null,
            "grid_auto_rows": null,
            "grid_column": null,
            "grid_gap": null,
            "grid_row": null,
            "grid_template_areas": null,
            "grid_template_columns": null,
            "grid_template_rows": null,
            "height": null,
            "justify_content": null,
            "justify_items": null,
            "left": null,
            "margin": null,
            "max_height": null,
            "max_width": null,
            "min_height": null,
            "min_width": null,
            "object_fit": null,
            "object_position": null,
            "order": null,
            "overflow": null,
            "overflow_x": null,
            "overflow_y": null,
            "padding": null,
            "right": null,
            "top": null,
            "visibility": null,
            "width": null
          }
        },
        "133331384f214267a459145dcfb1e733": {
          "model_module": "@jupyter-widgets/controls",
          "model_name": "DescriptionStyleModel",
          "model_module_version": "1.5.0",
          "state": {
            "_model_module": "@jupyter-widgets/controls",
            "_model_module_version": "1.5.0",
            "_model_name": "DescriptionStyleModel",
            "_view_count": null,
            "_view_module": "@jupyter-widgets/base",
            "_view_module_version": "1.2.0",
            "_view_name": "StyleView",
            "description_width": ""
          }
        },
        "6d163974471d4b7a9daede1d39931a2c": {
          "model_module": "@jupyter-widgets/base",
          "model_name": "LayoutModel",
          "model_module_version": "1.2.0",
          "state": {
            "_model_module": "@jupyter-widgets/base",
            "_model_module_version": "1.2.0",
            "_model_name": "LayoutModel",
            "_view_count": null,
            "_view_module": "@jupyter-widgets/base",
            "_view_module_version": "1.2.0",
            "_view_name": "LayoutView",
            "align_content": null,
            "align_items": null,
            "align_self": null,
            "border": null,
            "bottom": null,
            "display": null,
            "flex": null,
            "flex_flow": null,
            "grid_area": null,
            "grid_auto_columns": null,
            "grid_auto_flow": null,
            "grid_auto_rows": null,
            "grid_column": null,
            "grid_gap": null,
            "grid_row": null,
            "grid_template_areas": null,
            "grid_template_columns": null,
            "grid_template_rows": null,
            "height": null,
            "justify_content": null,
            "justify_items": null,
            "left": null,
            "margin": null,
            "max_height": null,
            "max_width": null,
            "min_height": null,
            "min_width": null,
            "object_fit": null,
            "object_position": null,
            "order": null,
            "overflow": null,
            "overflow_x": null,
            "overflow_y": null,
            "padding": null,
            "right": null,
            "top": null,
            "visibility": null,
            "width": null
          }
        },
        "f8a3146c3ec344fab8060cddd96267ae": {
          "model_module": "@jupyter-widgets/controls",
          "model_name": "ProgressStyleModel",
          "model_module_version": "1.5.0",
          "state": {
            "_model_module": "@jupyter-widgets/controls",
            "_model_module_version": "1.5.0",
            "_model_name": "ProgressStyleModel",
            "_view_count": null,
            "_view_module": "@jupyter-widgets/base",
            "_view_module_version": "1.2.0",
            "_view_name": "StyleView",
            "bar_color": null,
            "description_width": ""
          }
        },
        "6372d27c045843bcaebb220a7199f82d": {
          "model_module": "@jupyter-widgets/base",
          "model_name": "LayoutModel",
          "model_module_version": "1.2.0",
          "state": {
            "_model_module": "@jupyter-widgets/base",
            "_model_module_version": "1.2.0",
            "_model_name": "LayoutModel",
            "_view_count": null,
            "_view_module": "@jupyter-widgets/base",
            "_view_module_version": "1.2.0",
            "_view_name": "LayoutView",
            "align_content": null,
            "align_items": null,
            "align_self": null,
            "border": null,
            "bottom": null,
            "display": null,
            "flex": null,
            "flex_flow": null,
            "grid_area": null,
            "grid_auto_columns": null,
            "grid_auto_flow": null,
            "grid_auto_rows": null,
            "grid_column": null,
            "grid_gap": null,
            "grid_row": null,
            "grid_template_areas": null,
            "grid_template_columns": null,
            "grid_template_rows": null,
            "height": null,
            "justify_content": null,
            "justify_items": null,
            "left": null,
            "margin": null,
            "max_height": null,
            "max_width": null,
            "min_height": null,
            "min_width": null,
            "object_fit": null,
            "object_position": null,
            "order": null,
            "overflow": null,
            "overflow_x": null,
            "overflow_y": null,
            "padding": null,
            "right": null,
            "top": null,
            "visibility": null,
            "width": null
          }
        },
        "2341776e95d742e5a62310a2eb50b9ef": {
          "model_module": "@jupyter-widgets/controls",
          "model_name": "DescriptionStyleModel",
          "model_module_version": "1.5.0",
          "state": {
            "_model_module": "@jupyter-widgets/controls",
            "_model_module_version": "1.5.0",
            "_model_name": "DescriptionStyleModel",
            "_view_count": null,
            "_view_module": "@jupyter-widgets/base",
            "_view_module_version": "1.2.0",
            "_view_name": "StyleView",
            "description_width": ""
          }
        },
        "4e82956089c1436f9f5e685771b5aa85": {
          "model_module": "@jupyter-widgets/controls",
          "model_name": "HBoxModel",
          "model_module_version": "1.5.0",
          "state": {
            "_dom_classes": [],
            "_model_module": "@jupyter-widgets/controls",
            "_model_module_version": "1.5.0",
            "_model_name": "HBoxModel",
            "_view_count": null,
            "_view_module": "@jupyter-widgets/controls",
            "_view_module_version": "1.5.0",
            "_view_name": "HBoxView",
            "box_style": "",
            "children": [
              "IPY_MODEL_576de27db3154a729234c18df29d5e19",
              "IPY_MODEL_9466585b160047b4a7893436b124cf50",
              "IPY_MODEL_8486ad33e64f47ca886aa47c2cc51dc3"
            ],
            "layout": "IPY_MODEL_3f1feb445dc54cb196b6956de383b39e"
          }
        },
        "576de27db3154a729234c18df29d5e19": {
          "model_module": "@jupyter-widgets/controls",
          "model_name": "HTMLModel",
          "model_module_version": "1.5.0",
          "state": {
            "_dom_classes": [],
            "_model_module": "@jupyter-widgets/controls",
            "_model_module_version": "1.5.0",
            "_model_name": "HTMLModel",
            "_view_count": null,
            "_view_module": "@jupyter-widgets/controls",
            "_view_module_version": "1.5.0",
            "_view_name": "HTMLView",
            "description": "",
            "description_tooltip": null,
            "layout": "IPY_MODEL_d63e7d82a00b4c15bcc18ec492cbc8a5",
            "placeholder": "​",
            "style": "IPY_MODEL_8c4fe4449126460ab894942018d05b8f",
            "value": "generation_config.json: 100%"
          }
        },
        "9466585b160047b4a7893436b124cf50": {
          "model_module": "@jupyter-widgets/controls",
          "model_name": "FloatProgressModel",
          "model_module_version": "1.5.0",
          "state": {
            "_dom_classes": [],
            "_model_module": "@jupyter-widgets/controls",
            "_model_module_version": "1.5.0",
            "_model_name": "FloatProgressModel",
            "_view_count": null,
            "_view_module": "@jupyter-widgets/controls",
            "_view_module_version": "1.5.0",
            "_view_name": "ProgressView",
            "bar_style": "success",
            "description": "",
            "description_tooltip": null,
            "layout": "IPY_MODEL_6a27fb4b4657405ebdc257e98c07fe42",
            "max": 260,
            "min": 0,
            "orientation": "horizontal",
            "style": "IPY_MODEL_cc6ccd6f6dc549d6822d27190a3949f6",
            "value": 260
          }
        },
        "8486ad33e64f47ca886aa47c2cc51dc3": {
          "model_module": "@jupyter-widgets/controls",
          "model_name": "HTMLModel",
          "model_module_version": "1.5.0",
          "state": {
            "_dom_classes": [],
            "_model_module": "@jupyter-widgets/controls",
            "_model_module_version": "1.5.0",
            "_model_name": "HTMLModel",
            "_view_count": null,
            "_view_module": "@jupyter-widgets/controls",
            "_view_module_version": "1.5.0",
            "_view_name": "HTMLView",
            "description": "",
            "description_tooltip": null,
            "layout": "IPY_MODEL_7d2852fd54b04bb98b21dd06d135c0b4",
            "placeholder": "​",
            "style": "IPY_MODEL_5aa116a189e740b285b4580c300bdafd",
            "value": " 260/260 [00:00&lt;00:00, 8.29kB/s]"
          }
        },
        "3f1feb445dc54cb196b6956de383b39e": {
          "model_module": "@jupyter-widgets/base",
          "model_name": "LayoutModel",
          "model_module_version": "1.2.0",
          "state": {
            "_model_module": "@jupyter-widgets/base",
            "_model_module_version": "1.2.0",
            "_model_name": "LayoutModel",
            "_view_count": null,
            "_view_module": "@jupyter-widgets/base",
            "_view_module_version": "1.2.0",
            "_view_name": "LayoutView",
            "align_content": null,
            "align_items": null,
            "align_self": null,
            "border": null,
            "bottom": null,
            "display": null,
            "flex": null,
            "flex_flow": null,
            "grid_area": null,
            "grid_auto_columns": null,
            "grid_auto_flow": null,
            "grid_auto_rows": null,
            "grid_column": null,
            "grid_gap": null,
            "grid_row": null,
            "grid_template_areas": null,
            "grid_template_columns": null,
            "grid_template_rows": null,
            "height": null,
            "justify_content": null,
            "justify_items": null,
            "left": null,
            "margin": null,
            "max_height": null,
            "max_width": null,
            "min_height": null,
            "min_width": null,
            "object_fit": null,
            "object_position": null,
            "order": null,
            "overflow": null,
            "overflow_x": null,
            "overflow_y": null,
            "padding": null,
            "right": null,
            "top": null,
            "visibility": null,
            "width": null
          }
        },
        "d63e7d82a00b4c15bcc18ec492cbc8a5": {
          "model_module": "@jupyter-widgets/base",
          "model_name": "LayoutModel",
          "model_module_version": "1.2.0",
          "state": {
            "_model_module": "@jupyter-widgets/base",
            "_model_module_version": "1.2.0",
            "_model_name": "LayoutModel",
            "_view_count": null,
            "_view_module": "@jupyter-widgets/base",
            "_view_module_version": "1.2.0",
            "_view_name": "LayoutView",
            "align_content": null,
            "align_items": null,
            "align_self": null,
            "border": null,
            "bottom": null,
            "display": null,
            "flex": null,
            "flex_flow": null,
            "grid_area": null,
            "grid_auto_columns": null,
            "grid_auto_flow": null,
            "grid_auto_rows": null,
            "grid_column": null,
            "grid_gap": null,
            "grid_row": null,
            "grid_template_areas": null,
            "grid_template_columns": null,
            "grid_template_rows": null,
            "height": null,
            "justify_content": null,
            "justify_items": null,
            "left": null,
            "margin": null,
            "max_height": null,
            "max_width": null,
            "min_height": null,
            "min_width": null,
            "object_fit": null,
            "object_position": null,
            "order": null,
            "overflow": null,
            "overflow_x": null,
            "overflow_y": null,
            "padding": null,
            "right": null,
            "top": null,
            "visibility": null,
            "width": null
          }
        },
        "8c4fe4449126460ab894942018d05b8f": {
          "model_module": "@jupyter-widgets/controls",
          "model_name": "DescriptionStyleModel",
          "model_module_version": "1.5.0",
          "state": {
            "_model_module": "@jupyter-widgets/controls",
            "_model_module_version": "1.5.0",
            "_model_name": "DescriptionStyleModel",
            "_view_count": null,
            "_view_module": "@jupyter-widgets/base",
            "_view_module_version": "1.2.0",
            "_view_name": "StyleView",
            "description_width": ""
          }
        },
        "6a27fb4b4657405ebdc257e98c07fe42": {
          "model_module": "@jupyter-widgets/base",
          "model_name": "LayoutModel",
          "model_module_version": "1.2.0",
          "state": {
            "_model_module": "@jupyter-widgets/base",
            "_model_module_version": "1.2.0",
            "_model_name": "LayoutModel",
            "_view_count": null,
            "_view_module": "@jupyter-widgets/base",
            "_view_module_version": "1.2.0",
            "_view_name": "LayoutView",
            "align_content": null,
            "align_items": null,
            "align_self": null,
            "border": null,
            "bottom": null,
            "display": null,
            "flex": null,
            "flex_flow": null,
            "grid_area": null,
            "grid_auto_columns": null,
            "grid_auto_flow": null,
            "grid_auto_rows": null,
            "grid_column": null,
            "grid_gap": null,
            "grid_row": null,
            "grid_template_areas": null,
            "grid_template_columns": null,
            "grid_template_rows": null,
            "height": null,
            "justify_content": null,
            "justify_items": null,
            "left": null,
            "margin": null,
            "max_height": null,
            "max_width": null,
            "min_height": null,
            "min_width": null,
            "object_fit": null,
            "object_position": null,
            "order": null,
            "overflow": null,
            "overflow_x": null,
            "overflow_y": null,
            "padding": null,
            "right": null,
            "top": null,
            "visibility": null,
            "width": null
          }
        },
        "cc6ccd6f6dc549d6822d27190a3949f6": {
          "model_module": "@jupyter-widgets/controls",
          "model_name": "ProgressStyleModel",
          "model_module_version": "1.5.0",
          "state": {
            "_model_module": "@jupyter-widgets/controls",
            "_model_module_version": "1.5.0",
            "_model_name": "ProgressStyleModel",
            "_view_count": null,
            "_view_module": "@jupyter-widgets/base",
            "_view_module_version": "1.2.0",
            "_view_name": "StyleView",
            "bar_color": null,
            "description_width": ""
          }
        },
        "7d2852fd54b04bb98b21dd06d135c0b4": {
          "model_module": "@jupyter-widgets/base",
          "model_name": "LayoutModel",
          "model_module_version": "1.2.0",
          "state": {
            "_model_module": "@jupyter-widgets/base",
            "_model_module_version": "1.2.0",
            "_model_name": "LayoutModel",
            "_view_count": null,
            "_view_module": "@jupyter-widgets/base",
            "_view_module_version": "1.2.0",
            "_view_name": "LayoutView",
            "align_content": null,
            "align_items": null,
            "align_self": null,
            "border": null,
            "bottom": null,
            "display": null,
            "flex": null,
            "flex_flow": null,
            "grid_area": null,
            "grid_auto_columns": null,
            "grid_auto_flow": null,
            "grid_auto_rows": null,
            "grid_column": null,
            "grid_gap": null,
            "grid_row": null,
            "grid_template_areas": null,
            "grid_template_columns": null,
            "grid_template_rows": null,
            "height": null,
            "justify_content": null,
            "justify_items": null,
            "left": null,
            "margin": null,
            "max_height": null,
            "max_width": null,
            "min_height": null,
            "min_width": null,
            "object_fit": null,
            "object_position": null,
            "order": null,
            "overflow": null,
            "overflow_x": null,
            "overflow_y": null,
            "padding": null,
            "right": null,
            "top": null,
            "visibility": null,
            "width": null
          }
        },
        "5aa116a189e740b285b4580c300bdafd": {
          "model_module": "@jupyter-widgets/controls",
          "model_name": "DescriptionStyleModel",
          "model_module_version": "1.5.0",
          "state": {
            "_model_module": "@jupyter-widgets/controls",
            "_model_module_version": "1.5.0",
            "_model_name": "DescriptionStyleModel",
            "_view_count": null,
            "_view_module": "@jupyter-widgets/base",
            "_view_module_version": "1.2.0",
            "_view_name": "StyleView",
            "description_width": ""
          }
        }
      }
    }
  },
  "cells": [
    {
      "cell_type": "code",
      "execution_count": null,
      "metadata": {
        "id": "spX7oboacUbE"
      },
      "outputs": [],
      "source": [
        "import os\n",
        "#change working directory to google drive climate risk\n",
        "os.chdir('/content/drive/My Drive/Climate Risk 2')"
      ]
    },
    {
      "cell_type": "code",
      "source": [
        "!pip install pypdf"
      ],
      "metadata": {
        "colab": {
          "base_uri": "https://localhost:8080/"
        },
        "id": "oK3ecYUXhHMv",
        "outputId": "33a88904-c925-4e29-a62c-97ed7dd85236"
      },
      "execution_count": null,
      "outputs": [
        {
          "output_type": "stream",
          "name": "stdout",
          "text": [
            "Collecting pypdf\n",
            "  Downloading pypdf-4.2.0-py3-none-any.whl (290 kB)\n",
            "\u001b[2K     \u001b[90m━━━━━━━━━━━━━━━━━━━━━━━━━━━━━━━━━━━━━━━━\u001b[0m \u001b[32m290.4/290.4 kB\u001b[0m \u001b[31m2.1 MB/s\u001b[0m eta \u001b[36m0:00:00\u001b[0m\n",
            "\u001b[?25hRequirement already satisfied: typing_extensions>=4.0 in /usr/local/lib/python3.10/dist-packages (from pypdf) (4.11.0)\n",
            "Installing collected packages: pypdf\n",
            "Successfully installed pypdf-4.2.0\n"
          ]
        }
      ]
    },
    {
      "cell_type": "code",
      "source": [
        "from pypdf import PdfReader\n",
        "\n",
        "def read_and_clean_pdf(path):\n",
        "  # reading the pdf document\n",
        "  reader = PdfReader(path)\n",
        "\n",
        "  #List of cleaned pdf\n",
        "  cleaned_pdf_pages = []\n",
        "\n",
        "  number_of_pages = len(reader.pages)\n",
        "\n",
        "  # printing number of pages in pdf file\n",
        "  print(f'number of pdf pages: {number_of_pages}')\n",
        "\n",
        "  for i in range(0, number_of_pages):\n",
        "    page = reader.pages[i]\n",
        "\n",
        "    # extracting text from page\n",
        "    text = page.extract_text()\n",
        "\n",
        "    #check if there is a footer\n",
        "    if '           ' in text:\n",
        "      # Find the index of the long white space indicating the beginning of the footer\n",
        "      index = text.index('           ')\n",
        "\n",
        "      # Get all items before the footer\n",
        "      result = text[:index]\n",
        "\n",
        "      # Split the received result in words\n",
        "      words = result.split()\n",
        "\n",
        "      # Remove the first 9 words 'Guide on climate- related and environmental risks\n",
        "      # 6 2 '\n",
        "      result = ' '.join(words[8:])\n",
        "\n",
        "      cleaned_pdf_pages.append(result)\n",
        "\n",
        "    else:\n",
        "        # Split the received result in words\n",
        "      words = text.split()\n",
        "\n",
        "      # Remove the first 9 words 'Guide on climate- related and environmental risks\n",
        "      # 6 2 '\n",
        "      result = ' '.join(words[8:])\n",
        "\n",
        "      cleaned_pdf_pages.append(result)\n",
        "\n",
        "  return cleaned_pdf_pages\n"
      ],
      "metadata": {
        "id": "-d_BQcIFhEdC"
      },
      "execution_count": null,
      "outputs": []
    },
    {
      "cell_type": "code",
      "source": [
        "#read pdf file\n",
        "cleaned_pdf_pages = read_and_clean_pdf('Policies/cleaned_polices/EU_Central_Bank_Guide_on_climate_related_and_environmental_risks.pdf')\n"
      ],
      "metadata": {
        "colab": {
          "base_uri": "https://localhost:8080/"
        },
        "id": "VdUQaCazvOwu",
        "outputId": "5b8b1c16-baab-45b5-f798-1046aea0c339"
      },
      "execution_count": null,
      "outputs": [
        {
          "output_type": "stream",
          "name": "stdout",
          "text": [
            "number of pdf pages: 41\n"
          ]
        }
      ]
    },
    {
      "cell_type": "code",
      "source": [
        "for i in range(len(cleaned_pdf_pages)):\n",
        "  print(f'page {i + 1} : {cleaned_pdf_pages[i]}')"
      ],
      "metadata": {
        "colab": {
          "base_uri": "https://localhost:8080/"
        },
        "id": "jVlO5uXz2EZq",
        "outputId": "ee60f521-f575-4a0b-df77-836eb9a15eaf"
      },
      "execution_count": null,
      "outputs": [
        {
          "output_type": "stream",
          "name": "stdout",
          "text": [
            "page 1 : 3 Climate -related and environmental risks 3.1 Definitions Climate change and environmental degradation are sources of structural change that affect economic activity and, in turn, the financial system. Climate- related and environmental risks are commonly understood to comprise t wo main risk drivers: • Physical risk refers to the financial impact of a changing climate, including more frequent extreme weather events and gradual changes in climate, as well as of environmental degradation, such as air, water and land pollution, water stress, biodiversity loss and deforestation.10 Physical risk is therefore categorised as “acute” when it arises from extreme events, such as droughts, floods and storms, and “chronic” when it arises from progressive shifts, such as increasing temperatures, sea- level rises, water stress, biodi versity loss, land use change, habitat destruction and resource scarcity.11 This can directly result in, for example, damage to property or reduced productivity, or indirectly lead to subsequent events, such as the disruption of supply chains. • Transition ri sk refers to an institution’s financial loss that can result, directly or indirectly, from the process of adjustment towards a lower -carbon and more environmentally sustainable economy. This could be triggered, for example, by a relatively abrupt adoption of climate and environmental policies, technological progress or changes in market sentiment and preferences. 3.2 Characteristics of climate -related and environmental risks Physical and transition risk drivers impact economic activities, which in turn impact t he financial system. This impact can occur directly, through for example lower corporate profitability or the devaluation of assets, or indirectly, through macro- financial changes.12 These risks also affect the resilience of an institution’s business model over the medium to longer term, and predominantly those institutions with business model s that are reliant on sectors and markets which are particularly vulnerable to climate -related and environmental risks. In addition, physical and transition risks can trigger further losses, stemming directly or indirectly from legal claims (commonly\n",
            "page 2 : referred to as “liability risk”13) and reputational loss as a result of the public, the institution’ s counterparties and/or investors associating the institution with adverse environmental impact s (“reputational risk”). Consequently, physical and transition risks are drivers of existing risk, in particular credit risk, operational risk, market risk and liquidity risk , as well as non- Pillar 1 risks such as migration risk, credi t spread risk in the banking book, real estate risk and strategic risk (see Table 1 ). Climate- related and environmental risks may, in fact, be drive rs of several different risk categories and sub- categories of existing risk categories simultaneously . The m agnitude and distribution of physical and transition r isks depend on the level and timing of mitigation measures and whether the transition occurs in an orderly or disorderly fashion. Potential losses stemming from climate- related and environmental risks d epend especially on the future adoption of climate- related and environmental policies, technological developments and changes in consumer preferences and market sentiment. Irrespective of this, some combination of physical and transition risks will, in all probability, materialise on the balance sheets of euro area institutions and the economic value of their exposures .14 Existing estimates of adverse long- term macroeconomic effects resulting from climate change point to significant and lasting losses in wea lth. These may be due to slowing investment and lower factor productivity in many sectors of the economy, as well as reduced potential GDP growth.15\n",
            "page 3 : Table 1 Examples of climate- related and environmental risk drivers Risks affected Physical Transition Climate -related Environmental Climate -related Environmental • Extreme weather events • Chronic weather patterns • Water stress • Resource scarcity • Biodiversity loss • Pollution • Other • Policy and regulation • Technology • Market sentiment • Policy and regulation • Technology • Market sentiment Credit The probabilities of default (PD) and loss given default (LGD) of exposures within sectors or geographies vulnerable to physical risk may be impacted, for example, through lower collateral valuations in real estate portf olios as a result of increased flood risk. Energy efficiency standards may trigger substantial adaptation costs and lower corporate profitability, which may lead to a higher PD as well as lower collateral values. Market Severe physical events may lead to shifts in market expectations and could result in sudden repricing, higher volatility and losses in asset values on some markets. Transition risk drivers may generate an abrupt repricing of securities and derivatives, for example for products associated wi th industries affected by asset stranding. Operational The bank’s operations may be disrupted due to physical damage to its property, branches and data centres as a result of extreme weather events. Changing consumer sentiment regarding climate issues can lead to reputation and liability risks for the bank as a result of scandals caused by the financing of environmentally controversial activities. Other risk types (liquidity, business model) Liquidity risk may be affected in the event of clients withdrawi ng money from their accounts in order to finance damage repairs. Transition risk drivers may affect the viability of some business lines and lead to strategic risk for specific business models if the necessary adaptation or diversification is not implement ed. An abrupt repricing of securities , for instance due to asset stranding, may reduce the value of banks’ high quality liquid assets, thereby affecting liquidity buffers. Source: ECB. Methodologies to estimate the magnitude of climate- related risks for the financial system in general, and institutions specifically are being developed rapidly. Available estimates suggest that both physical16 and transition17 risks are likely to be signific ant. Although the majority of studies have focused on climate- related risks , such as the decline in asset values across carbon- intensive sectors, other environmental factors related to the loss of ecosystem services, such as water stress, biodiversity loss and resource scarcity , have also been shown to drive financial risk.18 19 There is also evidence of an interconnection between climate- related\n",
            "page 4 : change and environmental risks , resulting in combined effects capable of potentially generat ing even greater impacts.20 Climate- related and environmental risks have distinctive characteristics that warrant particular consideration by supervisors and institutions alike. These characteristics include the far -reaching impact in breadth and magnitude, an uncertain and longer -term time horizon and the dependency on short -term action.21 Climate change has a far -reaching impact in terms of the business activities and geographic areas affected. Sectors that are more likely to be physically impacted are, amongst others, agri culture, forestry, fisheries, human health, energy , mining, transport and infrastructure, and tourism. Sectors that are likely to be impacted by the transition to a low -carbon economy include energy, transport, manufacturing, construction and agriculture.22 In particular, assets that are directly or indirectly associated with the extraction, processing, combustion or use of fossil fuels, or which are not sufficiently energy efficient, may suddenly and significantly decrease in value or even become “stranded assets” .23 Geographically, the impact of climate change is expected to vary substantially across the world. The European Environment Agency concludes that, in Europe, the most costly effects in southern Europe are projected to be increases in energy demand and heat waves, in western Europe coastal flooding and heat waves, in northern Europe coastal and river flooding, and in eastern Europe river flooding.24 The impact may differ considerably across given sectors and given geographic areas. Climate- related and environmental risks for euro area institutions are expected to primarily materialise in the medium to long term.25 As the planning horizon and average loan tenor for institutions is typically shorter than the time horizon in which the effects of climate- related change and environmental degradation would primarily arise ,26 it is important for institutions to take a forward- looking approach and consider a longer than usual time horizon. In addition, adopting a forward- looking perspective enables institutions t o respond in a timely manner should the pace of the transition to a low -carbon economy accelerate and transition risks materialise more rapidly than expected.\n",
            "page 5 : 3.3 Observations from stocktakes The ECB performed a number of assessments to take stock of how euro area institutions are addressing climate- related and environmental risks, mainly through targeted surveys among samples of euro area institutions27, the assessment of euro area institutions’ public disclosures, as well as through the analysis of a sample of ICAAP submissions. The evidence collected has inform ed the content of this guide. While the approach towards climate- related and environmental risks varies depending on the size, business model, complexity and geographic location of the institutions, the aforementioned assessments demonstrate that institutions have predominantly approached the topic from the perspective of corporate social responsibility and have yet to develop a comprehensive risk management approach. According to a survey conducted joint ly by the ECB and the EBA, institutions broadly acknowledge the materiality of physical and transition risks and the increasing need to assess and incorporate climate- related and environmental risks into their risk management processes. Despite the fact that the majority of institutions have implemented one or more sustainability policies28, most of the institutions do not have the tools to assess the impact of climate- related and environmental risks on their balance sheet. More specifically, only a small number of institutions have fully incorporated climate- related and environmental risks into their risk management framework, through for instance a risk measurement approach, by defining their risk appetite, performing stress tests and scenario analyses and/ or assessing the impact on their capital adequacy. The ECB sees that institutions are increasingly involved in joint industry initiatives aimed at developing adequate methodologies and obtaining the necessary data. The assessment of a sample of significant institutions’ ICAAP packages shows that institutions’ practices are heterogeneous. Many institutions consider climate- related risks in their risk identification processes and/or have policies to exclude certain sectors from lending/investing based on envi ronmental criteria. However, climate -related risk taxonomies are very heterogeneous. If at all, climate- related risks are typically integrated within existing risk categories, such as credit risk, business/strategic risk or operational/reputational risk. A pproaches to assess their materiality, however, are limited in terms of depth and sophistication. Some institutions are beginning to set limits based on quantitative indicators. Only a few institutions include climate- related risks in their stress testing and reverse stress -testing scenarios, and the practice of assessing the capital impact and the capital requirements, should such risks unfold, remains limited. An assessment of significant institutions’ public disclosures of climate- related and environment al risks shows sparse and heterogeneous disclosure practices. The level of disclosures is correlated with size: the larger the institution, the more comprehensive the disclosures. Of the institutions that disclose climate- related and\n",
            "page 6 : environmental risks, v ery few institutions are transparent as to the definitions and methodologies used. Only a minority of institutions’ disclosures are in line with the recommendations by the TC FD. Nonetheless, the ECB has observed that a number of institutions are involved i n initiatives that promote broader and more comparable disclosures and are working on improving their disclosure procedures.\n",
            "page 7 : 4 Supervisory expectations relating to business models and strategy Article s 73 and 74(1) of the CRD, as further specified by the EBA Guidelines on internal governance29, require institutions to implement internal governance arrangements, processes and mechanisms to ensure effective and prudent management of the institution. In this respect, it is important for institutions to identify, assess and monitor the current and forward- looking impact of climate- related and environmental factors on their business environment and to ensure the sustainability and resilience of their business model going forward. 4.1 Business environment Expectation 1 Institutions are expected to understand the impact of climate- related and environmental risks on the business environment in which they operate, in the short, medium and long term, in order to be able to make informed strategic and business decisions. As se t out in the EBA Guidelines, institutions should identify, assess and monitor the business environment in which they operate, as it provides essential input for the assessment of the risks and developments that may affect the institution.30 Institutions are required to document material factors impacting their business environment. The business environment captures a broad range of external factors and trends that shape the business conditions in which an institution operates or is likely to operate based on its main or material geographic and business exposures.31 These include macroeconomic variables, the competitive landscape, policy and regulation, technology, societal/demographic developments, and geopolitical trends.32 Climate- related and environmental ri sks may affect all of these areas. When scanning their business environment, institutions are expected to identify risks arising from climate change and environmental degradation at the level of key sectors, geographi c areas and related to products and services they are active in or are considering becoming active in.33 Climate- related and environmental risks, for instance, may influence economic growth, employment or real\n",
            "page 8 : estate prices at the national, regional or local level. Weather events may cause droughts or floods affecting regional agricultural production or housing demand at the national, regional, or local level. The loss of ecosystem services, such as animal pollination, can also directly affect crop yields and agriculture production.34 Policy changes to promote an environmentally -resilient economy may reduce the demand for real estate in certain areas , for example where there is high flood risk.. In parallel, the competitive landscape is affected by structural changes across company supply chains , the development of a green financing market and consumer preferences that are shifting away from carbon- intensive goods and services. In the area of technology, institutions serving clients operating in energy -intensive industries, or power stations with a high reliance on fossil fuels, may see that their clients are facing significant capital expenditure requirements to decarbonise their energy mixes. In general , instituti ons are expected to adopt granular approaches to mapping these impacts on their business environment. Depending on the type of climate- related and environmental impact, granular approaches may include “within- sector ” differences, taking into account supply chain effects or us ing detailed geographic location data. Institutions are expected to properly document their assessment s of climate- related and environmental risks in terms of their business environment. For instance, it could be reflected as part of their regular monitoring of material or emerging risks, or evidenced through management board discussions.35 Institutions are expected to understand how climate- related and environmental risks affect their business environment in the short, medium and long term to inform their business strategy process. The way that institutions strategically respond to changes in their business environment stemming from climate- related and environmental risks will impact the resilience of their business model over time. Institutions are thus expected to explicitly consi der climate- related and environmental changes to their macroeconomic and regulatory environment and their competitive landscape, in particular. This is expected to be reflected in institutions’ business strategy processes, and demonstrated by documented ma nagement body36 meetings and discussions. The relevant time horizon is also an important dimension to consider. While some risks may play out in the short to medium run, for example reputational effects , extreme weather events , such as floods or public policy-driven developments37, others may stretch out over considerably longer horizons. Institutions are expected to take into account up- to-date scientific insights to enhance their understanding of the potential changes to their business environment going forward. Institutions are also advised to monitor relevant policy initiatives in the jurisdictions in which they operate,\n",
            "page 9 : for example related to energy efficiency standards that might affect real estate portfolios.38 4.2 Business strategy Expectation 2 When deter mining and implementing their business strategy, institutions are expected to integrate climate- related and environmental risks that impact their business environment in the short, medium or long term. The business strategy is an institution’s principal tool for positioning itself within its business environment in order to generate acceptable returns in line with its risk appetite. As set out in the EBA Guidelines39, institutions should take into account any material factors related to their long- term financial interests and solvency when determining their business strategy. Climate -related and environmental risks may directly impact the effectiveness of institutions’ existing and future strategies.40 Institutions are expected to determine whi ch climate- related and environmental risks impact their business strategy in the short, medium and long term, for example by using (stress) scenario analyses.41 As set out in the EBA Guidelines, institutions should take the limitations, vulnerabilities and shortcomings detected in internal stress tests and scenario analyses into account when determining their business strategy.42 The scenario analysis tool is particularly useful in the context of climate -related and environmental risks given the uncertainty associated with the future course of climate change and society’s response to it.43 By developing a set of plausible scenarios to test the resilience of its business model, an institution can account for this uncertainty in its strategic decision- making. These scenarios are expected to include assumptions regarding the impact of climate- related and environmental risks and the time horizons over which these effects are expected to materialise. These assumptions can be quantitative and/or qualitative in nature, are expected to rely on forward- looking information whe re available, and also to be relevant to an institution’s particular exposure to environmental risk (depending on the type of business activity, sector and geographic location of such exposures). This may also involve an expert judgement, since the given nature of climate change as a driver\n",
            "page 10 : of financial risk will present new challenges that have not yet materialised.44 In turn, scenario analyses can be used to assess risks in the short to medium term as well as in the longer term: 1. A short -to-medium term assessment is expected to include an analysis of the climate -related and environmental risks to which the institution is exposed within its current business planning horizon (three to five years). 2. A longer -term assessment beyond the typical business planning horizon ( more than five years , thus in line with public policy commitments to transitioning to a more sustainable economy ),45 assessing the resilience of the current business model against a range of plausible future scenarios relevant to estimate climate -related and environmental risks, would be required to capture the specificities of this kind of risk. The institution’s business strategy and its implementation is expected to reflect climate- related and environmental risks, for example by setting and monitoring key performance indicators (KPIs) that are cascaded down to individual business lines and portfolios. Based on the EBA Guidelines46, the risk management framework of an instit ution should enable it to make fully informed decisions on risk -taking, including decisions concerning both internal and external developments. In order to support their business strategy, institutions may set KPIs for any type of climate- related or environmental risk. These KPIs should be measurable and quantifiable, wherever possible. Depending on the nature of the institution’s activities, these KPIs should be cascaded down to relevant business lines and portfolios. Institutions are also expected to poss ess the capabilities to integrate material climate- related and environmental risks into the relevant layers of its organisation by assigning specific duties, ensuring ongoing communication through the various functions, monitoring progress, taking timely c orrective action and tracking all related budget costs. When setting strategic objectives, institutions are expected, in particular , to reflect the risks to their different lending and trading portfolios stemming from the transition to a more sustainable, low -carbon economy. Any strategic decisions related to material climate- related and environmental factors are expected to be integrated in the institution’s policies, for example in its credit policies by sector and by product. Box 2 Example of o bserved practice: Climate- related and environmental key performance indicators The ECB observed an institution which had integrated the following climate- related and environmental key performance indicators (KPIs) into its strategic framework with a view to making its\n",
            "page 11 : strategy of reducing exposure to transition risks measurable: i) the carbon emission footprint of its assets; ii) the average energy label of its mortgage portfolios; and i ii) the number of homes that saw an energy label improvement thanks to its financing. In addition to these KPIs, the institution stresses its portfolios using a climate- related stress scenario. The scenario outcome is defined in terms of negative macroeconomic effects , which in turn may be used as an indicator to steer its strategic portfolio decisions over time. Both t he KPIs and results from the scenario analysis underpin the bank’s strategic approach to the ris ks arising from climate change and other environmental developments. The metrics are cascaded down to the business line level (e.g. retail banking, private banking, commercial banking and corporate banking). For each metric, the respective time horizon is set and progress is measured against a base year.\n",
            "page 12 : 5 Supervisory expectations relating to governance and risk appetite Under Article 74 of the CRD, institutions are required to have robust governance arrangements in place that allow institutions to effectively identify, manage, monitor and report the risks they are or might be exposed to, so as to form a holistic view of all risks both on an individual and consolidated basis.47 To enable institutions to understand and respond to climate- related and environmental risks, institutions are expected to embed these risks in their governance and risk appetite frameworks, while adequately involving all relevant functions. In addition, appropriate and regular reporting on climate- related and environmental risks to the management body is expected to ensure proper management of these risks. 5.1 Management body Expectation 3 The management body is expected to consider climate- related and environmental risks when developing the institution’s overall business strategy, business objectives and risk management framework and to exercise effective oversight of climate- related and environmental risks. As set out in the EBA Guidelines48, the management body’s49 responsibilities include setting, approving and overseeing the implementation of the overall business strategy and key policies, the overall risk strategy, an adequate internal governance and internal control framework. Given the impact of climate- related and environmental risks on these aspects, the management body plays a key role in terms of both its supervisory and its management function.50 The management body is expected to explicitly allocate roles and responsibilities to its mem bers and/or its sub -committees for climate- related and environmental risks. Based on the EBA Guidelines, the management body should ensure that the reporting lines and the allocation of responsibilities within an institution are clear, well -defined, coherent, enforceable and duly documented.51 Notwithstanding its collective ultimate and overall responsibility for the institution, the management body is expected to explicitly and formally allocate roles and\n",
            "page 13 : responsibility, as appropriate, within the instituti on’s organisational structure and in line with its risk profile. Institutions may, on the basis of the proportionality principle, establish committees other than those specifically referred to in the CRD.52 Institutions may consider assigning the responsibi lity for climate- related and environmental risks to a member of an existing committee or may consider setting up a dedicated committee. Box 3 Example of observed practice: Setting up dedicated committees The ECB observed several institutions that have es tablished dedicated committees as part of their efforts to fully consider climate- related and environmental risks. For example, as part of its medium -term strategic plan, one bank is in the process of establishing a committee which draws on internal and ex ternal expertise, such as scientists from relevant disciplines, to advise and assist the management body in defining its ESG strategy (including climate- related and environmental risks). This includes reviewing its climate- related and environmental risks, as well as related sectoral financing policies, which determine both targets and limits for exposures to certain sectors. Another bank has set up a dedicated committee to provide informed guidance on transactions with complex climate -related and environmental implications. This committee is chaired by senior management. The management body is expected to consider the knowledge, skills and experience of its members in the area of climate -related and environmental risk in its assessment of the collective suitability of such members . As set out in the CRD and further specified in the joint ESMA and EBA Guidelines53, the management body shall possess adequate collective knowledge, skills and experience to be able to understand the institution ’s activities, including the main risks , and should review this on an ongoing basis.54 The management body itself is also expected to have an adequate understanding of climate- related and environmental risks in order to be able to consider in its assessment of collective suitability the knowledge, skills and experience needed for sound and effective management and disclosure of climate -related and environmental risks to which the institution is exposed. The management body is expected to ensure that the institution adequately embeds climate- related and environmental risks in the overall business strategy and risk management framework.55 The management body should be involved in setting, approving and overseeing the business strategy process56, and\n",
            "page 14 : should take decisions on a sound and well -informed basis.57 As explained in the previous sections, the management body is expected to consider the short, medium and long- term climate -related and environmental effects on the overall business strategy and clearly embed the relevant responsibilities in the organisational structure. The management body is also expected to decide on the materiality of the climate -related and environmental risks , specifying and documenting the qualitative and quantitative information under lying its decisions .58 With regard to the management body’s responsibility for setting, approving and overseeing the implementation of the key policies of the institutions,59 60 the management body is expected to review on an ongoing basis whether existing policies comprehensively cover climate -related and environmental risks, including the (credit) policies for each sector and product. To achieve a holistic approach to risk,61 while considering the institution’s l ong-term financial interest,62 the management body is advised to explicitly consider the institution’s response to the objectives set out under international agreements such as the Paris Agreement (2015), EU environmental -related policies such as the EU Green Deal, local and national policies, as well as the outcomes of well -founded climate -related and environmental assessments, such as those by the IPCC and IPBES. The management body is expected to exercise effective oversight over the institutions’ exposures and response to climate- related and environmental risks. As stated in the EBA Guidelines,63 the oversight role includes reviewing the performance of the management function and the achievement of its objectives. In order to promote an ef fective oversight function and informed decision- making,64 the management body in its management function is encouraged to set KPIs and KRIs, as described in the previous and following section. The management body in its supervisory function is expected to monitor and scrutinise the targets and any developments in those KPIs and KRIs.\n",
            "page 15 : 5.2 Risk appetite Expectation 4 Institutions are expected to explicitly include climate- related and environmental risks in their risk appetite framework. Institutions are expected to have in place a risk appetite framework (RAF) that considers all the material risks to which the institution is exposed, that is forward -looking, in line with the strategic planning horizon set out in the business strategy and that is reviewed regularly .65 Integrating climate- related and environmental risks into the RAF increases institutions’ resilience to such risks and improves their ability to manage those risks, for example, by setting limits on lending to sectors and geographi c areas that are highly exposed to climate- related or environmental risks.66 Institutions are expected to develop a well -defined description of climate- related and environmental risks in their risk inventory that feeds into their risk appetite statement (RAS) . The risk inventory is the result of the risk identification process and is expected to be based on the institution’s internal risk taxonomy, which is a categorisation of different risk types and factors within which climate -related and environmental risks are expected to be clearly defined.67 The risk inventory is used as a basis for the formulation of the RAS . Institutions are expected to develop appropriate key risk indicators and set appropriate limits for effectively managing climate -related and environmental risks in line with their regular monitoring and escalation arrangements. Based on the EBA Guidelines, institutions are expected to ensure that their risk strategy and risk appetite consider all material risks to which they are exposed and specify risk limits, tolerances and thresholds.68 In addition, institutions should have a risk management framework in place that ensures that, when risk limits are breached, there is a defined process for escalating and addressing these, together with an appropriate follow -up procedure.69 The ECB expects institutions to monitor and report their exposures to climate- related and environmental risks on the basis of their current data and forward- looking estimations. The ECB expects institutions to assign quantitative metrics to climate- related and environmental risks, particularly for physical and transition risks. However, it also acknowledges that common definitions and taxonomies in these risk areas are still under development, and that qualitative statements can be used as intermediate steps while the institution is developing appropriate quantitative metrics. It is also expected that the relevant risk appetite\n",
            "page 16 : indicators and limits are determined based on the level of risk that the institution is willin g to assume within its risk capacity, in line with its business model . With respect to climate- related risks, institutions are expected to develop metrics that consider the long- term nature of climate change, particularly how different paths of temperature and greenhouse gas (GHG) emissions may accentuate existing risks. Thes e metrics are expected to support the institution’s ability to respond to a sudden transition towards a low -carbon economy or a physical event impacting its operations or lending portfolios and to implement mitigating actions on a timely basis . Box 4 Exam ple of o bserved practice: Carbon- intensity targeting and climate resilience of the balance sheet The ECB observed that several institutions aim to keep the carbon content of their financed energy mix in line with the target of remaining well below 1.5-2°C, as provided for in the 2015 Paris Agreement. This approach is one course of action that can be taken to reduce exposure to transition risks stemming from the public policy measures announced for the subsequent decades. Chart A Carbon- intensity targeting Source: World Energy Outlook 2019. Some institutions use the International Energy Agency Sustainable Development Scenario or a similar scenario to quantify such targets, as illustrated in the graph. Other institutions take a different approach that involv es, for each sector with a large carbon footprint, measuring and benchmarking how lending to these sectors contributes to climate resilience, and adjusting the lending portfolio accordingly. Such approaches are not mutually exclusive and, in fact, some ins titutions have adopted several methodologies. Institutions are expected to ensure that their remuneration policy and practices stimulate behaviour consistent with their climate- related and environmental (risk) approach, as well as with voluntarily commitments made by the institution. As set out in the EBA Guidelines, remuneration policies and practices Expectation 4.3 0100200300400500600 2014 2018 2030 2040 2050CO2 per kW hBank targets IEA Sustainable Development Scenario\n",
            "page 17 : should be consistent with the institution’s risk appetite, business strategy and long- term objectives.70 Incentive structures should stimulate behaviour in line with the risk appetite and long- term business goals71 and discourage excessive risk -taking. Remuneration policies and practices, including the use of deferral and the determination of performance criteria, are expected to help foster a long- term approach to managing climate- related and environmental risks in line with the institution’s risk appetite and strategy . To encourage behaviour consistent with their climate -related and environmental (risk) approach, institutions that have clima te-related and environmental objectives could consider implementing a variable remuneration component linked to the successful achievement of those objectives. Where the financial impacts of climate- related and environmental risks are difficult to quantify , the management body can consider incorporating appropriate qualitative criteria into the remuneration policy. 5.3 Organisational structure Expectation 5 Institutions are expected to assign responsibility for the management of climate -related and environmental risks within the organisational structure in accordance with the three lines of defence model. In accordance with Article 74 of the CRD, and as further specified in the EBA Guidelines, institutions should have in place a clear, transparent and documented decision- making process and a clear allocation of responsibilities and authority within their internal control framework, including their business lines, internal units and internal control functions72 that promote informed decision- making by the management body.73 Consequently, responsibilities for identifying, assessing and managing climate- related and environmental risks are expected to be evenly distributed across the different functions within the institution. Institutions are expected t o explicitly assign responsibilities for climate -related and environmental risks within their institution. These responsibilities are also expected to be duly documented in the relevant policies, procedures and controls. Institutions are expected to explic itly define which internal structures have responsibility for considering climate- related and environmental risks and to clearly describe their respective mandates and working procedures. Institutions may allocate such responsibilit ies across existing stru ctures or, if deem ed useful , may consider\n",
            "page 18 : establishing a dedicated structure responsible for coordinating the institution’s overall risk management approach to climate- related and environmental risk. If such a dedicated structure for climate- related and environmental risks is established, its integration into existing processes and interfaces with other functions is expected to be clearly defined. Regardless of the specific arrangements, institutions are expected to describe the relationships between the relevant structures and their working procedures to ensure an adequate flow of information between all parties involved. Institutions are expected to ensure that the functions involved in managing climate- related and environmental risks have the appropriate human and financial resources. Based on the EBA Guidelines, institutions should ensure that the internal control functions have the appropriate financial and human resources , as well as the powers to effectively perform their role.74 In the same vein, institutions are expected to evaluate the appropriateness of the capacity and resources to deal with climate -related and environmental risks, particularly in the relevant functions responsible for managing these risks. To the extent needed, inst itutions are expected to strengthen the available capacity and resources, as well as to encourage appropriate training for all relevant functions. This also includes ensuring that the institution’s norms, attitudes and behaviours related to risk awareness take into account the uncertain, but potentially significant , impact s of climate- related and environmental risks. Institutions are expected to define the tasks and responsibilities of the first line of defence in terms of risk- taking and risk management of climate -related and environmental risks. Institutions are expected to ensure that the first line of defence performs its duties in accordance with any climate- related and environmental policy, procedure or limit. More specifically, the f irst line of defence is expected to identify, assess and monitor any climate- related and environmental risks relevant for the creditworthiness and the scoring/rating of a client, as well as to conduct proper due diligence on climate- related and environment al risks in line with Expectation 7.4. Institutions are expected to define the tasks and responsibilities of the risk management function for identifying, assessing, measuring, monitoring and reporting climate -related and environmental risks. The main responsibility of the risk management function is to ensure that all risks are identified, assessed, measured, monitored, managed and properly reported by the relevant units in the institution.75 It is expected to provide relevant independent information, analyses and expert judgement on risk exposures. Since climate- related and environmental risks materiali se through existing risk s, the tasks and responsibilities are expected to be embedded in the framework of the existing management system, as further detailed in the risk management section.\n",
            "page 19 : Box 5 Example of o bserved practice: Horizontal points of contact The ECB observed several institutions that have implemented specific measures to promote a risk culture that takes into account climate- related and environmental risks. For example, one bank designated certain employees as horizontal points of contact to ensure that climate- related and environmental risks were appropriately integrated into its risk management function’s working procedures. Anot her bank put in place correspondents for those business lines actively cooperating and liaising with risk management functions and/or other functions involved in ESG risks, including climate -related and environmental risks. Institutions ar e expected to define the tasks and responsibilities of the compliance function by ensuring that compliance risks stemming from climate- related and environmental risks are duly considered and effectively integrated in all relevant processes. The compliance function should advise the management body on measures to be taken to ensure compliance with applicable laws, rules, regulations and standards, and should assess the possible impact of any changes in the legal or regulatory environment on t he institution’s activities and compliance framework.76 As rules and standards on sustainability may change over time, institutions may increasingly face compliance- related risks, such as liability, litigation and/or reputational risks, stemming from climat e-related and environmental issues. The internal audit function is expected to consider in its reviews the extent to which the institution is equipped to manage climate- related and environmental risks. The internal audit function should rev iew the institution’s internal control and risk management framework, by considering external developments, changes in the risk profile and in products and/or business lines , among other things .77 This is expected to include the appropriateness of the arrangements for managing climate -related and environmental risks. Furthermore, an institution’s policies and procedures for climate- related and environmental risks fall within the scope of the internal audit function, as its role is to review compliance with t he institution’s internal policies and procedures and with external requirements.\n",
            "page 20 : 5.4 Reporting Expectation 6 For the purposes of internal reporting, institutions are expected to report aggregated risk data that reflect their exposures to climate- related and environmental risks with a view to enabling the management body and relevant sub- committees to make informed decisions. The EBA Guidelines78 set out how institutions should establish regular and transparent reporting mechanisms so that the management body, its risk committee, where established, and all relevant units in an institution are provided with reports in a timely, accurate, concise, c lear and meaningful manner and can share relevant information on the identification, measurement or assessment, monitoring and management of risks. Consequently, the ECB expects institutions to integrate climate -related and environmental risks into their data reporting frameworks with a view to informing decision- making at management level. The ECB acknowledges that metrics and tools are evolving and that, currently, data available in institutions are sometimes incomplete. Nevertheless, it expects reporting of climate- related and environmental risks to mature over time. Initially, when accurate and complete reporting is deemed unfeasible or premature, the ECB expects institutions to assess their data needs in order to inform their strategy -setting and risk m anagement, to identify the gaps compared with current data and to devise a plan to overcome these gaps and tackle any insufficiencies. Institutions are expected to develop a holistic approach to data governance for climate- related and envir onmental risks. Based on the EBA Guidelines, regular and transparent reporting mechanisms should be established in order to ensure timely, accurate, concise, understandable and meaningful reporting that will enable the sharing of relevant information about the identification, measurement or assessment, monitoring and management of risks.79 Institutions are expected to define, document and integrate climate- related and environmental risks into the data reporting framework, so they can effectively monitor, man age and mitigate their exposures to these risks. In particular, this includes risk data reporting governance, IT infrastructure, risk data aggregation capabilities and reporting procedures. Institutions are expected to ensure that the data reporting framew ork for climate- related and environmental risks operates in conjunction with the climate- related and environmental risk metrics set out in their existing RAS and risk management processes. The data reporting framework is also expected to support, where rel evant,\n",
            "page 21 : the KPIs used to assess the performance of the institution in terms of climate- related and environmental risks and public disclosure.80 As climate- related and environmental risks have distinctive characteristics, institutions are expected to consider adapting their IT systems to systematically collect and aggregate the necessary data in order to assess their exposures to these risks. While institutions are expected to incorporate the data taxonomy of these risks, it is also acknowledged that this may not be feasible owing to the current lack of common definitions, taxonomies and data gaps. In this case, institutions are expected to consider establishing reporting processes and procedures based on internal or external qualitative risk metrics to ensure that climate- related and environmental risks are adequately reported to the management body. To this end, the management body is expected to be aware of the limitations of the reporting it receives in terms of its coverage, as well as legal and technical constraints. The management body is expected to use this information to discuss, challenge and take decisions on managing impacts arising from climate- related and environmental risks. An institution’s risk reports are expected to convey the impact of climate- related and environmental risks on its business model, strategy and risk profile.81 Institutions should strive to cover all material climate- related and environmental risks across the legal entity and/or business lines in its risk reports. These risk reports , which also cover climate -related and environmental risks , are expected to be integrated in the institution’s existi ng risk reporting framework. The depth and scope of these reports are expected to be consistent with the size and complexity of the institution’s operations and risk profile. An institution is expected to be able to generate aggregated and up-to-date climate- related and environmental risks data in a timely manner. This is consistent with EBA Guidelines that expect institutions to have effective and reliable information and communication systems that fully support risk data aggregation capabi lities during both normal operations and times of stress.82 The issue of timeliness is critical to these risks owing to, for example, the impacts of a sudden transition to a low -carbon economy or the impact of a physical event on an institution’s operations . The management body, therefore, should remain aware of any developments at national, international, political and regulatory levels that may have an impact on its reporting expectations. An institution is expected to be adaptable in order to generate agg regated climate- related and environmental risk data to meet a broad range of on- demand and ad hoc reporting requests, including requests during stress/crisis situations, requests related to changing internal needs and requests to meet supervisory queries, as demand for climate- related and environmental risks reporting increases.\n",
            "page 22 : 6 Supervisory expectations relating to risk management Building on the previous chapter, this section provides detailed guidance on integrating climate- related and environmental risks into credit, operational, market and liquidity risk management, as well as into the ICAAP overall , including risk quantification by means of scenario analysis and stress testing. 6.1 Risk management framework Expectation 7 Institutions are expected to incorporate climate- related and environmental risks as drivers of existing risk categories into their risk management framework, with a view to managing, monitoring and mitigating these over a sufficiently long- term horizon, and to review their arrangements on a regular basis. Institutions are expected to identify and quantify these risks within their overall process of ensuring capital adequacy. As part of their overall internal control framework, institutions should have an institution- wide risk management frame work that extends across all business lines and internal units, including internal control functions.83 84 According to Article 73 of the CRD, institutions shall have in place sound, effective and comprehensive strategies and processes for assessing and maintaining on an ongoing basis the amounts, types and distribution of internal capital that they consider adequate to cover the nature and level of the risks to which they are or might be exposed. In addition to its current material risks, the institution is expected to consider any risks, and any concentrations within and between those risks, that may arise from pursuing its strategies or from relevant changes in its operating environment.85 Institutions are thus expected to comprehensively analyse the ways i n which climate- related and environmental risks drive the different risk areas, including liquidity, credit, operational, market and any other material risk to capital or any of its sub- categories that it is or might become exposed to. Furthermore, they ar e expected to pay particular attention to concentrations within and between risk types that climate- related and environmental risks may cause. Institutions are expected to have a holistic and well -documented view of the impact of climate- related and environmental risks on existing risk categories. The risk management framework should encompass on- balance- sheet risks and off-balance- sheet risks, with appropriate consideration of both financial and\n",
            "page 23 : non-financial risks86, both for risks that the institutions is currently exposed to and for risks that the institution may be exposed to going forward. Institutions are responsible for implementing a regular process for identifying all material risks and including these in a comprehensive internal ris k inventory . The expectation includes the normative and the economic perspectives of the ICAAP.87 Institutions are expected to comprehensively include climate- related and environmental risks in their assessment of materiality for all of their business areas in the short, medium and long- term under various scenarios. The underlying analysis is expected to be tailored to the business model and risk profile, taking due consideration of the vulnerabilities of the economic (sub- )sectors, operations and physical locations of the institution and its counterparties . Institutions are expected to document the climate- related and environmental risks considered, in particular , their transmission channels and impact on the risk profile. Moreover, institutions are expected to justify an assessment of non- materiality, specifying and documenting the qualitative and quantitative information underlying that assessment .88 Box 6 Example of o bserved practice: Mapping of climate- related risks to financial risks Some institutions have launched an internal process to map climate- related risks and their potential financial impacts. One bank mapped the main transmission channels to its existing risk categories and provided an overview of the estimated impact on its risk profile a nd the estimated time frame. Table A Stylised example of the mapping of climate- related risks to financial impacts Source: ECB. Institutions are expected to adequately quantify the climate- related and environmental risks that the institution is exposed to .89 As also stated in the ECB Guide to the ICAAP, risks are not expected to be excluded from the assessment\n",
            "page 24 : because they are difficult to quantify or because the relevant data are not available.90 Where such quantification methodologies are subject to further developments, also taking into account the current work and upcoming publications of international networks91 and standard setters, institutions may use plausible assumptions to develop proxies for the assessment of climate- related and environmental risks. As described in S ection 6.5, institutions may, in particular , consider the use of scenario analysis and stress testing for this purpose. Institutions are expected to adopt a strategic approach to managing and/or mitigating climate- related and environmental risks in line with their business strategy and risk appetite, and to adapt policies, procedures, risk limits and risk controls accordingly. Based on the EBA Guidelines, an institution’s risk management framework should provide specific guidance on the implementation of its strategies and, where appropriate, establish and maintain internal limits consistent with its risk appetite and commensurate with its sound operation, financial strength, capital base and strategic goals.92 With this in m ind, institutions are expected to consider the need to adjust their risk policies, for example by setting criteria to identify business areas, including portfolios and investments , that can be supported in gradually reducing climate- related or environmental risks, thus fostering their resilien ce to transition and/or physical risks . Institutions are encouraged to engage in constructive dialogue with critical counterparties , including with a long- term view to improving the sustainability rating and/or credit rating of a counterparty. An institution may also consider setting limits on financing certain sensitive economic (sub- )sectors, sovereigns, businesses or real estate exposures or even excluding some specific (sub-)sectors or borrowers from credit -granting that are not aligned with its climate -related risk appetite. Specifically for institutions originating or planning to originate environmentally sustainable lending, the EBA Guidelines on loan o rigination and monitoring envisage that institutions assess the extent to which the lending activity “ is in line with or is contributing to the overall climate- related and environmentally sustainable objectives of the institution” .93 Box 7 Example of o bserved practice: Quantifying the climate- related and environm ental impacts of financing in the ICAAP The ECB has observed a bank that, in its internal capital plan, assesses the environmental impact of its financing and assigns an environmental rating to either the asset or project being financed, or to the borrower for general purpose financing, whether a corporate or public sector client. This rating is derived from an assessment of the deal’s climate impact, and factors in any significant environmental externalities, such as water use, pollution, waste and biodiversity. On the basis of this rating, the bank\n",
            "page 25 : applies penalties to the assets projected to have the highest level of environmental impact, leading to an increase in the analytical risk weight for these exposures. The bank reports that the facilities with a negative environmental and climate impact are subject to an increase in their analytical risk -weighted assets of up to a quarter. Ultimately, this impact is reflected in the expected rate of return of the assets, providing potential incentives to invest or disinvest in particular sectors. Institutions are expected to conduct a proper climate -related and environmental due diligence, both at the inception of a client relationship and on an ongoing basis. This should be understood to include t he collection of the information and data needed to assess the vulnerabilities of exposures and investments to climate- related and environmental risks, notably at their inception. Institutions are expected to perform reasonability checks on such information and data in line with the institutions’ risk policies and procedures. Institutions are expected to be aware of their clients’ impact on and vulnerability to climate- related and environment al aspects and of their approach to managing this impact and risk. Moreover, proper environmental due diligence, when appropriately acted upon, is likely to reduce reputational and liability risks. The scope and depth of due diligence is expected to be defined in relation to the sector and geographic location in which the client is located. If deemed necessary, institutions may consider the need for external expertise. Institutions are advised to ensure compliance with the OECD Guidelines for Multinational Enterprises ,94 for example. Any findings from due diligence assessments are expected to be considered in the decision on whether and how to engage, or continue to engage, with a client. Institutions are expected to assess the impact of climate- related and environmental risks on their capital adequacy from an economic and a normative perspective. In line with the ECB Guide to the ICAAP, institutions are expected to consider in their forward- looking capital adequacy assessment any risks, and any concentration within and between those risks, th at may arise from relevant changes in their operating environment.95 In the same vein, the ECB expects institutions to incorporate climate change, in particular the energy transition, into the assessment from an economic value perspective. Institutions are expected to take into consideration the impact of climate- related and environmental risks when determining their capital adequacy in a way that enables the institution to sustainably follow its business model by ensuring economic and normative capital adequacy .96 As set out in the ECB Guide to the ICAAP, institutions are expected to implement both a normative perspective and an economic perspective that mutually inform each other. Institutions are expected to take into account potential effects of climate- related and environmental risks on economic value in the e conomic perspective. T he potential impact on regulatory capital ratios going forward, reflected in baseline and adverse\n",
            "page 26 : scenario assessments , are expected to be considered in the normative perspective. Institutions are also expected to consider the outcomes of these assessments in their risk appetite and business strategy , as well as in their decision- making more generally . Institutions are expected to evaluate the appropriateness of th eir identification, measurement and mitigation instruments for climate- related and environmental risks in their periodic reviews. Institutions should perform regular internal reviews ,97 for instance, in the context of the ICAAP.98 The purpose of these reviews is to assess whether internal processes and methodologies have led to sound outcomes and whether they remain appropriate in view of current and future developments.99 As the availability of data and methodologies for identifying and measuring climat e-related and environmental risks is evolving rapidly, institutions are expected to regularly consider the appropriateness and quality of the data sources and methods in place. 6.2 Credit risk management Expectation 8 In their credit risk management, instituti ons are expected to consider climate- related and environmental risks at all relevant stages of the credit -granting process and to monitor the risks in their portfolios. In accordance with Article 79 of the CRD, competent authorities must ensure, among other things, that institutions grant credit on the basis of sound and well -defined criteria and that the process for approving, amending, renewing and refinancing credit is clearly established. To this end, institutions are expected to adopt a holistic approach and take into account risks associated with climate- related and environmental factors in their credit risk policies and procedures, in line with the EBA Guidelines on loan origination and monitoring.100 101 Climate- related and environmental risks are expected to be included in all relevant stages of the credit -granting process and credit processing. Specifically, institutions are expected to form an opinion on how climate- related and environmental risks affect the borrower’s default risk .102 The climate- related and environmental factors material to the default risk of the loan exposure are expected to be identified and assessed. As part of this assessment, institutions may take into\n",
            "page 27 : consideration the quality of the clients’ own management of cli mate- related and environmental risks. Institutions are expected to give appropriate consideration to changes in the risk profile of sectors and geographi c areas driven by climate- related and environmental risks. For instance, overexploitation of natural resources, such as water, in certain areas might lead to limitations on their use, which can lead in turn to disruptions to production and losses to institutions’ counterparties . Box 8 Example of o bserved practice: Climate- informed shadow probabilities of defaults The ECB observed that institutions often consider climate- related and environmental risks qualitatively in their credit -granting process. Nonetheless, some institutions are considering or in the process of developing means to incorporate these risk s into their models. One bank is developing climate -informed shadow probabilities of defaults (PDs) to be reported alongside the regular PDs. The climate- informed shadow PDs would take into consideration a detailed analysis of physical and transition risks for higher risk counterparties identified in a screening process. A big differential between the two would then trigger the need to consider mitigating action. A second bank is developing a scorecard for sustainability risks comprising qualitative aspects . The input from the scorecard would get a fixed weighting within the model. Another bank includes environmental variables in its internal credit -scoring models. The environmental valuation has been introduced for sectors where such an assessment was found to be relevant in terms of credit quality differential analysis. The potential environmental impact of the underlying activities influences the credit quality. The credit -scoring models have been rolled out for exposures to l arge c orporates, c orporat es and for project f inance exposures. Institutions are expected to adjust risk classification procedures in order to identify and evaluate, at least qualitatively, climate- related and environmental risks. Institutions are expected to define appropriate general risk indicators or ratings for their counterparties that take into account climate- related and environmental risks. As part of risk classification procedures, institutions are expected to identify borrowers that may be exposed, directly or indirectly, to increased climate- related and environmental risks .103 Critical exposures to such risks should be highlighted and, where applicable, considered under various scenarios104 with the aim of ensuring the ability to assess and introduce in a timely manner any appropriate risk mitigation measures, including pricing. Institutions are expected to consider, for example, the use of heat maps that highlight sustainability risks based on the relevance of individual (sub-)economic sectors for a given client. Institutions are expected to consider climate- related and environmental risks in their collateral valuations. Climate- related and environmental risks may affect the value of collateral. Institutions are expected to give particular consideration to the\n",
            "page 28 : physical locations and the energy efficiency of commercial and residential real estate in this regard. Institutions are expected to incorporate these considerations into both the process for establishing the value of collateral and into the review process prescribed by the applicable regulations .105 Institutions are expected to monitor and manage credit risks in their portfolios, in particular through sectoral/geographic/single -name concentration analysis, including credit risk concentrations stemming from climate- related and environmental risks, and using exposure limits or deleveraging strategies.106 Institutions are expected to monitor how geographic and sectoral concentration is prone to climate- related and environmental risks. Likewise, institutions may measure concentrations of assets with specific characteristics plausibly targeted by transition policies, for example the distribution of energy efficiency labels within residential and commercial real estate portfolios in the light of potential legislation. For larger counterparties, institutions may consider climate- related and environmental risks in the single- name concentration analysis. Institutions are advised to develop their monitoring capabilities in conjunction with the metrics and limits developed for the purposes of their risk appetite and data governance framework. Institu tions’ loan pricing frameworks are expected to reflect their credit risk appetite and business strategy with regard to climate -related and environmental risks.107 Pursuant to Article 76(3) of CR D IV, an institution’s risk committee shall review whether the prices of assets offered to clients take the business model and risk strategy fully into account. The pricing of loans is an important steering mechanism for institutions, determining the level and origin of their future income. For instance, as part of their business strategy and risk appetite, institutions may decide to reduce or limit exposures to sectors harmful for the environment or the climate or to steer away from loans collateralised by energy -inefficient real estate. The pricing framework is then expected to support the chosen risk perspective and strategy, for example by differentiating the loan prices for exposures according to their energy efficiency or by including a sector/client -specific charge. In line with their business strategy and risk appetite, institutions may also incentivis e their clients to mitigate climate -related and environmental risks . This could, for instance, entail setting the interest rate of an environmentally sustainable loan at a level consistent with a higher resilience towards such risks and the associated improved creditworthiness under otherwise unchanged conditions . For banks originating sustainable lending, the interest rate adjustment process could be linked to the achievement of sustainability target s by the client over a predefined period of time over which climate -related and environmental risks are reduced.\n",
            "page 29 : Box 9 Example of o bserved practice: Mortgage price differentiation The ECB observed an institution that differentiates the client price of retail mortgage lo ans according to the energy label of the underlying real estate. Mortgages with a better energy label receive a lower client rate than mortgages with a less energy -efficient label, so long as the institution’s overall profitability target for mortgages is projected to be met. This differentiation is based on the consideration that a portfolio with higher energy efficiency labels is likely to be less vulnerable to transition risk and is therefore in line with the institution’s business strategy. Institutions’ loan pricing is expected to reflect the different costs driven by climate- related and environmental risks. As set out in the EBA Guidelines on loan origination and monitoring,108 institutions should implement a pricing framework linked to the characteristics of the loan, considering all relevant costs. The impact of climate -related and environmental risks may play out through various cost drivers, such as the cost of capital, funding or credit risk. Environmentally sustainable assets may, f or example, be funded by dedicated instruments, such as green (covered) bonds, and thus incur different funding costs. Areas exposed to growing physical climate risks, such as floods or droughts, may see an increase in credit loss. Institutions are expected to consider these developments and reflect them in their loan pricing, for instance by setting the credit cost charges at a higher level to reflect the impact of climate- related and environmental risks. In addition, institutions are expected to reflect i n their pricing any higher funding costs for assets that are particularly affected by physical and transition risk. 6.3 Operational risk management Expectation 9 Institutions are expected to consider how climate- related and environmental events could have an adverse impact on business continuity and the extent to which the nature of their activities could increase reputational and/or liability risks. As set out in Article 85 of the CRD and in the EBA Guidelines109, institutions should implem ent policies and processes to evaluate and manage their exposure to operational risk. They should assess operational risk across all business lines and operations, and determine how operational risk may materialise.110 Institutions are also expected to adopt all necessary measures to safeguard business continuity and\n",
            "page 30 : ensure a timely disaster recovery, both in terms of policies and the functioning of physical assets, including IT systems. Institutions are expected to assess the impact of physi cal risks on their operations in general, including the ability to quickly recover their capacity to continue providing services. Institutions are reminded that this assessment should be conducted as part of their business continuity management, as set out in the EBA Guidelines on internal g overnance.111 The geographic location in which an institution operates might make it more prone to physical risks. Institutions are reminded to assess the materiality of operational risk arising from physical risk. This applies in particular to outsourced services and IT activities, particularly if service providers are established in locations that are prone to extreme weather events or other environmental vulnerabilities. Institutions are reminded to consider whether thes e could affect their ability to process transactions, provide services or cause legal liabilities for damage to third parties, such as customers and other stakeholders. In particular, when assessing its critical or important functions, an institution is ex pected to consider the impacts of climate change on the provision of these services.112 The outcome of this assessment, if material for any of the institution’s business lines or operations, is expected to be reflected in its business continuity plan. Institutions are expected to evaluate the extent to which the nature of the activities in which they are involved increases the risk of a negative financial impact arising from future reputational damage , liability and/or litigation. Based on the EBA Guidelines, all relevant risks should be encompassed in the risk management framework of an institution, with appropriate consideration of both financial and non- financial risks, including reputational risk.113 Reputational risks can arise quickly and can rapidly affect firms. Institutions associated with social or environmental controversies – or more generally institutions that are perceived not to take due consideration of environmental aspects in their business activities – could face negative financial impacts stemming from reputational risks as a result of changing market sentiment in relation to environmental and climate- related risks. Similarly, to avoid reputational or litigation risks arising from controversy in connection with their products , for instance, driven by investments in products with an adverse environmental impact , institutions are also expected to consider evaluating the compliance of their investment products with international or EU best practices, such\n",
            "page 31 : as the EU Green Bond Standard.114 Similarly, financing companies with significant polluting activities can be a driver of reputational risk for institutions. Moreover, institutions may wish to adopt policies related to engagement with clients and response to controversies, as and w hen they arise. Institutions may consider periodically screening counterparties for controversial activities, conduct ing environmental footprinting and/or damage cost exercises to identify potential pockets of risk, and should reflect the outcomes of such screening exercises in the relevant risk reports . Box 10 Example of observed practice: Reputational risks captured in the ICAAP The ECB observed an institution that considers reputational risks arising from environmental, social or governance impacts in its internal capital adequacy assessment process. The institution is exposed to considerable reputational risk related to environm ental and social factors, as its business model is targeted at financing private companies in emerging market economies. Each of its clients is therefore categorised based on the degree of potentially negative environmental, social and governance impacts. There are four risk categories in the institution’s classification system, which range from a “significant” to having “minimum or no” adverse environmental, social or governance impacts. The institution allocates an amount to capital relative to the number of clients in each of the risk classification categories. Each risk category is assigned a capital charge per client, i .e. the institution takes a higher capital for a client that has a higher risk classification. 6.4 Market risk management Expectation 10 Institutions are expected to monitor on an ongoing basis the effect of climate- related and environmental factors on their current market risk positions and future investments, and to develop stress tests that incorporate climate- related and environmental r isks. Article 83 of the CRD provides that competent authorities must ensure that policies and processes for the identification, measurement and management of all material sources and effects of market risk are implemented. With regard to market risk manage ment, institutions are expected to consider that environmental and climate -related risks could lead to potential shifts in supply and demand for financial instruments (e.g. securities, derivatives), products and services, with a consequent impact on their values.115 Institutions that invest in companies with business models\n",
            "page 32 : that are perceived as environmentally unsustainable or that are geographically located in areas prone to physical risks might suffer a decline in the value of their investment owing to changes in policy measures, market sentiment or technology, or as a result of severe weather events or gradual adverse changes in climatic conditions. In line with the nature of the ICAAP perspectives, institutions are expected to assess in the normative pers pective, as a minimum, risks arising from debt, equity and equity -related financial instruments in the regulatory trading book, as well as foreign exchange positions and commodities risk positions assigned to both the trading and banking book. In the economic perspective, all instruments are expected to be assessed based on economic value considerations, irrespective of their accounting treatment. Moreover, the assessment is also expected to consider the banking book, and in particular , the following sub- categories of market risk : credit spread risk arising from positions measured at fair value and at cost, and risk arising from equity exposures. With specific reference to the credit spread risk component of banking book positions, institutions are expected to assess the relevance of the credit spread among all the drivers of overall market risk. This is relevant when considering, among others, that financial instruments issued by companies belonging to sectors perceived as environmentally unsustainable and w hich do not adopt a comprehensive sustainable management approach might suffer an abrupt decline in their value. In the same vein, the value of equity exposures should be monitored on an ongoing basis to assess whether their value has been negatively affec ted by a change in the perception of the issuer’s riskiness, specifically owing to climate- related and environmental risks. Institutions specialised in commodities trading are expected to pay particular attention to potential hidden vulnerabilities includi ng, but not limited to, jumps in prices or values of certain commodities perceived as environmentally less sustainable than others. Additionally, it would be advisable for institutions to monitor how the governments to which institutions are exposed via sovereign holdings may be affected by transition and physical risks. Given the specific characteristics of market activities, internal stress testing (e.g. a sensitivity analysis) could be usefully applied to better understand and assess the relevance of cli mate- related risks for an institution’s trading and banking book. Such analyses are expected to address climate- related and environmental risks under the normative and economic perspectives of the ICAAP alongside other risks ,, supplementing historical distributions with hypothetical assumptions .116\n",
            "page 33 : 6.5 Scenario analysis and stress testing Expectation 11 Institutions with material climate- related and environmental risks are expected to evaluate the appropriateness of their stress test ing, with a view to incorporating them into their baseline and adverse scenarios. As part of the ICAAP, institutions are expected to conduct a tailored and in- depth review of their vulnerabilities through stress testing.117 The stress scenarios should compri se all material risks that may deplete internal capital or impact regulatory capital ratios and be used as part of the institution’s stress -testing programme in both the economic and normative perspective. Institutions are expected to consider using scenar ios that are in line with scientific climate change pathways, such as IPCC scenarios . Specifically for transition risk, institutions are expected to use scenarios that, for different policy outcomes (e.g. early or late transition), embed plausible consider ations for the related physical outcome.118 This entails , for instance, considering how chronic climate impacts associated with the late transition scenario can potentially further reinforce policy action. All these aspects should be properly reflected in an institution’s ICAAP.119 When conducting scenario analysis and stress testing with respect to climate- related and environmental risks, at least the following aspects are expected to be considered for both the normative and economic perspectives : • how the inst itution might be affected by physical risk and transition risk; • how climate- related and environmental risks might evolve under various scenarios, taking into account that these risks may not be fully reflected in historical data; • how climate- related and environmental risks might materialise in the short, medium and long term depending on the scenarios considered. Institutions are expected to define the assumptions for their own risk profile and individual specifications, as well as consider several scenarios based on different combinations of assumptions. As part of their capital planning, institutions are expected to assess their capital adequacy under a plausible baseline scenario and institution- specific adverse scenarios.\n",
            "page 34 : For the adverse scenarios, the institution is expected to assume unusual but plausible developments with an adequate degree of severity in terms of their impact on its regulatory capital ratios. According to the ECB Guide to the ICAAP, the normative perspective is expected to cover a forward -looking horizon of at least three years. Institutions are expected to take developments beyond this minimum horizon into account in their strategic planning in a proportionate manner if they will have a material impact.120 Institutions are expected to consider adopting a longer time horizon for climate- related and environmental risks given the likelihood that they will mostly materialise in the medium to long term. In particular, longer time horizons could be reflected in stress testing in the economic perspective. Likewise, institutions are also expected to take into account the relevance of climate -related impacts on their business lines when designing scenarios for recovery planning processes. As stipulated in the Bank Recovery and Resolution Directiv e121, institutions should contemplate a range of scenarios of severe macroeconomic and financial stress for a full scope recovery plan. Institutions are expected to test recovery options against these scenarios to determine their effectiveness in such events . 6.6 Liquidity risk management Expectation 12 Institutions are expected to assess whether material climate- related and environmental risks could cause net cash outflows or depletion of liquidity buffers and, if so, incorporate these factors into their liquidi ty risk management and liquidity buffer calibration. Pursuant to Article 86(1) of the CRD, institutions are required to have robust strategies, policies, processes and systems for the identification, measurement, management and monitoring of liquidity risk over an appropriate set of time horizons to ensure they maintain adequate liquidity buffers. To ensure robust liquidity risk management, institutions are expected to consider the direct or indirect impacts of climate- related and environmental risks on their liquidity position.122 123 Institutions are encouraged to include such considerations in their\n",
            "page 35 : ILAAP, considering climate- related and environmental risks under both the economic and the normative perspective. Such assessments are expected to be conducted in a forward -looking manner, assuming both business -as-usual and stressed conditions, and, in particular, to consider severe but plausible scenarios that may occur in combination, with a focus on key vulnerabilities. Consequently, they are expected to assess whether climate- related and environmental risks could have a material impact on net cash outflows or liquidity buffers. If this is deemed to be the case, institutions should incorporate this into their liquidity risk management and liquidity buffer calibr ation. For example, institutions could consider the possibility of a combined idiosyncratic and market stress situation occurring simultaneously with the materialisation of climate -related or environmental risks. Furthermore, institutions could consider how their liquidity position might be affected by a climate- related or environmental risk event that has an impact on the value of their liquidity buffers. Institutions could also consider the impact of such risks on regional liquidity positions, for exampl e in local currencies, as well as potential operational and other impediments to providing liquidity to regions where climate- related or environmental risks materialise. In addition, institutions are expected to link their business strategy with the allocation of liquidity resources. To this end, institutions are reminded to take into account in their internal pricing process the specific marginal cost of funding of sustainable refinancing instruments , including, where relevant, the liquidity cost or benefi t compared to ordinary refinancing instruments .124\n",
            "page 36 : 7 Supervisory expectations relating to disclosures Access to information is necessary for promoting transparency within financial institutions and contributing to the orderly functioning of financial markets.125 The European regulatory framework therefore sets out disclosure requirements to make key information available about an institution’s capital, risks and risk exposures in order to adequately inform market participants. Disclosures on climate- related risk allow market participants to make a more informed assessment of physical and transition risks. In turn, this will improve institutions’ and investors’ understanding of the financial implications of climate change. It should also be pointed out that the EU institutions have reached a political agreement to develop an EU -wide classification system, or taxonomy, for sustainable investments. Going forward, institutions subject to the Non- Financial Reporting Directive (NFRD) will be asked to provide further transparency on the extent to which their activities can be regarded as environmentally sustainable.126 In a similar vein, it should be noted that the European Commission plans to conduct a review of the NFRD as part of the strategy to strengthen the foundations for sustainable investment.127 128 7.1 Disclosure policies and procedures Expectation 13 For the purposes of their regulatory disclosures, institutions are expected to publish meaningful information and key metrics on climate- related and environmental risks that they deem to be material, with due regard to the European Commission’s Guidelines on non- financial reporting: Supplement on reporting climate- related information. Institutions are expected to specify in their disclosure policies key consid erations that inform their assessment of the materiality of climate- related and environmental risks, as well as the frequency and means of disclosures. Articles 431 et seq. of the CRR require institutions to publicly disclose specific\n",
            "page 37 : information that is m aterial, but is not proprietary or confidential. Article 432 of the CRR provides that information shall be regarded as material where its omission or misstatement could change or influence economic decision- making.129 To that end, institutions shall “have policies for assessing the appropriateness of their disclosures, including their verification and frequency.”130 This disclosure policy is expected to specify the way in which the materiality of climate- related and environmental risks is assessed.131 For this purpose, the EBA Guidelines state that, in the assessment of materiality of certain information, institutions should pay particular attention not only to their business model, long- term strategy and the overall risk profile, but also to the influence of the economic and political environment, the assumed level of relevance of information for users, and the relationship with recent developments in risks and disclosure needs.132 Based on the EBA Guidelines, there are no common thresholds for materiality.133 The assessment of the materiality of climate- related and environmental risks is therefore expected to be performed using both qualitative and quantitative information and to duly consider reputational and liability risks associated with the institution’s impact on the climate and environment and arising from controvers y in connection with its products and operations . Institutions are also reminded of the European Commission’s advice not to prematurely consider climate- related risks as immaterial owing to their longer -term nature.134 Institutions are reminded that disclosures of material risks must comply with Articles 4 33, 434 and 434a of the CRR. In case an institution deems climate- related risks to be immaterial, the institution is expected to document this judgement with the available qualitative and quantitative information underpinning its assessmen t. Pursuant to Article 432(1) of the CRR, information shall be regarded as material if its omission or misstatement could change or influence the assessment or decision of a user relying on that information for the purpose of making economic decisions. Furthermore, the EBA Guidelines state that, when an institution decides not to disclose information or a set of requirements due to immateriality, it should clearly state this fact.135 When institutions disclose figures, metrics and targets as material, they are expected to disclose or reference the methodologies, definitions and criteria\n",
            "page 38 : associated with them.136 These disclosures help to convey the institution’ s risk profile in a comprehensive manner to market participants, namely with a view to limiting reputational and liability risks . In particular, this expectation applies when institutions commit to contribute to climate- related and environmental goals, in which case the ECB also expects them to provide a comprehensive overview of the impact of the entity as a whole. The ECB has assessed that information currently disclosed is heterogeneous and partial, in some cases focusing on commitments (not) to finance certain activities without providing sufficient clarity on thresholds utilised and port folios covered. While institutions are encouraged to contribute to climate- related and environmental goals, they are also expected to provide comprehensive and meaningful information related to it. Institutions committing to stop or limit financing to certain industries or activities through dedicated financing policies are then expected to disclose the definition of the covered activity and associated targets, in terms of dates and outstanding volumes by geographic area. Institutions are also expected to communicate on progress in achieving these targets, the internal monitoring governance, as well as relevant methodological aspects, in particular, the criteria used to identify counterparties covered by the financing policy and the scope of business relationships concerned. Likewise, institutions are expected to consider all business lines and their exposures as a whole when reporting on their contribution to environmental goals.\n",
            "page 39 : Figure 1 Recommendations of the Task Force on Climate- related Financial Disclos ures Source: TCFD. 7.2 Content of climate -related and environmental risk disclosures Institutions are expected to disclose climate- related risks that are material with due regard to the European Commission’s Guidelines on non- financial reporting: Supplement on reporting climate -related information. The Supplement integrates the recommendations of the TCFD and provides guidance consistent with the N FRD. The expected disclosures revolv e around five key aspects: business model, policies and due diligence processes, outcomes, risks and risk management and KPIs. In this respect, institutions are reminded of the ECB expectations regarding their business model and strategy, governance and ri sk management as set out in this guide. Recommended disclosures a) Describe the board’s oversight of climate- related risks and opportunities . b) Describe management’s role in assessing and managing climate -related risks and opportunities.a) Describe the climate- related risks and opportunities the organisation has identified over the short, medium and long term . b) Describe the impact of climate -related risks and opportunities on the organisation’s businesses, strategy and financial planning. c) Describe the resilience of the organisation’s strategy, taking into consideration different climate- related scenarios, including a 2°C or lower scenario.a) Describe the organisation’s processes for identifying and assessing climate -related risks. b) Describe the organisation’s processes for managing climate -related risks . c) Describe how processes for identifying, assessing and managing climate- related risks are integrated into the organisation’s overall risk management.a) Disclose the metrics used by the organisation to assess climate -related risks and opportunities in line with its strategy and risk management process . b) Disclose Scope 1, Scope 2, and, if appropriate, Scope 3 greenhouse gas (GHG) emissions and the related risks. c) Describe the targets used by the organisation to manage climate -related risks and opportunities and performance against targets.Governance Disclose the organisation’s governance around climate- related risks and opportunities.Strategy Disclose the actual and potential impacts of climate- related risks and opportunities on the organisation’s businesses, strategy and financial planning, where such information is material.Risk management Disclose how the organisation identifies , assesses and manages climate -related risks.Metrics and targets Disclose the metrics and targets used to assess and manage relevant climate- related risks and opportunities, where such information is material . Expectation 13.4\n",
            "page 40 : In particular, institutions are expected to disclose the institution’s financed Scope 3 GHG emissions137 for the whole group. Although the ECB does not prescribe the use of a specific measurement and/or attribution methodology138, institutions are encouraged to adopt a granular approach to measuring carbon emissions, while remaining consistent with the GHG Protocol, as set out in the European Commission’s Supplement . This could, for instance, entail a project-by-project approach to measuring the carbon intensity of large corporate portfolios and the property -by-property measurement of actual energy consumption or energy efficiency classification for real estate portfolios. Institutions are expected to disclose:139 • the amount or percentage of carbon- related assets in each portfolio in € millions or as a percentage of the current portfolio value and, to the extent possible, a forward -looking best estimate of this amount or percentage over the course of their pl anning horizon; • the weighted average carbon intensity of each portfolio, where data are available or can be reasonably estimated and, to the extent possible, a forward- looking best estimate of this weighted average carbon intensity over the course of their planning horizon; • the volume of exposures by sector of counterparty and, to the extent possible, a forward -looking best estimate of this volume over the course of their planning horizon; • credit risk exposures and volumes of collateral by geography/country of location of the activity or collateral, with an indication of those countries/geographies highly exposed to physical risk. Institutions are expected to disclose or reference the methodologi es used and assumptions made. In particular, t his would include the definitions and formulae for the computation of the abovementioned metrics. Institutions are expected to disclose the KPIs and KRIs used for the purposes of their strategy -setting and risk management, as well as their current performance against these metrics. In line with the European Commission’s Supplement and the EBA’s key policy messages, institutions are expected to disclose the metrics used, including relevant target s and the current performance of the institution against those targets. Using the aforementioned metrics, the institution is expected to describe the short, medium and long- term resilience of its strategy in the light of different climate- related scenarios .\n",
            "page 41 : Institutions are expected to evaluate any further environmental risk- related information needed to comprehensively convey their risk profile. After all, risks to financial institutions emanate from a wide source of environmental factors, such as water stress, biodiversity loss, resource scarcity and pollution. As disclosure frameworks and the needs of market participants are evolving rapidly in this area, institutions are well -advised to actively improve their disclosures. Box 11 Example of o bserved practice: Overview of disclosure alignment with TCFD recommendations The ECB observed a bank that provides schematic reference to its alignment wit h the individual TCFD recommendations. This lays out the respective and specific chapters containing its disclosures that are in line with the TCFD recommendations. Table A Stylised overview table Expectation 13.7 Category TCFD recommendation Reference to institutions’ disclosures Governance a) Describe the board’s oversight of climate- related risks and opportunities. b) Describe management’s role in assessing and managing climate- related risks and opportunities. Document X, Page ABC Document X, Page ABC Strategy a) Describe the climate- related risks and opportunities the organisation has identified over the short, medium and long term. b) Describe the impact of climate- related risks and opportunities on the organisation’s businesses, strategy and financial planning. c) Describe the resilience of the organisation’s strategy, taking into consideration different climate -related scenarios, including a 2°C or lower scenario. Document Y, Page ABC Document Y, Page ABC Document X, Page ABC Risk management a) Describe the o rganisation’s processes for identifying and assessing climate- related risks. b) Describe the organisation’s processes for managing climate- related risks. c) Describe how processes for identifying, assessing, and managing climate- related risks are integrate d into the organisation’s overall risk management. Document Z, Page ABC Document Z, Page ABC Document Z, Page ABC Metrics and targets a) Disclose the metrics used by the organisation to assess climate- related risks and opportunities in line with its strategy and risk management process. Describe the organisation’s processes for managing climate- related risks. b) Disclose Scope 1, Scope 2, and, if appropriate, Scope 3 GHG emissions, and the related risks. c) Describe the targets used by the organisation to manage climate- related risks and opportunities, and performance against the targets. Document X, Page ABC Document X, Page ABC Document Y, Page ABC\n"
          ]
        }
      ]
    },
    {
      "cell_type": "code",
      "source": [
        "# Join all strings in cleaned_pdf_pages into a single string\n",
        "full_text = ' '.join(cleaned_pdf_pages)\n",
        "\n",
        "full_text"
      ],
      "metadata": {
        "colab": {
          "base_uri": "https://localhost:8080/",
          "height": 174
        },
        "id": "eIzcb5jA32P5",
        "outputId": "0eb18155-b4ad-414a-a34e-29ae3063630a"
      },
      "execution_count": null,
      "outputs": [
        {
          "output_type": "execute_result",
          "data": {
            "text/plain": [
              "'3 Climate -related and environmental risks 3.1 Definitions Climate change and environmental degradation are sources of structural change that affect economic activity and, in turn, the financial system. Climate- related and environmental risks are commonly understood to comprise t wo main risk drivers: • Physical risk refers to the financial impact of a changing climate, including more frequent extreme weather events and gradual changes in climate, as well as of environmental degradation, such as air, water and land pollution, water stress, biodiversity loss and deforestation.10 Physical risk is therefore categorised as “acute” when it arises from extreme events, such as droughts, floods and storms, and “chronic” when it arises from progressive shifts, such as increasing temperatures, sea- level rises, water stress, biodi versity loss, land use change, habitat destruction and resource scarcity.11 This can directly result in, for example, damage to property or reduced productivity, or indirectly lead to subsequent events, such as the disruption of supply chains. • Transition ri sk refers to an institution’s financial loss that can result, directly or indirectly, from the process of adjustment towards a lower -carbon and more environmentally sustainable economy. This could be triggered, for example, by a relatively abrupt adoption of climate and environmental policies, technological progress or changes in market sentiment and preferences. 3.2 Characteristics of climate -related and environmental risks Physical and transition risk drivers impact economic activities, which in turn impact t he financial system. This impact can occur directly, through for example lower corporate profitability or the devaluation of assets, or indirectly, through macro- financial changes.12 These risks also affect the resilience of an institution’s business model over the medium to longer term, and predominantly those institutions with business model s that are reliant on sectors and markets which are particularly vulnerable to climate -related and environmental risks. In addition, physical and transition risks can trigger further losses, stemming directly or indirectly from legal claims (commonly referred to as “liability risk”13) and reputational loss as a result of the public, the institution’ s counterparties and/or investors associating the institution with adverse environmental impact s (“reputational risk”). Consequently, physical and transition risks are drivers of existing risk, in particular credit risk, operational risk, market risk and liquidity risk , as well as non- Pillar 1 risks such as migration risk, credi t spread risk in the banking book, real estate risk and strategic risk (see Table 1 ). Climate- related and environmental risks may, in fact, be drive rs of several different risk categories and sub- categories of existing risk categories simultaneously . The m agnitude and distribution of physical and transition r isks depend on the level and timing of mitigation measures and whether the transition occurs in an orderly or disorderly fashion. Potential losses stemming from climate- related and environmental risks d epend especially on the future adoption of climate- related and environmental policies, technological developments and changes in consumer preferences and market sentiment. Irrespective of this, some combination of physical and transition risks will, in all probability, materialise on the balance sheets of euro area institutions and the economic value of their exposures .14 Existing estimates of adverse long- term macroeconomic effects resulting from climate change point to significant and lasting losses in wea lth. These may be due to slowing investment and lower factor productivity in many sectors of the economy, as well as reduced potential GDP growth.15 Table 1 Examples of climate- related and environmental risk drivers Risks affected Physical Transition Climate -related Environmental Climate -related Environmental • Extreme weather events • Chronic weather patterns • Water stress • Resource scarcity • Biodiversity loss • Pollution • Other • Policy and regulation • Technology • Market sentiment • Policy and regulation • Technology • Market sentiment Credit The probabilities of default (PD) and loss given default (LGD) of exposures within sectors or geographies vulnerable to physical risk may be impacted, for example, through lower collateral valuations in real estate portf olios as a result of increased flood risk. Energy efficiency standards may trigger substantial adaptation costs and lower corporate profitability, which may lead to a higher PD as well as lower collateral values. Market Severe physical events may lead to shifts in market expectations and could result in sudden repricing, higher volatility and losses in asset values on some markets. Transition risk drivers may generate an abrupt repricing of securities and derivatives, for example for products associated wi th industries affected by asset stranding. Operational The bank’s operations may be disrupted due to physical damage to its property, branches and data centres as a result of extreme weather events. Changing consumer sentiment regarding climate issues can lead to reputation and liability risks for the bank as a result of scandals caused by the financing of environmentally controversial activities. Other risk types (liquidity, business model) Liquidity risk may be affected in the event of clients withdrawi ng money from their accounts in order to finance damage repairs. Transition risk drivers may affect the viability of some business lines and lead to strategic risk for specific business models if the necessary adaptation or diversification is not implement ed. An abrupt repricing of securities , for instance due to asset stranding, may reduce the value of banks’ high quality liquid assets, thereby affecting liquidity buffers. Source: ECB. Methodologies to estimate the magnitude of climate- related risks for the financial system in general, and institutions specifically are being developed rapidly. Available estimates suggest that both physical16 and transition17 risks are likely to be signific ant. Although the majority of studies have focused on climate- related risks , such as the decline in asset values across carbon- intensive sectors, other environmental factors related to the loss of ecosystem services, such as water stress, biodiversity loss and resource scarcity , have also been shown to drive financial risk.18 19 There is also evidence of an interconnection between climate- related change and environmental risks , resulting in combined effects capable of potentially generat ing even greater impacts.20 Climate- related and environmental risks have distinctive characteristics that warrant particular consideration by supervisors and institutions alike. These characteristics include the far -reaching impact in breadth and magnitude, an uncertain and longer -term time horizon and the dependency on short -term action.21 Climate change has a far -reaching impact in terms of the business activities and geographic areas affected. Sectors that are more likely to be physically impacted are, amongst others, agri culture, forestry, fisheries, human health, energy , mining, transport and infrastructure, and tourism. Sectors that are likely to be impacted by the transition to a low -carbon economy include energy, transport, manufacturing, construction and agriculture.22 In particular, assets that are directly or indirectly associated with the extraction, processing, combustion or use of fossil fuels, or which are not sufficiently energy efficient, may suddenly and significantly decrease in value or even become “stranded assets” .23 Geographically, the impact of climate change is expected to vary substantially across the world. The European Environment Agency concludes that, in Europe, the most costly effects in southern Europe are projected to be increases in energy demand and heat waves, in western Europe coastal flooding and heat waves, in northern Europe coastal and river flooding, and in eastern Europe river flooding.24 The impact may differ considerably across given sectors and given geographic areas. Climate- related and environmental risks for euro area institutions are expected to primarily materialise in the medium to long term.25 As the planning horizon and average loan tenor for institutions is typically shorter than the time horizon in which the effects of climate- related change and environmental degradation would primarily arise ,26 it is important for institutions to take a forward- looking approach and consider a longer than usual time horizon. In addition, adopting a forward- looking perspective enables institutions t o respond in a timely manner should the pace of the transition to a low -carbon economy accelerate and transition risks materialise more rapidly than expected. 3.3 Observations from stocktakes The ECB performed a number of assessments to take stock of how euro area institutions are addressing climate- related and environmental risks, mainly through targeted surveys among samples of euro area institutions27, the assessment of euro area institutions’ public disclosures, as well as through the analysis of a sample of ICAAP submissions. The evidence collected has inform ed the content of this guide. While the approach towards climate- related and environmental risks varies depending on the size, business model, complexity and geographic location of the institutions, the aforementioned assessments demonstrate that institutions have predominantly approached the topic from the perspective of corporate social responsibility and have yet to develop a comprehensive risk management approach. According to a survey conducted joint ly by the ECB and the EBA, institutions broadly acknowledge the materiality of physical and transition risks and the increasing need to assess and incorporate climate- related and environmental risks into their risk management processes. Despite the fact that the majority of institutions have implemented one or more sustainability policies28, most of the institutions do not have the tools to assess the impact of climate- related and environmental risks on their balance sheet. More specifically, only a small number of institutions have fully incorporated climate- related and environmental risks into their risk management framework, through for instance a risk measurement approach, by defining their risk appetite, performing stress tests and scenario analyses and/ or assessing the impact on their capital adequacy. The ECB sees that institutions are increasingly involved in joint industry initiatives aimed at developing adequate methodologies and obtaining the necessary data. The assessment of a sample of significant institutions’ ICAAP packages shows that institutions’ practices are heterogeneous. Many institutions consider climate- related risks in their risk identification processes and/or have policies to exclude certain sectors from lending/investing based on envi ronmental criteria. However, climate -related risk taxonomies are very heterogeneous. If at all, climate- related risks are typically integrated within existing risk categories, such as credit risk, business/strategic risk or operational/reputational risk. A pproaches to assess their materiality, however, are limited in terms of depth and sophistication. Some institutions are beginning to set limits based on quantitative indicators. Only a few institutions include climate- related risks in their stress testing and reverse stress -testing scenarios, and the practice of assessing the capital impact and the capital requirements, should such risks unfold, remains limited. An assessment of significant institutions’ public disclosures of climate- related and environment al risks shows sparse and heterogeneous disclosure practices. The level of disclosures is correlated with size: the larger the institution, the more comprehensive the disclosures. Of the institutions that disclose climate- related and environmental risks, v ery few institutions are transparent as to the definitions and methodologies used. Only a minority of institutions’ disclosures are in line with the recommendations by the TC FD. Nonetheless, the ECB has observed that a number of institutions are involved i n initiatives that promote broader and more comparable disclosures and are working on improving their disclosure procedures. 4 Supervisory expectations relating to business models and strategy Article s 73 and 74(1) of the CRD, as further specified by the EBA Guidelines on internal governance29, require institutions to implement internal governance arrangements, processes and mechanisms to ensure effective and prudent management of the institution. In this respect, it is important for institutions to identify, assess and monitor the current and forward- looking impact of climate- related and environmental factors on their business environment and to ensure the sustainability and resilience of their business model going forward. 4.1 Business environment Expectation 1 Institutions are expected to understand the impact of climate- related and environmental risks on the business environment in which they operate, in the short, medium and long term, in order to be able to make informed strategic and business decisions. As se t out in the EBA Guidelines, institutions should identify, assess and monitor the business environment in which they operate, as it provides essential input for the assessment of the risks and developments that may affect the institution.30 Institutions are required to document material factors impacting their business environment. The business environment captures a broad range of external factors and trends that shape the business conditions in which an institution operates or is likely to operate based on its main or material geographic and business exposures.31 These include macroeconomic variables, the competitive landscape, policy and regulation, technology, societal/demographic developments, and geopolitical trends.32 Climate- related and environmental ri sks may affect all of these areas. When scanning their business environment, institutions are expected to identify risks arising from climate change and environmental degradation at the level of key sectors, geographi c areas and related to products and services they are active in or are considering becoming active in.33 Climate- related and environmental risks, for instance, may influence economic growth, employment or real estate prices at the national, regional or local level. Weather events may cause droughts or floods affecting regional agricultural production or housing demand at the national, regional, or local level. The loss of ecosystem services, such as animal pollination, can also directly affect crop yields and agriculture production.34 Policy changes to promote an environmentally -resilient economy may reduce the demand for real estate in certain areas , for example where there is high flood risk.. In parallel, the competitive landscape is affected by structural changes across company supply chains , the development of a green financing market and consumer preferences that are shifting away from carbon- intensive goods and services. In the area of technology, institutions serving clients operating in energy -intensive industries, or power stations with a high reliance on fossil fuels, may see that their clients are facing significant capital expenditure requirements to decarbonise their energy mixes. In general , instituti ons are expected to adopt granular approaches to mapping these impacts on their business environment. Depending on the type of climate- related and environmental impact, granular approaches may include “within- sector ” differences, taking into account supply chain effects or us ing detailed geographic location data. Institutions are expected to properly document their assessment s of climate- related and environmental risks in terms of their business environment. For instance, it could be reflected as part of their regular monitoring of material or emerging risks, or evidenced through management board discussions.35 Institutions are expected to understand how climate- related and environmental risks affect their business environment in the short, medium and long term to inform their business strategy process. The way that institutions strategically respond to changes in their business environment stemming from climate- related and environmental risks will impact the resilience of their business model over time. Institutions are thus expected to explicitly consi der climate- related and environmental changes to their macroeconomic and regulatory environment and their competitive landscape, in particular. This is expected to be reflected in institutions’ business strategy processes, and demonstrated by documented ma nagement body36 meetings and discussions. The relevant time horizon is also an important dimension to consider. While some risks may play out in the short to medium run, for example reputational effects , extreme weather events , such as floods or public policy-driven developments37, others may stretch out over considerably longer horizons. Institutions are expected to take into account up- to-date scientific insights to enhance their understanding of the potential changes to their business environment going forward. Institutions are also advised to monitor relevant policy initiatives in the jurisdictions in which they operate, for example related to energy efficiency standards that might affect real estate portfolios.38 4.2 Business strategy Expectation 2 When deter mining and implementing their business strategy, institutions are expected to integrate climate- related and environmental risks that impact their business environment in the short, medium or long term. The business strategy is an institution’s principal tool for positioning itself within its business environment in order to generate acceptable returns in line with its risk appetite. As set out in the EBA Guidelines39, institutions should take into account any material factors related to their long- term financial interests and solvency when determining their business strategy. Climate -related and environmental risks may directly impact the effectiveness of institutions’ existing and future strategies.40 Institutions are expected to determine whi ch climate- related and environmental risks impact their business strategy in the short, medium and long term, for example by using (stress) scenario analyses.41 As set out in the EBA Guidelines, institutions should take the limitations, vulnerabilities and shortcomings detected in internal stress tests and scenario analyses into account when determining their business strategy.42 The scenario analysis tool is particularly useful in the context of climate -related and environmental risks given the uncertainty associated with the future course of climate change and society’s response to it.43 By developing a set of plausible scenarios to test the resilience of its business model, an institution can account for this uncertainty in its strategic decision- making. These scenarios are expected to include assumptions regarding the impact of climate- related and environmental risks and the time horizons over which these effects are expected to materialise. These assumptions can be quantitative and/or qualitative in nature, are expected to rely on forward- looking information whe re available, and also to be relevant to an institution’s particular exposure to environmental risk (depending on the type of business activity, sector and geographic location of such exposures). This may also involve an expert judgement, since the given nature of climate change as a driver of financial risk will present new challenges that have not yet materialised.44 In turn, scenario analyses can be used to assess risks in the short to medium term as well as in the longer term: 1. A short -to-medium term assessment is expected to include an analysis of the climate -related and environmental risks to which the institution is exposed within its current business planning horizon (three to five years). 2. A longer -term assessment beyond the typical business planning horizon ( more than five years , thus in line with public policy commitments to transitioning to a more sustainable economy ),45 assessing the resilience of the current business model against a range of plausible future scenarios relevant to estimate climate -related and environmental risks, would be required to capture the specificities of this kind of risk. The institution’s business strategy and its implementation is expected to reflect climate- related and environmental risks, for example by setting and monitoring key performance indicators (KPIs) that are cascaded down to individual business lines and portfolios. Based on the EBA Guidelines46, the risk management framework of an instit ution should enable it to make fully informed decisions on risk -taking, including decisions concerning both internal and external developments. In order to support their business strategy, institutions may set KPIs for any type of climate- related or environmental risk. These KPIs should be measurable and quantifiable, wherever possible. Depending on the nature of the institution’s activities, these KPIs should be cascaded down to relevant business lines and portfolios. Institutions are also expected to poss ess the capabilities to integrate material climate- related and environmental risks into the relevant layers of its organisation by assigning specific duties, ensuring ongoing communication through the various functions, monitoring progress, taking timely c orrective action and tracking all related budget costs. When setting strategic objectives, institutions are expected, in particular , to reflect the risks to their different lending and trading portfolios stemming from the transition to a more sustainable, low -carbon economy. Any strategic decisions related to material climate- related and environmental factors are expected to be integrated in the institution’s policies, for example in its credit policies by sector and by product. Box 2 Example of o bserved practice: Climate- related and environmental key performance indicators The ECB observed an institution which had integrated the following climate- related and environmental key performance indicators (KPIs) into its strategic framework with a view to making its strategy of reducing exposure to transition risks measurable: i) the carbon emission footprint of its assets; ii) the average energy label of its mortgage portfolios; and i ii) the number of homes that saw an energy label improvement thanks to its financing. In addition to these KPIs, the institution stresses its portfolios using a climate- related stress scenario. The scenario outcome is defined in terms of negative macroeconomic effects , which in turn may be used as an indicator to steer its strategic portfolio decisions over time. Both t he KPIs and results from the scenario analysis underpin the bank’s strategic approach to the ris ks arising from climate change and other environmental developments. The metrics are cascaded down to the business line level (e.g. retail banking, private banking, commercial banking and corporate banking). For each metric, the respective time horizon is set and progress is measured against a base year. 5 Supervisory expectations relating to governance and risk appetite Under Article 74 of the CRD, institutions are required to have robust governance arrangements in place that allow institutions to effectively identify, manage, monitor and report the risks they are or might be exposed to, so as to form a holistic view of all risks both on an individual and consolidated basis.47 To enable institutions to understand and respond to climate- related and environmental risks, institutions are expected to embed these risks in their governance and risk appetite frameworks, while adequately involving all relevant functions. In addition, appropriate and regular reporting on climate- related and environmental risks to the management body is expected to ensure proper management of these risks. 5.1 Management body Expectation 3 The management body is expected to consider climate- related and environmental risks when developing the institution’s overall business strategy, business objectives and risk management framework and to exercise effective oversight of climate- related and environmental risks. As set out in the EBA Guidelines48, the management body’s49 responsibilities include setting, approving and overseeing the implementation of the overall business strategy and key policies, the overall risk strategy, an adequate internal governance and internal control framework. Given the impact of climate- related and environmental risks on these aspects, the management body plays a key role in terms of both its supervisory and its management function.50 The management body is expected to explicitly allocate roles and responsibilities to its mem bers and/or its sub -committees for climate- related and environmental risks. Based on the EBA Guidelines, the management body should ensure that the reporting lines and the allocation of responsibilities within an institution are clear, well -defined, coherent, enforceable and duly documented.51 Notwithstanding its collective ultimate and overall responsibility for the institution, the management body is expected to explicitly and formally allocate roles and responsibility, as appropriate, within the instituti on’s organisational structure and in line with its risk profile. Institutions may, on the basis of the proportionality principle, establish committees other than those specifically referred to in the CRD.52 Institutions may consider assigning the responsibi lity for climate- related and environmental risks to a member of an existing committee or may consider setting up a dedicated committee. Box 3 Example of observed practice: Setting up dedicated committees The ECB observed several institutions that have es tablished dedicated committees as part of their efforts to fully consider climate- related and environmental risks. For example, as part of its medium -term strategic plan, one bank is in the process of establishing a committee which draws on internal and ex ternal expertise, such as scientists from relevant disciplines, to advise and assist the management body in defining its ESG strategy (including climate- related and environmental risks). This includes reviewing its climate- related and environmental risks, as well as related sectoral financing policies, which determine both targets and limits for exposures to certain sectors. Another bank has set up a dedicated committee to provide informed guidance on transactions with complex climate -related and environmental implications. This committee is chaired by senior management. The management body is expected to consider the knowledge, skills and experience of its members in the area of climate -related and environmental risk in its assessment of the collective suitability of such members . As set out in the CRD and further specified in the joint ESMA and EBA Guidelines53, the management body shall possess adequate collective knowledge, skills and experience to be able to understand the institution ’s activities, including the main risks , and should review this on an ongoing basis.54 The management body itself is also expected to have an adequate understanding of climate- related and environmental risks in order to be able to consider in its assessment of collective suitability the knowledge, skills and experience needed for sound and effective management and disclosure of climate -related and environmental risks to which the institution is exposed. The management body is expected to ensure that the institution adequately embeds climate- related and environmental risks in the overall business strategy and risk management framework.55 The management body should be involved in setting, approving and overseeing the business strategy process56, and should take decisions on a sound and well -informed basis.57 As explained in the previous sections, the management body is expected to consider the short, medium and long- term climate -related and environmental effects on the overall business strategy and clearly embed the relevant responsibilities in the organisational structure. The management body is also expected to decide on the materiality of the climate -related and environmental risks , specifying and documenting the qualitative and quantitative information under lying its decisions .58 With regard to the management body’s responsibility for setting, approving and overseeing the implementation of the key policies of the institutions,59 60 the management body is expected to review on an ongoing basis whether existing policies comprehensively cover climate -related and environmental risks, including the (credit) policies for each sector and product. To achieve a holistic approach to risk,61 while considering the institution’s l ong-term financial interest,62 the management body is advised to explicitly consider the institution’s response to the objectives set out under international agreements such as the Paris Agreement (2015), EU environmental -related policies such as the EU Green Deal, local and national policies, as well as the outcomes of well -founded climate -related and environmental assessments, such as those by the IPCC and IPBES. The management body is expected to exercise effective oversight over the institutions’ exposures and response to climate- related and environmental risks. As stated in the EBA Guidelines,63 the oversight role includes reviewing the performance of the management function and the achievement of its objectives. In order to promote an ef fective oversight function and informed decision- making,64 the management body in its management function is encouraged to set KPIs and KRIs, as described in the previous and following section. The management body in its supervisory function is expected to monitor and scrutinise the targets and any developments in those KPIs and KRIs. 5.2 Risk appetite Expectation 4 Institutions are expected to explicitly include climate- related and environmental risks in their risk appetite framework. Institutions are expected to have in place a risk appetite framework (RAF) that considers all the material risks to which the institution is exposed, that is forward -looking, in line with the strategic planning horizon set out in the business strategy and that is reviewed regularly .65 Integrating climate- related and environmental risks into the RAF increases institutions’ resilience to such risks and improves their ability to manage those risks, for example, by setting limits on lending to sectors and geographi c areas that are highly exposed to climate- related or environmental risks.66 Institutions are expected to develop a well -defined description of climate- related and environmental risks in their risk inventory that feeds into their risk appetite statement (RAS) . The risk inventory is the result of the risk identification process and is expected to be based on the institution’s internal risk taxonomy, which is a categorisation of different risk types and factors within which climate -related and environmental risks are expected to be clearly defined.67 The risk inventory is used as a basis for the formulation of the RAS . Institutions are expected to develop appropriate key risk indicators and set appropriate limits for effectively managing climate -related and environmental risks in line with their regular monitoring and escalation arrangements. Based on the EBA Guidelines, institutions are expected to ensure that their risk strategy and risk appetite consider all material risks to which they are exposed and specify risk limits, tolerances and thresholds.68 In addition, institutions should have a risk management framework in place that ensures that, when risk limits are breached, there is a defined process for escalating and addressing these, together with an appropriate follow -up procedure.69 The ECB expects institutions to monitor and report their exposures to climate- related and environmental risks on the basis of their current data and forward- looking estimations. The ECB expects institutions to assign quantitative metrics to climate- related and environmental risks, particularly for physical and transition risks. However, it also acknowledges that common definitions and taxonomies in these risk areas are still under development, and that qualitative statements can be used as intermediate steps while the institution is developing appropriate quantitative metrics. It is also expected that the relevant risk appetite indicators and limits are determined based on the level of risk that the institution is willin g to assume within its risk capacity, in line with its business model . With respect to climate- related risks, institutions are expected to develop metrics that consider the long- term nature of climate change, particularly how different paths of temperature and greenhouse gas (GHG) emissions may accentuate existing risks. Thes e metrics are expected to support the institution’s ability to respond to a sudden transition towards a low -carbon economy or a physical event impacting its operations or lending portfolios and to implement mitigating actions on a timely basis . Box 4 Exam ple of o bserved practice: Carbon- intensity targeting and climate resilience of the balance sheet The ECB observed that several institutions aim to keep the carbon content of their financed energy mix in line with the target of remaining well below 1.5-2°C, as provided for in the 2015 Paris Agreement. This approach is one course of action that can be taken to reduce exposure to transition risks stemming from the public policy measures announced for the subsequent decades. Chart A Carbon- intensity targeting Source: World Energy Outlook 2019. Some institutions use the International Energy Agency Sustainable Development Scenario or a similar scenario to quantify such targets, as illustrated in the graph. Other institutions take a different approach that involv es, for each sector with a large carbon footprint, measuring and benchmarking how lending to these sectors contributes to climate resilience, and adjusting the lending portfolio accordingly. Such approaches are not mutually exclusive and, in fact, some ins titutions have adopted several methodologies. Institutions are expected to ensure that their remuneration policy and practices stimulate behaviour consistent with their climate- related and environmental (risk) approach, as well as with voluntarily commitments made by the institution. As set out in the EBA Guidelines, remuneration policies and practices Expectation 4.3 0100200300400500600 2014 2018 2030 2040 2050CO2 per kW hBank targets IEA Sustainable Development Scenario should be consistent with the institution’s risk appetite, business strategy and long- term objectives.70 Incentive structures should stimulate behaviour in line with the risk appetite and long- term business goals71 and discourage excessive risk -taking. Remuneration policies and practices, including the use of deferral and the determination of performance criteria, are expected to help foster a long- term approach to managing climate- related and environmental risks in line with the institution’s risk appetite and strategy . To encourage behaviour consistent with their climate -related and environmental (risk) approach, institutions that have clima te-related and environmental objectives could consider implementing a variable remuneration component linked to the successful achievement of those objectives. Where the financial impacts of climate- related and environmental risks are difficult to quantify , the management body can consider incorporating appropriate qualitative criteria into the remuneration policy. 5.3 Organisational structure Expectation 5 Institutions are expected to assign responsibility for the management of climate -related and environmental risks within the organisational structure in accordance with the three lines of defence model. In accordance with Article 74 of the CRD, and as further specified in the EBA Guidelines, institutions should have in place a clear, transparent and documented decision- making process and a clear allocation of responsibilities and authority within their internal control framework, including their business lines, internal units and internal control functions72 that promote informed decision- making by the management body.73 Consequently, responsibilities for identifying, assessing and managing climate- related and environmental risks are expected to be evenly distributed across the different functions within the institution. Institutions are expected t o explicitly assign responsibilities for climate -related and environmental risks within their institution. These responsibilities are also expected to be duly documented in the relevant policies, procedures and controls. Institutions are expected to explic itly define which internal structures have responsibility for considering climate- related and environmental risks and to clearly describe their respective mandates and working procedures. Institutions may allocate such responsibilit ies across existing stru ctures or, if deem ed useful , may consider establishing a dedicated structure responsible for coordinating the institution’s overall risk management approach to climate- related and environmental risk. If such a dedicated structure for climate- related and environmental risks is established, its integration into existing processes and interfaces with other functions is expected to be clearly defined. Regardless of the specific arrangements, institutions are expected to describe the relationships between the relevant structures and their working procedures to ensure an adequate flow of information between all parties involved. Institutions are expected to ensure that the functions involved in managing climate- related and environmental risks have the appropriate human and financial resources. Based on the EBA Guidelines, institutions should ensure that the internal control functions have the appropriate financial and human resources , as well as the powers to effectively perform their role.74 In the same vein, institutions are expected to evaluate the appropriateness of the capacity and resources to deal with climate -related and environmental risks, particularly in the relevant functions responsible for managing these risks. To the extent needed, inst itutions are expected to strengthen the available capacity and resources, as well as to encourage appropriate training for all relevant functions. This also includes ensuring that the institution’s norms, attitudes and behaviours related to risk awareness take into account the uncertain, but potentially significant , impact s of climate- related and environmental risks. Institutions are expected to define the tasks and responsibilities of the first line of defence in terms of risk- taking and risk management of climate -related and environmental risks. Institutions are expected to ensure that the first line of defence performs its duties in accordance with any climate- related and environmental policy, procedure or limit. More specifically, the f irst line of defence is expected to identify, assess and monitor any climate- related and environmental risks relevant for the creditworthiness and the scoring/rating of a client, as well as to conduct proper due diligence on climate- related and environment al risks in line with Expectation 7.4. Institutions are expected to define the tasks and responsibilities of the risk management function for identifying, assessing, measuring, monitoring and reporting climate -related and environmental risks. The main responsibility of the risk management function is to ensure that all risks are identified, assessed, measured, monitored, managed and properly reported by the relevant units in the institution.75 It is expected to provide relevant independent information, analyses and expert judgement on risk exposures. Since climate- related and environmental risks materiali se through existing risk s, the tasks and responsibilities are expected to be embedded in the framework of the existing management system, as further detailed in the risk management section. Box 5 Example of o bserved practice: Horizontal points of contact The ECB observed several institutions that have implemented specific measures to promote a risk culture that takes into account climate- related and environmental risks. For example, one bank designated certain employees as horizontal points of contact to ensure that climate- related and environmental risks were appropriately integrated into its risk management function’s working procedures. Anot her bank put in place correspondents for those business lines actively cooperating and liaising with risk management functions and/or other functions involved in ESG risks, including climate -related and environmental risks. Institutions ar e expected to define the tasks and responsibilities of the compliance function by ensuring that compliance risks stemming from climate- related and environmental risks are duly considered and effectively integrated in all relevant processes. The compliance function should advise the management body on measures to be taken to ensure compliance with applicable laws, rules, regulations and standards, and should assess the possible impact of any changes in the legal or regulatory environment on t he institution’s activities and compliance framework.76 As rules and standards on sustainability may change over time, institutions may increasingly face compliance- related risks, such as liability, litigation and/or reputational risks, stemming from climat e-related and environmental issues. The internal audit function is expected to consider in its reviews the extent to which the institution is equipped to manage climate- related and environmental risks. The internal audit function should rev iew the institution’s internal control and risk management framework, by considering external developments, changes in the risk profile and in products and/or business lines , among other things .77 This is expected to include the appropriateness of the arrangements for managing climate -related and environmental risks. Furthermore, an institution’s policies and procedures for climate- related and environmental risks fall within the scope of the internal audit function, as its role is to review compliance with t he institution’s internal policies and procedures and with external requirements. 5.4 Reporting Expectation 6 For the purposes of internal reporting, institutions are expected to report aggregated risk data that reflect their exposures to climate- related and environmental risks with a view to enabling the management body and relevant sub- committees to make informed decisions. The EBA Guidelines78 set out how institutions should establish regular and transparent reporting mechanisms so that the management body, its risk committee, where established, and all relevant units in an institution are provided with reports in a timely, accurate, concise, c lear and meaningful manner and can share relevant information on the identification, measurement or assessment, monitoring and management of risks. Consequently, the ECB expects institutions to integrate climate -related and environmental risks into their data reporting frameworks with a view to informing decision- making at management level. The ECB acknowledges that metrics and tools are evolving and that, currently, data available in institutions are sometimes incomplete. Nevertheless, it expects reporting of climate- related and environmental risks to mature over time. Initially, when accurate and complete reporting is deemed unfeasible or premature, the ECB expects institutions to assess their data needs in order to inform their strategy -setting and risk m anagement, to identify the gaps compared with current data and to devise a plan to overcome these gaps and tackle any insufficiencies. Institutions are expected to develop a holistic approach to data governance for climate- related and envir onmental risks. Based on the EBA Guidelines, regular and transparent reporting mechanisms should be established in order to ensure timely, accurate, concise, understandable and meaningful reporting that will enable the sharing of relevant information about the identification, measurement or assessment, monitoring and management of risks.79 Institutions are expected to define, document and integrate climate- related and environmental risks into the data reporting framework, so they can effectively monitor, man age and mitigate their exposures to these risks. In particular, this includes risk data reporting governance, IT infrastructure, risk data aggregation capabilities and reporting procedures. Institutions are expected to ensure that the data reporting framew ork for climate- related and environmental risks operates in conjunction with the climate- related and environmental risk metrics set out in their existing RAS and risk management processes. The data reporting framework is also expected to support, where rel evant, the KPIs used to assess the performance of the institution in terms of climate- related and environmental risks and public disclosure.80 As climate- related and environmental risks have distinctive characteristics, institutions are expected to consider adapting their IT systems to systematically collect and aggregate the necessary data in order to assess their exposures to these risks. While institutions are expected to incorporate the data taxonomy of these risks, it is also acknowledged that this may not be feasible owing to the current lack of common definitions, taxonomies and data gaps. In this case, institutions are expected to consider establishing reporting processes and procedures based on internal or external qualitative risk metrics to ensure that climate- related and environmental risks are adequately reported to the management body. To this end, the management body is expected to be aware of the limitations of the reporting it receives in terms of its coverage, as well as legal and technical constraints. The management body is expected to use this information to discuss, challenge and take decisions on managing impacts arising from climate- related and environmental risks. An institution’s risk reports are expected to convey the impact of climate- related and environmental risks on its business model, strategy and risk profile.81 Institutions should strive to cover all material climate- related and environmental risks across the legal entity and/or business lines in its risk reports. These risk reports , which also cover climate -related and environmental risks , are expected to be integrated in the institution’s existi ng risk reporting framework. The depth and scope of these reports are expected to be consistent with the size and complexity of the institution’s operations and risk profile. An institution is expected to be able to generate aggregated and up-to-date climate- related and environmental risks data in a timely manner. This is consistent with EBA Guidelines that expect institutions to have effective and reliable information and communication systems that fully support risk data aggregation capabi lities during both normal operations and times of stress.82 The issue of timeliness is critical to these risks owing to, for example, the impacts of a sudden transition to a low -carbon economy or the impact of a physical event on an institution’s operations . The management body, therefore, should remain aware of any developments at national, international, political and regulatory levels that may have an impact on its reporting expectations. An institution is expected to be adaptable in order to generate agg regated climate- related and environmental risk data to meet a broad range of on- demand and ad hoc reporting requests, including requests during stress/crisis situations, requests related to changing internal needs and requests to meet supervisory queries, as demand for climate- related and environmental risks reporting increases. 6 Supervisory expectations relating to risk management Building on the previous chapter, this section provides detailed guidance on integrating climate- related and environmental risks into credit, operational, market and liquidity risk management, as well as into the ICAAP overall , including risk quantification by means of scenario analysis and stress testing. 6.1 Risk management framework Expectation 7 Institutions are expected to incorporate climate- related and environmental risks as drivers of existing risk categories into their risk management framework, with a view to managing, monitoring and mitigating these over a sufficiently long- term horizon, and to review their arrangements on a regular basis. Institutions are expected to identify and quantify these risks within their overall process of ensuring capital adequacy. As part of their overall internal control framework, institutions should have an institution- wide risk management frame work that extends across all business lines and internal units, including internal control functions.83 84 According to Article 73 of the CRD, institutions shall have in place sound, effective and comprehensive strategies and processes for assessing and maintaining on an ongoing basis the amounts, types and distribution of internal capital that they consider adequate to cover the nature and level of the risks to which they are or might be exposed. In addition to its current material risks, the institution is expected to consider any risks, and any concentrations within and between those risks, that may arise from pursuing its strategies or from relevant changes in its operating environment.85 Institutions are thus expected to comprehensively analyse the ways i n which climate- related and environmental risks drive the different risk areas, including liquidity, credit, operational, market and any other material risk to capital or any of its sub- categories that it is or might become exposed to. Furthermore, they ar e expected to pay particular attention to concentrations within and between risk types that climate- related and environmental risks may cause. Institutions are expected to have a holistic and well -documented view of the impact of climate- related and environmental risks on existing risk categories. The risk management framework should encompass on- balance- sheet risks and off-balance- sheet risks, with appropriate consideration of both financial and non-financial risks86, both for risks that the institutions is currently exposed to and for risks that the institution may be exposed to going forward. Institutions are responsible for implementing a regular process for identifying all material risks and including these in a comprehensive internal ris k inventory . The expectation includes the normative and the economic perspectives of the ICAAP.87 Institutions are expected to comprehensively include climate- related and environmental risks in their assessment of materiality for all of their business areas in the short, medium and long- term under various scenarios. The underlying analysis is expected to be tailored to the business model and risk profile, taking due consideration of the vulnerabilities of the economic (sub- )sectors, operations and physical locations of the institution and its counterparties . Institutions are expected to document the climate- related and environmental risks considered, in particular , their transmission channels and impact on the risk profile. Moreover, institutions are expected to justify an assessment of non- materiality, specifying and documenting the qualitative and quantitative information underlying that assessment .88 Box 6 Example of o bserved practice: Mapping of climate- related risks to financial risks Some institutions have launched an internal process to map climate- related risks and their potential financial impacts. One bank mapped the main transmission channels to its existing risk categories and provided an overview of the estimated impact on its risk profile a nd the estimated time frame. Table A Stylised example of the mapping of climate- related risks to financial impacts Source: ECB. Institutions are expected to adequately quantify the climate- related and environmental risks that the institution is exposed to .89 As also stated in the ECB Guide to the ICAAP, risks are not expected to be excluded from the assessment because they are difficult to quantify or because the relevant data are not available.90 Where such quantification methodologies are subject to further developments, also taking into account the current work and upcoming publications of international networks91 and standard setters, institutions may use plausible assumptions to develop proxies for the assessment of climate- related and environmental risks. As described in S ection 6.5, institutions may, in particular , consider the use of scenario analysis and stress testing for this purpose. Institutions are expected to adopt a strategic approach to managing and/or mitigating climate- related and environmental risks in line with their business strategy and risk appetite, and to adapt policies, procedures, risk limits and risk controls accordingly. Based on the EBA Guidelines, an institution’s risk management framework should provide specific guidance on the implementation of its strategies and, where appropriate, establish and maintain internal limits consistent with its risk appetite and commensurate with its sound operation, financial strength, capital base and strategic goals.92 With this in m ind, institutions are expected to consider the need to adjust their risk policies, for example by setting criteria to identify business areas, including portfolios and investments , that can be supported in gradually reducing climate- related or environmental risks, thus fostering their resilien ce to transition and/or physical risks . Institutions are encouraged to engage in constructive dialogue with critical counterparties , including with a long- term view to improving the sustainability rating and/or credit rating of a counterparty. An institution may also consider setting limits on financing certain sensitive economic (sub- )sectors, sovereigns, businesses or real estate exposures or even excluding some specific (sub-)sectors or borrowers from credit -granting that are not aligned with its climate -related risk appetite. Specifically for institutions originating or planning to originate environmentally sustainable lending, the EBA Guidelines on loan o rigination and monitoring envisage that institutions assess the extent to which the lending activity “ is in line with or is contributing to the overall climate- related and environmentally sustainable objectives of the institution” .93 Box 7 Example of o bserved practice: Quantifying the climate- related and environm ental impacts of financing in the ICAAP The ECB has observed a bank that, in its internal capital plan, assesses the environmental impact of its financing and assigns an environmental rating to either the asset or project being financed, or to the borrower for general purpose financing, whether a corporate or public sector client. This rating is derived from an assessment of the deal’s climate impact, and factors in any significant environmental externalities, such as water use, pollution, waste and biodiversity. On the basis of this rating, the bank applies penalties to the assets projected to have the highest level of environmental impact, leading to an increase in the analytical risk weight for these exposures. The bank reports that the facilities with a negative environmental and climate impact are subject to an increase in their analytical risk -weighted assets of up to a quarter. Ultimately, this impact is reflected in the expected rate of return of the assets, providing potential incentives to invest or disinvest in particular sectors. Institutions are expected to conduct a proper climate -related and environmental due diligence, both at the inception of a client relationship and on an ongoing basis. This should be understood to include t he collection of the information and data needed to assess the vulnerabilities of exposures and investments to climate- related and environmental risks, notably at their inception. Institutions are expected to perform reasonability checks on such information and data in line with the institutions’ risk policies and procedures. Institutions are expected to be aware of their clients’ impact on and vulnerability to climate- related and environment al aspects and of their approach to managing this impact and risk. Moreover, proper environmental due diligence, when appropriately acted upon, is likely to reduce reputational and liability risks. The scope and depth of due diligence is expected to be defined in relation to the sector and geographic location in which the client is located. If deemed necessary, institutions may consider the need for external expertise. Institutions are advised to ensure compliance with the OECD Guidelines for Multinational Enterprises ,94 for example. Any findings from due diligence assessments are expected to be considered in the decision on whether and how to engage, or continue to engage, with a client. Institutions are expected to assess the impact of climate- related and environmental risks on their capital adequacy from an economic and a normative perspective. In line with the ECB Guide to the ICAAP, institutions are expected to consider in their forward- looking capital adequacy assessment any risks, and any concentration within and between those risks, th at may arise from relevant changes in their operating environment.95 In the same vein, the ECB expects institutions to incorporate climate change, in particular the energy transition, into the assessment from an economic value perspective. Institutions are expected to take into consideration the impact of climate- related and environmental risks when determining their capital adequacy in a way that enables the institution to sustainably follow its business model by ensuring economic and normative capital adequacy .96 As set out in the ECB Guide to the ICAAP, institutions are expected to implement both a normative perspective and an economic perspective that mutually inform each other. Institutions are expected to take into account potential effects of climate- related and environmental risks on economic value in the e conomic perspective. T he potential impact on regulatory capital ratios going forward, reflected in baseline and adverse scenario assessments , are expected to be considered in the normative perspective. Institutions are also expected to consider the outcomes of these assessments in their risk appetite and business strategy , as well as in their decision- making more generally . Institutions are expected to evaluate the appropriateness of th eir identification, measurement and mitigation instruments for climate- related and environmental risks in their periodic reviews. Institutions should perform regular internal reviews ,97 for instance, in the context of the ICAAP.98 The purpose of these reviews is to assess whether internal processes and methodologies have led to sound outcomes and whether they remain appropriate in view of current and future developments.99 As the availability of data and methodologies for identifying and measuring climat e-related and environmental risks is evolving rapidly, institutions are expected to regularly consider the appropriateness and quality of the data sources and methods in place. 6.2 Credit risk management Expectation 8 In their credit risk management, instituti ons are expected to consider climate- related and environmental risks at all relevant stages of the credit -granting process and to monitor the risks in their portfolios. In accordance with Article 79 of the CRD, competent authorities must ensure, among other things, that institutions grant credit on the basis of sound and well -defined criteria and that the process for approving, amending, renewing and refinancing credit is clearly established. To this end, institutions are expected to adopt a holistic approach and take into account risks associated with climate- related and environmental factors in their credit risk policies and procedures, in line with the EBA Guidelines on loan origination and monitoring.100 101 Climate- related and environmental risks are expected to be included in all relevant stages of the credit -granting process and credit processing. Specifically, institutions are expected to form an opinion on how climate- related and environmental risks affect the borrower’s default risk .102 The climate- related and environmental factors material to the default risk of the loan exposure are expected to be identified and assessed. As part of this assessment, institutions may take into consideration the quality of the clients’ own management of cli mate- related and environmental risks. Institutions are expected to give appropriate consideration to changes in the risk profile of sectors and geographi c areas driven by climate- related and environmental risks. For instance, overexploitation of natural resources, such as water, in certain areas might lead to limitations on their use, which can lead in turn to disruptions to production and losses to institutions’ counterparties . Box 8 Example of o bserved practice: Climate- informed shadow probabilities of defaults The ECB observed that institutions often consider climate- related and environmental risks qualitatively in their credit -granting process. Nonetheless, some institutions are considering or in the process of developing means to incorporate these risk s into their models. One bank is developing climate -informed shadow probabilities of defaults (PDs) to be reported alongside the regular PDs. The climate- informed shadow PDs would take into consideration a detailed analysis of physical and transition risks for higher risk counterparties identified in a screening process. A big differential between the two would then trigger the need to consider mitigating action. A second bank is developing a scorecard for sustainability risks comprising qualitative aspects . The input from the scorecard would get a fixed weighting within the model. Another bank includes environmental variables in its internal credit -scoring models. The environmental valuation has been introduced for sectors where such an assessment was found to be relevant in terms of credit quality differential analysis. The potential environmental impact of the underlying activities influences the credit quality. The credit -scoring models have been rolled out for exposures to l arge c orporates, c orporat es and for project f inance exposures. Institutions are expected to adjust risk classification procedures in order to identify and evaluate, at least qualitatively, climate- related and environmental risks. Institutions are expected to define appropriate general risk indicators or ratings for their counterparties that take into account climate- related and environmental risks. As part of risk classification procedures, institutions are expected to identify borrowers that may be exposed, directly or indirectly, to increased climate- related and environmental risks .103 Critical exposures to such risks should be highlighted and, where applicable, considered under various scenarios104 with the aim of ensuring the ability to assess and introduce in a timely manner any appropriate risk mitigation measures, including pricing. Institutions are expected to consider, for example, the use of heat maps that highlight sustainability risks based on the relevance of individual (sub-)economic sectors for a given client. Institutions are expected to consider climate- related and environmental risks in their collateral valuations. Climate- related and environmental risks may affect the value of collateral. Institutions are expected to give particular consideration to the physical locations and the energy efficiency of commercial and residential real estate in this regard. Institutions are expected to incorporate these considerations into both the process for establishing the value of collateral and into the review process prescribed by the applicable regulations .105 Institutions are expected to monitor and manage credit risks in their portfolios, in particular through sectoral/geographic/single -name concentration analysis, including credit risk concentrations stemming from climate- related and environmental risks, and using exposure limits or deleveraging strategies.106 Institutions are expected to monitor how geographic and sectoral concentration is prone to climate- related and environmental risks. Likewise, institutions may measure concentrations of assets with specific characteristics plausibly targeted by transition policies, for example the distribution of energy efficiency labels within residential and commercial real estate portfolios in the light of potential legislation. For larger counterparties, institutions may consider climate- related and environmental risks in the single- name concentration analysis. Institutions are advised to develop their monitoring capabilities in conjunction with the metrics and limits developed for the purposes of their risk appetite and data governance framework. Institu tions’ loan pricing frameworks are expected to reflect their credit risk appetite and business strategy with regard to climate -related and environmental risks.107 Pursuant to Article 76(3) of CR D IV, an institution’s risk committee shall review whether the prices of assets offered to clients take the business model and risk strategy fully into account. The pricing of loans is an important steering mechanism for institutions, determining the level and origin of their future income. For instance, as part of their business strategy and risk appetite, institutions may decide to reduce or limit exposures to sectors harmful for the environment or the climate or to steer away from loans collateralised by energy -inefficient real estate. The pricing framework is then expected to support the chosen risk perspective and strategy, for example by differentiating the loan prices for exposures according to their energy efficiency or by including a sector/client -specific charge. In line with their business strategy and risk appetite, institutions may also incentivis e their clients to mitigate climate -related and environmental risks . This could, for instance, entail setting the interest rate of an environmentally sustainable loan at a level consistent with a higher resilience towards such risks and the associated improved creditworthiness under otherwise unchanged conditions . For banks originating sustainable lending, the interest rate adjustment process could be linked to the achievement of sustainability target s by the client over a predefined period of time over which climate -related and environmental risks are reduced. Box 9 Example of o bserved practice: Mortgage price differentiation The ECB observed an institution that differentiates the client price of retail mortgage lo ans according to the energy label of the underlying real estate. Mortgages with a better energy label receive a lower client rate than mortgages with a less energy -efficient label, so long as the institution’s overall profitability target for mortgages is projected to be met. This differentiation is based on the consideration that a portfolio with higher energy efficiency labels is likely to be less vulnerable to transition risk and is therefore in line with the institution’s business strategy. Institutions’ loan pricing is expected to reflect the different costs driven by climate- related and environmental risks. As set out in the EBA Guidelines on loan origination and monitoring,108 institutions should implement a pricing framework linked to the characteristics of the loan, considering all relevant costs. The impact of climate -related and environmental risks may play out through various cost drivers, such as the cost of capital, funding or credit risk. Environmentally sustainable assets may, f or example, be funded by dedicated instruments, such as green (covered) bonds, and thus incur different funding costs. Areas exposed to growing physical climate risks, such as floods or droughts, may see an increase in credit loss. Institutions are expected to consider these developments and reflect them in their loan pricing, for instance by setting the credit cost charges at a higher level to reflect the impact of climate- related and environmental risks. In addition, institutions are expected to reflect i n their pricing any higher funding costs for assets that are particularly affected by physical and transition risk. 6.3 Operational risk management Expectation 9 Institutions are expected to consider how climate- related and environmental events could have an adverse impact on business continuity and the extent to which the nature of their activities could increase reputational and/or liability risks. As set out in Article 85 of the CRD and in the EBA Guidelines109, institutions should implem ent policies and processes to evaluate and manage their exposure to operational risk. They should assess operational risk across all business lines and operations, and determine how operational risk may materialise.110 Institutions are also expected to adopt all necessary measures to safeguard business continuity and ensure a timely disaster recovery, both in terms of policies and the functioning of physical assets, including IT systems. Institutions are expected to assess the impact of physi cal risks on their operations in general, including the ability to quickly recover their capacity to continue providing services. Institutions are reminded that this assessment should be conducted as part of their business continuity management, as set out in the EBA Guidelines on internal g overnance.111 The geographic location in which an institution operates might make it more prone to physical risks. Institutions are reminded to assess the materiality of operational risk arising from physical risk. This applies in particular to outsourced services and IT activities, particularly if service providers are established in locations that are prone to extreme weather events or other environmental vulnerabilities. Institutions are reminded to consider whether thes e could affect their ability to process transactions, provide services or cause legal liabilities for damage to third parties, such as customers and other stakeholders. In particular, when assessing its critical or important functions, an institution is ex pected to consider the impacts of climate change on the provision of these services.112 The outcome of this assessment, if material for any of the institution’s business lines or operations, is expected to be reflected in its business continuity plan. Institutions are expected to evaluate the extent to which the nature of the activities in which they are involved increases the risk of a negative financial impact arising from future reputational damage , liability and/or litigation. Based on the EBA Guidelines, all relevant risks should be encompassed in the risk management framework of an institution, with appropriate consideration of both financial and non- financial risks, including reputational risk.113 Reputational risks can arise quickly and can rapidly affect firms. Institutions associated with social or environmental controversies – or more generally institutions that are perceived not to take due consideration of environmental aspects in their business activities – could face negative financial impacts stemming from reputational risks as a result of changing market sentiment in relation to environmental and climate- related risks. Similarly, to avoid reputational or litigation risks arising from controversy in connection with their products , for instance, driven by investments in products with an adverse environmental impact , institutions are also expected to consider evaluating the compliance of their investment products with international or EU best practices, such as the EU Green Bond Standard.114 Similarly, financing companies with significant polluting activities can be a driver of reputational risk for institutions. Moreover, institutions may wish to adopt policies related to engagement with clients and response to controversies, as and w hen they arise. Institutions may consider periodically screening counterparties for controversial activities, conduct ing environmental footprinting and/or damage cost exercises to identify potential pockets of risk, and should reflect the outcomes of such screening exercises in the relevant risk reports . Box 10 Example of observed practice: Reputational risks captured in the ICAAP The ECB observed an institution that considers reputational risks arising from environmental, social or governance impacts in its internal capital adequacy assessment process. The institution is exposed to considerable reputational risk related to environm ental and social factors, as its business model is targeted at financing private companies in emerging market economies. Each of its clients is therefore categorised based on the degree of potentially negative environmental, social and governance impacts. There are four risk categories in the institution’s classification system, which range from a “significant” to having “minimum or no” adverse environmental, social or governance impacts. The institution allocates an amount to capital relative to the number of clients in each of the risk classification categories. Each risk category is assigned a capital charge per client, i .e. the institution takes a higher capital for a client that has a higher risk classification. 6.4 Market risk management Expectation 10 Institutions are expected to monitor on an ongoing basis the effect of climate- related and environmental factors on their current market risk positions and future investments, and to develop stress tests that incorporate climate- related and environmental r isks. Article 83 of the CRD provides that competent authorities must ensure that policies and processes for the identification, measurement and management of all material sources and effects of market risk are implemented. With regard to market risk manage ment, institutions are expected to consider that environmental and climate -related risks could lead to potential shifts in supply and demand for financial instruments (e.g. securities, derivatives), products and services, with a consequent impact on their values.115 Institutions that invest in companies with business models that are perceived as environmentally unsustainable or that are geographically located in areas prone to physical risks might suffer a decline in the value of their investment owing to changes in policy measures, market sentiment or technology, or as a result of severe weather events or gradual adverse changes in climatic conditions. In line with the nature of the ICAAP perspectives, institutions are expected to assess in the normative pers pective, as a minimum, risks arising from debt, equity and equity -related financial instruments in the regulatory trading book, as well as foreign exchange positions and commodities risk positions assigned to both the trading and banking book. In the economic perspective, all instruments are expected to be assessed based on economic value considerations, irrespective of their accounting treatment. Moreover, the assessment is also expected to consider the banking book, and in particular , the following sub- categories of market risk : credit spread risk arising from positions measured at fair value and at cost, and risk arising from equity exposures. With specific reference to the credit spread risk component of banking book positions, institutions are expected to assess the relevance of the credit spread among all the drivers of overall market risk. This is relevant when considering, among others, that financial instruments issued by companies belonging to sectors perceived as environmentally unsustainable and w hich do not adopt a comprehensive sustainable management approach might suffer an abrupt decline in their value. In the same vein, the value of equity exposures should be monitored on an ongoing basis to assess whether their value has been negatively affec ted by a change in the perception of the issuer’s riskiness, specifically owing to climate- related and environmental risks. Institutions specialised in commodities trading are expected to pay particular attention to potential hidden vulnerabilities includi ng, but not limited to, jumps in prices or values of certain commodities perceived as environmentally less sustainable than others. Additionally, it would be advisable for institutions to monitor how the governments to which institutions are exposed via sovereign holdings may be affected by transition and physical risks. Given the specific characteristics of market activities, internal stress testing (e.g. a sensitivity analysis) could be usefully applied to better understand and assess the relevance of cli mate- related risks for an institution’s trading and banking book. Such analyses are expected to address climate- related and environmental risks under the normative and economic perspectives of the ICAAP alongside other risks ,, supplementing historical distributions with hypothetical assumptions .116 6.5 Scenario analysis and stress testing Expectation 11 Institutions with material climate- related and environmental risks are expected to evaluate the appropriateness of their stress test ing, with a view to incorporating them into their baseline and adverse scenarios. As part of the ICAAP, institutions are expected to conduct a tailored and in- depth review of their vulnerabilities through stress testing.117 The stress scenarios should compri se all material risks that may deplete internal capital or impact regulatory capital ratios and be used as part of the institution’s stress -testing programme in both the economic and normative perspective. Institutions are expected to consider using scenar ios that are in line with scientific climate change pathways, such as IPCC scenarios . Specifically for transition risk, institutions are expected to use scenarios that, for different policy outcomes (e.g. early or late transition), embed plausible consider ations for the related physical outcome.118 This entails , for instance, considering how chronic climate impacts associated with the late transition scenario can potentially further reinforce policy action. All these aspects should be properly reflected in an institution’s ICAAP.119 When conducting scenario analysis and stress testing with respect to climate- related and environmental risks, at least the following aspects are expected to be considered for both the normative and economic perspectives : • how the inst itution might be affected by physical risk and transition risk; • how climate- related and environmental risks might evolve under various scenarios, taking into account that these risks may not be fully reflected in historical data; • how climate- related and environmental risks might materialise in the short, medium and long term depending on the scenarios considered. Institutions are expected to define the assumptions for their own risk profile and individual specifications, as well as consider several scenarios based on different combinations of assumptions. As part of their capital planning, institutions are expected to assess their capital adequacy under a plausible baseline scenario and institution- specific adverse scenarios. For the adverse scenarios, the institution is expected to assume unusual but plausible developments with an adequate degree of severity in terms of their impact on its regulatory capital ratios. According to the ECB Guide to the ICAAP, the normative perspective is expected to cover a forward -looking horizon of at least three years. Institutions are expected to take developments beyond this minimum horizon into account in their strategic planning in a proportionate manner if they will have a material impact.120 Institutions are expected to consider adopting a longer time horizon for climate- related and environmental risks given the likelihood that they will mostly materialise in the medium to long term. In particular, longer time horizons could be reflected in stress testing in the economic perspective. Likewise, institutions are also expected to take into account the relevance of climate -related impacts on their business lines when designing scenarios for recovery planning processes. As stipulated in the Bank Recovery and Resolution Directiv e121, institutions should contemplate a range of scenarios of severe macroeconomic and financial stress for a full scope recovery plan. Institutions are expected to test recovery options against these scenarios to determine their effectiveness in such events . 6.6 Liquidity risk management Expectation 12 Institutions are expected to assess whether material climate- related and environmental risks could cause net cash outflows or depletion of liquidity buffers and, if so, incorporate these factors into their liquidi ty risk management and liquidity buffer calibration. Pursuant to Article 86(1) of the CRD, institutions are required to have robust strategies, policies, processes and systems for the identification, measurement, management and monitoring of liquidity risk over an appropriate set of time horizons to ensure they maintain adequate liquidity buffers. To ensure robust liquidity risk management, institutions are expected to consider the direct or indirect impacts of climate- related and environmental risks on their liquidity position.122 123 Institutions are encouraged to include such considerations in their ILAAP, considering climate- related and environmental risks under both the economic and the normative perspective. Such assessments are expected to be conducted in a forward -looking manner, assuming both business -as-usual and stressed conditions, and, in particular, to consider severe but plausible scenarios that may occur in combination, with a focus on key vulnerabilities. Consequently, they are expected to assess whether climate- related and environmental risks could have a material impact on net cash outflows or liquidity buffers. If this is deemed to be the case, institutions should incorporate this into their liquidity risk management and liquidity buffer calibr ation. For example, institutions could consider the possibility of a combined idiosyncratic and market stress situation occurring simultaneously with the materialisation of climate -related or environmental risks. Furthermore, institutions could consider how their liquidity position might be affected by a climate- related or environmental risk event that has an impact on the value of their liquidity buffers. Institutions could also consider the impact of such risks on regional liquidity positions, for exampl e in local currencies, as well as potential operational and other impediments to providing liquidity to regions where climate- related or environmental risks materialise. In addition, institutions are expected to link their business strategy with the allocation of liquidity resources. To this end, institutions are reminded to take into account in their internal pricing process the specific marginal cost of funding of sustainable refinancing instruments , including, where relevant, the liquidity cost or benefi t compared to ordinary refinancing instruments .124 7 Supervisory expectations relating to disclosures Access to information is necessary for promoting transparency within financial institutions and contributing to the orderly functioning of financial markets.125 The European regulatory framework therefore sets out disclosure requirements to make key information available about an institution’s capital, risks and risk exposures in order to adequately inform market participants. Disclosures on climate- related risk allow market participants to make a more informed assessment of physical and transition risks. In turn, this will improve institutions’ and investors’ understanding of the financial implications of climate change. It should also be pointed out that the EU institutions have reached a political agreement to develop an EU -wide classification system, or taxonomy, for sustainable investments. Going forward, institutions subject to the Non- Financial Reporting Directive (NFRD) will be asked to provide further transparency on the extent to which their activities can be regarded as environmentally sustainable.126 In a similar vein, it should be noted that the European Commission plans to conduct a review of the NFRD as part of the strategy to strengthen the foundations for sustainable investment.127 128 7.1 Disclosure policies and procedures Expectation 13 For the purposes of their regulatory disclosures, institutions are expected to publish meaningful information and key metrics on climate- related and environmental risks that they deem to be material, with due regard to the European Commission’s Guidelines on non- financial reporting: Supplement on reporting climate- related information. Institutions are expected to specify in their disclosure policies key consid erations that inform their assessment of the materiality of climate- related and environmental risks, as well as the frequency and means of disclosures. Articles 431 et seq. of the CRR require institutions to publicly disclose specific information that is m aterial, but is not proprietary or confidential. Article 432 of the CRR provides that information shall be regarded as material where its omission or misstatement could change or influence economic decision- making.129 To that end, institutions shall “have policies for assessing the appropriateness of their disclosures, including their verification and frequency.”130 This disclosure policy is expected to specify the way in which the materiality of climate- related and environmental risks is assessed.131 For this purpose, the EBA Guidelines state that, in the assessment of materiality of certain information, institutions should pay particular attention not only to their business model, long- term strategy and the overall risk profile, but also to the influence of the economic and political environment, the assumed level of relevance of information for users, and the relationship with recent developments in risks and disclosure needs.132 Based on the EBA Guidelines, there are no common thresholds for materiality.133 The assessment of the materiality of climate- related and environmental risks is therefore expected to be performed using both qualitative and quantitative information and to duly consider reputational and liability risks associated with the institution’s impact on the climate and environment and arising from controvers y in connection with its products and operations . Institutions are also reminded of the European Commission’s advice not to prematurely consider climate- related risks as immaterial owing to their longer -term nature.134 Institutions are reminded that disclosures of material risks must comply with Articles 4 33, 434 and 434a of the CRR. In case an institution deems climate- related risks to be immaterial, the institution is expected to document this judgement with the available qualitative and quantitative information underpinning its assessmen t. Pursuant to Article 432(1) of the CRR, information shall be regarded as material if its omission or misstatement could change or influence the assessment or decision of a user relying on that information for the purpose of making economic decisions. Furthermore, the EBA Guidelines state that, when an institution decides not to disclose information or a set of requirements due to immateriality, it should clearly state this fact.135 When institutions disclose figures, metrics and targets as material, they are expected to disclose or reference the methodologies, definitions and criteria associated with them.136 These disclosures help to convey the institution’ s risk profile in a comprehensive manner to market participants, namely with a view to limiting reputational and liability risks . In particular, this expectation applies when institutions commit to contribute to climate- related and environmental goals, in which case the ECB also expects them to provide a comprehensive overview of the impact of the entity as a whole. The ECB has assessed that information currently disclosed is heterogeneous and partial, in some cases focusing on commitments (not) to finance certain activities without providing sufficient clarity on thresholds utilised and port folios covered. While institutions are encouraged to contribute to climate- related and environmental goals, they are also expected to provide comprehensive and meaningful information related to it. Institutions committing to stop or limit financing to certain industries or activities through dedicated financing policies are then expected to disclose the definition of the covered activity and associated targets, in terms of dates and outstanding volumes by geographic area. Institutions are also expected to communicate on progress in achieving these targets, the internal monitoring governance, as well as relevant methodological aspects, in particular, the criteria used to identify counterparties covered by the financing policy and the scope of business relationships concerned. Likewise, institutions are expected to consider all business lines and their exposures as a whole when reporting on their contribution to environmental goals. Figure 1 Recommendations of the Task Force on Climate- related Financial Disclos ures Source: TCFD. 7.2 Content of climate -related and environmental risk disclosures Institutions are expected to disclose climate- related risks that are material with due regard to the European Commission’s Guidelines on non- financial reporting: Supplement on reporting climate -related information. The Supplement integrates the recommendations of the TCFD and provides guidance consistent with the N FRD. The expected disclosures revolv e around five key aspects: business model, policies and due diligence processes, outcomes, risks and risk management and KPIs. In this respect, institutions are reminded of the ECB expectations regarding their business model and strategy, governance and ri sk management as set out in this guide. Recommended disclosures a) Describe the board’s oversight of climate- related risks and opportunities . b) Describe management’s role in assessing and managing climate -related risks and opportunities.a) Describe the climate- related risks and opportunities the organisation has identified over the short, medium and long term . b) Describe the impact of climate -related risks and opportunities on the organisation’s businesses, strategy and financial planning. c) Describe the resilience of the organisation’s strategy, taking into consideration different climate- related scenarios, including a 2°C or lower scenario.a) Describe the organisation’s processes for identifying and assessing climate -related risks. b) Describe the organisation’s processes for managing climate -related risks . c) Describe how processes for identifying, assessing and managing climate- related risks are integrated into the organisation’s overall risk management.a) Disclose the metrics used by the organisation to assess climate -related risks and opportunities in line with its strategy and risk management process . b) Disclose Scope 1, Scope 2, and, if appropriate, Scope 3 greenhouse gas (GHG) emissions and the related risks. c) Describe the targets used by the organisation to manage climate -related risks and opportunities and performance against targets.Governance Disclose the organisation’s governance around climate- related risks and opportunities.Strategy Disclose the actual and potential impacts of climate- related risks and opportunities on the organisation’s businesses, strategy and financial planning, where such information is material.Risk management Disclose how the organisation identifies , assesses and manages climate -related risks.Metrics and targets Disclose the metrics and targets used to assess and manage relevant climate- related risks and opportunities, where such information is material . Expectation 13.4 In particular, institutions are expected to disclose the institution’s financed Scope 3 GHG emissions137 for the whole group. Although the ECB does not prescribe the use of a specific measurement and/or attribution methodology138, institutions are encouraged to adopt a granular approach to measuring carbon emissions, while remaining consistent with the GHG Protocol, as set out in the European Commission’s Supplement . This could, for instance, entail a project-by-project approach to measuring the carbon intensity of large corporate portfolios and the property -by-property measurement of actual energy consumption or energy efficiency classification for real estate portfolios. Institutions are expected to disclose:139 • the amount or percentage of carbon- related assets in each portfolio in € millions or as a percentage of the current portfolio value and, to the extent possible, a forward -looking best estimate of this amount or percentage over the course of their pl anning horizon; • the weighted average carbon intensity of each portfolio, where data are available or can be reasonably estimated and, to the extent possible, a forward- looking best estimate of this weighted average carbon intensity over the course of their planning horizon; • the volume of exposures by sector of counterparty and, to the extent possible, a forward -looking best estimate of this volume over the course of their planning horizon; • credit risk exposures and volumes of collateral by geography/country of location of the activity or collateral, with an indication of those countries/geographies highly exposed to physical risk. Institutions are expected to disclose or reference the methodologi es used and assumptions made. In particular, t his would include the definitions and formulae for the computation of the abovementioned metrics. Institutions are expected to disclose the KPIs and KRIs used for the purposes of their strategy -setting and risk management, as well as their current performance against these metrics. In line with the European Commission’s Supplement and the EBA’s key policy messages, institutions are expected to disclose the metrics used, including relevant target s and the current performance of the institution against those targets. Using the aforementioned metrics, the institution is expected to describe the short, medium and long- term resilience of its strategy in the light of different climate- related scenarios . Institutions are expected to evaluate any further environmental risk- related information needed to comprehensively convey their risk profile. After all, risks to financial institutions emanate from a wide source of environmental factors, such as water stress, biodiversity loss, resource scarcity and pollution. As disclosure frameworks and the needs of market participants are evolving rapidly in this area, institutions are well -advised to actively improve their disclosures. Box 11 Example of o bserved practice: Overview of disclosure alignment with TCFD recommendations The ECB observed a bank that provides schematic reference to its alignment wit h the individual TCFD recommendations. This lays out the respective and specific chapters containing its disclosures that are in line with the TCFD recommendations. Table A Stylised overview table Expectation 13.7 Category TCFD recommendation Reference to institutions’ disclosures Governance a) Describe the board’s oversight of climate- related risks and opportunities. b) Describe management’s role in assessing and managing climate- related risks and opportunities. Document X, Page ABC Document X, Page ABC Strategy a) Describe the climate- related risks and opportunities the organisation has identified over the short, medium and long term. b) Describe the impact of climate- related risks and opportunities on the organisation’s businesses, strategy and financial planning. c) Describe the resilience of the organisation’s strategy, taking into consideration different climate -related scenarios, including a 2°C or lower scenario. Document Y, Page ABC Document Y, Page ABC Document X, Page ABC Risk management a) Describe the o rganisation’s processes for identifying and assessing climate- related risks. b) Describe the organisation’s processes for managing climate- related risks. c) Describe how processes for identifying, assessing, and managing climate- related risks are integrate d into the organisation’s overall risk management. Document Z, Page ABC Document Z, Page ABC Document Z, Page ABC Metrics and targets a) Disclose the metrics used by the organisation to assess climate- related risks and opportunities in line with its strategy and risk management process. Describe the organisation’s processes for managing climate- related risks. b) Disclose Scope 1, Scope 2, and, if appropriate, Scope 3 GHG emissions, and the related risks. c) Describe the targets used by the organisation to manage climate- related risks and opportunities, and performance against the targets. Document X, Page ABC Document X, Page ABC Document Y, Page ABC'"
            ],
            "application/vnd.google.colaboratory.intrinsic+json": {
              "type": "string"
            }
          },
          "metadata": {},
          "execution_count": 6
        }
      ]
    },
    {
      "cell_type": "code",
      "source": [
        "# total characters in the file\n",
        "len(full_text)"
      ],
      "metadata": {
        "colab": {
          "base_uri": "https://localhost:8080/"
        },
        "id": "rQyL-9bY5IA9",
        "outputId": "ddb9a745-9418-4121-aee6-ed4d6f7628e6"
      },
      "execution_count": null,
      "outputs": [
        {
          "output_type": "execute_result",
          "data": {
            "text/plain": [
              "98473"
            ]
          },
          "metadata": {},
          "execution_count": 7
        }
      ]
    },
    {
      "cell_type": "markdown",
      "source": [
        "## Load the Model : facebook_bart_summary"
      ],
      "metadata": {
        "id": "5THRNMrq5VFU"
      }
    },
    {
      "cell_type": "code",
      "source": [
        "# import and initialize the tokenizer and model\n",
        "from transformers import AutoTokenizer, AutoModelForSeq2SeqLM\n",
        "\n",
        "model = \"facebook/bart-large-cnn\"\n",
        "\n",
        "tokenizer = AutoTokenizer.from_pretrained(model)\n",
        "model = AutoModelForSeq2SeqLM.from_pretrained(model)"
      ],
      "metadata": {
        "colab": {
          "base_uri": "https://localhost:8080/",
          "height": 333,
          "referenced_widgets": [
            "34d6b31b1bfc49098d867af3427d4ec2",
            "a1e65341436441e7936698ac283aa9f5",
            "48523a9d1ac743ad80d819e95bcb35f0",
            "3f2ab10ae5d3424c86cd5d36f32cdc99",
            "784dbf3499644312b60eb642d465da08",
            "eaf6595fe5dc431b9cc05568ae903dc3",
            "ea3c780a8bbf4af780e287a563c42a65",
            "6b334cf9e5434b3cb04a0ba7caf02ee2",
            "c6cf80d15a25496da244627a7ba3d80c",
            "fe8cfeac5652458e8febb0c7220ddaf3",
            "a5fd419d9c0241c8bca88871ac49dabd",
            "579014f5401c4285ab33fdbd7e6d6560",
            "93ae5ab6f5c3458a9584dae4eb7cd130",
            "988a6bff828341dc9aba0487eb7af2b9",
            "86c21852948742d296d71138e42099b1",
            "7d0726b44a9142c9ab78d1ca1474b5e5",
            "7b7162ed961e44369401f8883779b708",
            "7762b9545b454705b5e7ef634e6925b2",
            "5aa80444f72a4428a43dbcf2342e7554",
            "5fb3ef8a98fb4d05af7d1358ced7226a",
            "01b9494200234041a9e77c02ccbfde6d",
            "dfa20c5b882740278fafc8eeb4bc9d1f",
            "33cd7049de704d7d8f26d8c8c4f7ca62",
            "62e3b122d20a46ef9a971b27766cfceb",
            "1c2379a62b194c79a2fdf7f85f9aa615",
            "e994820dcd47466d8a8ae7a2aca505c0",
            "bfcf0818ef8042bb8eda5f17a357b5a6",
            "0b7ac60374ac4dfe8d5b110d2d7b2513",
            "57d6c615bb9b4ca0992cc05c4159c719",
            "5f07aeb85fc84921bca4a07f92cc90a1",
            "d9e51cdc648a4db8be1abf2cc9c7a287",
            "614b21bc249148ef9e38a3fc6cf741e4",
            "d1dfefdc792943b8842debc489c53495",
            "4ecbacef48b24d1c8995fbd15044bbe6",
            "e503f92b15c74685ba24c19ece52d48d",
            "aae717bca51f48d79acf9c7655a4fae9",
            "ad419b0685fa418ab0923916d7d48637",
            "a3d83b901d994e9e95d5de9321ac00f3",
            "a714bb7f2dc743e28a3509e1d11889cf",
            "a1b1e133b5434b50b067e7948e248b8e",
            "ba365e89fceb4f05a88eef6ec0ca709b",
            "8d9cb9e4c9d44be5b7cd7a5ca7617b5f",
            "29b8d8de04cc45eda7f686b9b7f892d3",
            "c0c70baf498145b5a32828dec1dcfa41",
            "8cfbe091b86c42d88c2cac8cda77bab0",
            "cc8410673e914b81b64a3be2261e5195",
            "0a53482844b0454ba55a08e56dbd4aac",
            "95b049c3a7c041168d9cdd016f6fc282",
            "e6dfc6d8de4b47e5b52e151bf49a5d89",
            "fe68316885164836b282f929ea7fd995",
            "66a08b51767c4ad1bc7bcbde89c338f2",
            "954f5baaecae4422a7947729123a41a9",
            "d9b50409b2ab48929c1a1ada6071561a",
            "fe7532b06fef48069f2c20bfbb7b43f7",
            "ff4348fa6e3340c185362047695f75db",
            "54e60fed265f43f99de82ba98c83f2c3",
            "546a66f482644e6a8dab43775248f12b",
            "eabdc32298794117ba4259233fe4252f",
            "ce8f85b4fe9a4baeb0a449bc09bde0ef",
            "dc8e4b1fa08b4200ba27c047c9e158a3",
            "d6e40dbb73444dd99d10e791f392107d",
            "a16b76d18b634d509f1c7dfbd2ed4669",
            "cebbe07e9fa8461c8172aa20fd459f39",
            "66653551749847c9bbd87ac8fd375ac7",
            "1de03cfdac0041ab860a4fa4c44a8fdb",
            "e5e6320024134b04a6e35fefee52b32e"
          ]
        },
        "id": "bA7zdNVu5ZP8",
        "outputId": "4b47d5b3-d0bd-48c6-977c-32fbd2f42930"
      },
      "execution_count": null,
      "outputs": [
        {
          "output_type": "stream",
          "name": "stderr",
          "text": [
            "/usr/local/lib/python3.10/dist-packages/huggingface_hub/utils/_token.py:88: UserWarning: \n",
            "The secret `HF_TOKEN` does not exist in your Colab secrets.\n",
            "To authenticate with the Hugging Face Hub, create a token in your settings tab (https://huggingface.co/settings/tokens), set it as secret in your Google Colab and restart your session.\n",
            "You will be able to reuse this secret in all of your notebooks.\n",
            "Please note that authentication is recommended but still optional to access public models or datasets.\n",
            "  warnings.warn(\n"
          ]
        },
        {
          "output_type": "display_data",
          "data": {
            "text/plain": [
              "config.json:   0%|          | 0.00/1.58k [00:00<?, ?B/s]"
            ],
            "application/vnd.jupyter.widget-view+json": {
              "version_major": 2,
              "version_minor": 0,
              "model_id": "34d6b31b1bfc49098d867af3427d4ec2"
            }
          },
          "metadata": {}
        },
        {
          "output_type": "display_data",
          "data": {
            "text/plain": [
              "vocab.json:   0%|          | 0.00/899k [00:00<?, ?B/s]"
            ],
            "application/vnd.jupyter.widget-view+json": {
              "version_major": 2,
              "version_minor": 0,
              "model_id": "579014f5401c4285ab33fdbd7e6d6560"
            }
          },
          "metadata": {}
        },
        {
          "output_type": "display_data",
          "data": {
            "text/plain": [
              "merges.txt:   0%|          | 0.00/456k [00:00<?, ?B/s]"
            ],
            "application/vnd.jupyter.widget-view+json": {
              "version_major": 2,
              "version_minor": 0,
              "model_id": "33cd7049de704d7d8f26d8c8c4f7ca62"
            }
          },
          "metadata": {}
        },
        {
          "output_type": "display_data",
          "data": {
            "text/plain": [
              "tokenizer.json:   0%|          | 0.00/1.36M [00:00<?, ?B/s]"
            ],
            "application/vnd.jupyter.widget-view+json": {
              "version_major": 2,
              "version_minor": 0,
              "model_id": "4ecbacef48b24d1c8995fbd15044bbe6"
            }
          },
          "metadata": {}
        },
        {
          "output_type": "display_data",
          "data": {
            "text/plain": [
              "model.safetensors:   0%|          | 0.00/1.63G [00:00<?, ?B/s]"
            ],
            "application/vnd.jupyter.widget-view+json": {
              "version_major": 2,
              "version_minor": 0,
              "model_id": "8cfbe091b86c42d88c2cac8cda77bab0"
            }
          },
          "metadata": {}
        },
        {
          "output_type": "display_data",
          "data": {
            "text/plain": [
              "generation_config.json:   0%|          | 0.00/363 [00:00<?, ?B/s]"
            ],
            "application/vnd.jupyter.widget-view+json": {
              "version_major": 2,
              "version_minor": 0,
              "model_id": "54e60fed265f43f99de82ba98c83f2c3"
            }
          },
          "metadata": {}
        }
      ]
    },
    {
      "cell_type": "code",
      "source": [
        "# max tokens including the special tokens\n",
        "tokenizer.model_max_length"
      ],
      "metadata": {
        "colab": {
          "base_uri": "https://localhost:8080/"
        },
        "id": "cewYWott6B69",
        "outputId": "2648b97b-8712-4c50-aea1-171157952b74"
      },
      "execution_count": null,
      "outputs": [
        {
          "output_type": "execute_result",
          "data": {
            "text/plain": [
              "1024"
            ]
          },
          "metadata": {},
          "execution_count": 73
        }
      ]
    },
    {
      "cell_type": "code",
      "source": [
        "# max tokens excluding the special tokens\n",
        "tokenizer.max_len_single_sentence"
      ],
      "metadata": {
        "colab": {
          "base_uri": "https://localhost:8080/"
        },
        "id": "mZSJsMTV6GR3",
        "outputId": "67785a64-2caf-4544-a177-3fd142c3b157"
      },
      "execution_count": null,
      "outputs": [
        {
          "output_type": "execute_result",
          "data": {
            "text/plain": [
              "1022"
            ]
          },
          "metadata": {},
          "execution_count": 74
        }
      ]
    },
    {
      "cell_type": "code",
      "source": [
        "# number of special tokens\n",
        "tokenizer.num_special_tokens_to_add()"
      ],
      "metadata": {
        "colab": {
          "base_uri": "https://localhost:8080/"
        },
        "id": "mGT9sGaJ6KQS",
        "outputId": "35fd7882-ffb6-4023-ef9c-4a15174e7bbc"
      },
      "execution_count": null,
      "outputs": [
        {
          "output_type": "execute_result",
          "data": {
            "text/plain": [
              "2"
            ]
          },
          "metadata": {},
          "execution_count": 75
        }
      ]
    },
    {
      "cell_type": "markdown",
      "source": [
        "## Chunk up the document by sentences. Each chunk consists of multiple sentences but ensures each chunk token size is less than the model total acceptable token size"
      ],
      "metadata": {
        "id": "-eGcEE7p694o"
      }
    },
    {
      "cell_type": "code",
      "source": [
        "# convert the contents in full text to sentences\n",
        "import nltk\n",
        "nltk.download('punkt')\n",
        "sentences = nltk.tokenize.sent_tokenize(full_text)"
      ],
      "metadata": {
        "colab": {
          "base_uri": "https://localhost:8080/"
        },
        "id": "MgzuOQZV6NNM",
        "outputId": "dbe5cee7-65d6-4e95-80e8-491607e1a08a"
      },
      "execution_count": null,
      "outputs": [
        {
          "output_type": "stream",
          "name": "stderr",
          "text": [
            "[nltk_data] Downloading package punkt to /root/nltk_data...\n",
            "[nltk_data]   Unzipping tokenizers/punkt.zip.\n"
          ]
        }
      ]
    },
    {
      "cell_type": "code",
      "source": [
        "# find the max tokens in the longest sentence\n",
        "max([len(tokenizer.tokenize(sentence)) for sentence in sentences])"
      ],
      "metadata": {
        "colab": {
          "base_uri": "https://localhost:8080/"
        },
        "id": "ql5QpIMB6cqV",
        "outputId": "51ce6d9c-329f-476f-fd7c-bdcebc4bb433"
      },
      "execution_count": null,
      "outputs": [
        {
          "output_type": "execute_result",
          "data": {
            "text/plain": [
              "230"
            ]
          },
          "metadata": {},
          "execution_count": 11
        }
      ]
    },
    {
      "cell_type": "code",
      "source": [
        "length = 0\n",
        "chunk = \"\"\n",
        "chunks = []\n",
        "count = -1\n",
        "for sentence in sentences:\n",
        "  count += 1\n",
        "  combined_length = len(tokenizer.tokenize(sentence)) + length # add the no. of sentence tokens to the length counter\n",
        "\n",
        "  if combined_length  <= tokenizer.max_len_single_sentence: # if it doesn't exceed\n",
        "    chunk += sentence + \" \" # add the sentence to the chunk\n",
        "    length = combined_length # update the length counter\n",
        "\n",
        "    # if it is the last sentence\n",
        "    if count == len(sentences) - 1:\n",
        "      chunks.append(chunk.strip()) # save the chunk\n",
        "\n",
        "  else:\n",
        "    chunks.append(chunk.strip()) # save the chunk\n",
        "\n",
        "    # reset\n",
        "    length = 0\n",
        "    chunk = \"\"\n",
        "\n",
        "    # take care of the overflow sentence\n",
        "    chunk += sentence + \" \"\n",
        "    length = len(tokenizer.tokenize(sentence))\n",
        "len(chunks)"
      ],
      "metadata": {
        "colab": {
          "base_uri": "https://localhost:8080/"
        },
        "id": "GCkO6bdJ6iw5",
        "outputId": "38b41631-d190-47b7-c04c-2cf32f3b97c8"
      },
      "execution_count": null,
      "outputs": [
        {
          "output_type": "execute_result",
          "data": {
            "text/plain": [
              "18"
            ]
          },
          "metadata": {},
          "execution_count": 12
        }
      ]
    },
    {
      "cell_type": "code",
      "source": [
        "[len(tokenizer.tokenize(c)) for c in chunks]"
      ],
      "metadata": {
        "colab": {
          "base_uri": "https://localhost:8080/"
        },
        "id": "iUUz2ACO7Oxb",
        "outputId": "2763dad6-2bfb-47ce-aea0-6bebe8442570"
      },
      "execution_count": null,
      "outputs": [
        {
          "output_type": "execute_result",
          "data": {
            "text/plain": [
              "[1014,\n",
              " 998,\n",
              " 1010,\n",
              " 1016,\n",
              " 1014,\n",
              " 1013,\n",
              " 998,\n",
              " 997,\n",
              " 1017,\n",
              " 1022,\n",
              " 1017,\n",
              " 993,\n",
              " 997,\n",
              " 992,\n",
              " 1021,\n",
              " 1022,\n",
              " 802]"
            ]
          },
          "metadata": {},
          "execution_count": 13
        }
      ]
    },
    {
      "cell_type": "code",
      "source": [
        "[len(tokenizer(c).input_ids) for c in chunks]"
      ],
      "metadata": {
        "colab": {
          "base_uri": "https://localhost:8080/"
        },
        "id": "-stGTmrk7T-j",
        "outputId": "35478dfa-a05c-47bf-a692-c57626f9fb4c"
      },
      "execution_count": null,
      "outputs": [
        {
          "output_type": "execute_result",
          "data": {
            "text/plain": [
              "[1015,\n",
              " 999,\n",
              " 1011,\n",
              " 1017,\n",
              " 1015,\n",
              " 1014,\n",
              " 999,\n",
              " 998,\n",
              " 1018,\n",
              " 1023,\n",
              " 1018,\n",
              " 994,\n",
              " 998,\n",
              " 993,\n",
              " 1022,\n",
              " 1023,\n",
              " 803]"
            ]
          },
          "metadata": {},
          "execution_count": 14
        }
      ]
    },
    {
      "cell_type": "code",
      "source": [
        "sum([len(tokenizer(c).input_ids) for c in chunks])"
      ],
      "metadata": {
        "colab": {
          "base_uri": "https://localhost:8080/"
        },
        "id": "b7jUWEKA7dWO",
        "outputId": "795753c7-f56a-4204-e28c-67d8d84b6690"
      },
      "execution_count": null,
      "outputs": [
        {
          "output_type": "execute_result",
          "data": {
            "text/plain": [
              "16960"
            ]
          },
          "metadata": {},
          "execution_count": 15
        }
      ]
    },
    {
      "cell_type": "code",
      "source": [
        "len(tokenizer.tokenize(full_text))"
      ],
      "metadata": {
        "colab": {
          "base_uri": "https://localhost:8080/"
        },
        "id": "S2irhRjE7khz",
        "outputId": "5dce2ee8-7371-40cb-dad7-c95917bd953e"
      },
      "execution_count": null,
      "outputs": [
        {
          "output_type": "stream",
          "name": "stderr",
          "text": [
            "Token indices sequence length is longer than the specified maximum sequence length for this model (16943 > 1024). Running this sequence through the model will result in indexing errors\n"
          ]
        },
        {
          "output_type": "execute_result",
          "data": {
            "text/plain": [
              "16943"
            ]
          },
          "metadata": {},
          "execution_count": 16
        }
      ]
    },
    {
      "cell_type": "code",
      "source": [
        "sum([len(tokenizer.tokenize(c)) for c in chunks])"
      ],
      "metadata": {
        "colab": {
          "base_uri": "https://localhost:8080/"
        },
        "id": "prC_rvq98yRs",
        "outputId": "c6e823f5-35ad-4d0d-90b1-fd9a6507eb3b"
      },
      "execution_count": null,
      "outputs": [
        {
          "output_type": "execute_result",
          "data": {
            "text/plain": [
              "16943"
            ]
          },
          "metadata": {},
          "execution_count": 17
        }
      ]
    },
    {
      "cell_type": "code",
      "source": [
        "len(tokenizer.tokenize(full_text))"
      ],
      "metadata": {
        "colab": {
          "base_uri": "https://localhost:8080/"
        },
        "id": "cGEV1fKg82Io",
        "outputId": "b0314caf-2f56-439d-a66f-61de9db50942"
      },
      "execution_count": null,
      "outputs": [
        {
          "output_type": "execute_result",
          "data": {
            "text/plain": [
              "16943"
            ]
          },
          "metadata": {},
          "execution_count": 18
        }
      ]
    },
    {
      "cell_type": "code",
      "source": [
        "# inputs to the model\n",
        "inputs = [tokenizer(chunk, return_tensors=\"pt\") for chunk in chunks]"
      ],
      "metadata": {
        "id": "85qsL-vu8-Ee"
      },
      "execution_count": null,
      "outputs": []
    },
    {
      "cell_type": "code",
      "source": [
        "facebook_bart_summary = []\n",
        "for input in inputs:\n",
        "  output = model.generate(**input)\n",
        "  facebook_bart_summary.append(tokenizer.decode(*output, skip_special_tokens=True))"
      ],
      "metadata": {
        "id": "Oy5s4KrK9CCL"
      },
      "execution_count": null,
      "outputs": []
    },
    {
      "cell_type": "markdown",
      "source": [
        "## Summarized Text:\n",
        "\n",
        "Climate change and environmental degradation are sources of structural change that affect economic activity and, in turn, the financial system. Climate-related and environmental risks are commonly understood to comprise t wo main risk drivers. Physical risk refers to the financial impact of a changing climate. Transition ri sk refers to an institution’s financial loss that can result, directly or indirectly, from the process of adjustment towards a lower-carbon economy.\n",
        "Transition risk drivers may affect the viability of some business lines and lead to strategic risk for specific business models. An abrupt repricing of securities, for instance due to asset stranding, may reduce the value of banks’ high quality liquid assets, thereby affecting liquidity buffers. Only a small number of institutions have fully incorporated climate- related and environmental risks into their risk management framework.\n",
        "Only a few institutions include climate- related risks in their stress testing and reverse stress -testing scenarios. Only a minority of institutions’ disclosures are in line with the recommendations by the TC FD. The ECB has observed that a number of institutions are involved i n initiatives that promote broader and more comparable disclosures.\n",
        "Business strategy is an institution’s principal tool for positioning itself within its business environment. Climate-related and environmental risks may directly impact the effectiveness of institutions’ existing and future strategies. Institutions are expected to take into account up- to-date scientific insights to enhance their understanding of the potential changes to their business environment going forward.\n",
        "The ECB observed an institution which had integrated the following climate- related and environmental key performance indicators (KPIs) into its strategic framework. The metrics are cascaded down to the business line level (e.g. retail banking, private banking, commercial banking and corporate banking). For each metric, the respective time horizon is set and progress is measured against a base year.\n",
        "The management body is expected to ensure that the institution adequately embeds climate- related and environmental risks in the overall business strategy and risk management framework. Institutions are expected to have in place a risk appetite framework (RAF) that considers all the material risks to which the institution is exposed. The ECB expects institutions to monitor and report their exposures to climate-related and environmental risk on the basis of their current data and forward- looking estimations.\n",
        "Several institutions aim to keep the carbon content of their financed energy mix in line with the target of remaining well below 1.5-2°C, as provided for in the 2015 Paris Agreement. Remuneration policies and practices are expected to help foster a long-term approach to managing climate-related and environmental risks.\n",
        "Institutions are expected to ensure that the first line of defence performs its duties in accordance with any climate- related and environmental policy, procedure or limit. The ECB observed several institutions that have implemented specific measures to promote a risk culture that takes into account climate-related and environmental risks.\n",
        "Institutions are expected to ensure that the data reporting framew ork for climate-related and environmental risks operates in conjunction with the climate- related and environmental risk metrics set out in their existing RAS and risk management processes. The data reporting framework is also expected to support, where rel evant, the KPIs used to assess the performance of the institution.\n",
        "The risk management framework should encompass on- balance- sheet risks and off-balance-sheet risks, with appropriate consideration of both financial and non-financial risks. Institutions are expected to document the climate- related and environmental risks considered, in particular, their transmission channels and impact on the risk profile.\n",
        "Institutions are expected to conduct a proper climate-related and environmental due diligence, both at the inception of a client relationship and on an ongoing basis. The scope and depth of due diligence is expected to be defined in relation to the sector and geographic location in which the client is located. Institutions are advised to ensure compliance with the OECD Guidelines for Multinational Enterprises.\n",
        "ECB observed that institutions often consider climate- related and environmental risks qualitatively in their credit -granting process. Some institutions are considering or in the process of developing means to incorporate these risk s into their models. One bank is developing climate -informed shadow probabilities of defaults (PDs) to be reported alongside the regular PDs.\n",
        "Mortgages with a better energy label receive a lower client rate than mortgages with a less energy -efficient label. This differentiation is based on the consideration that a portfolio with higher energy efficiency labels is likely to be less vulnerable to transition risk. Institutions’ loan pricing is expected to reflect the different costs driven by climate- related and environmental risks.\n",
        "The ECB observed an institution that considers reputational risks arising from environmental, social or governance impacts in its internal capital adequacy assessment process. Institutions are expected to monitor on an ongoing basis the effect of climate- related and environmental factors on their current market risk positions and future investments.\n",
        "early or late transition), embed plausible consider ations for the related physical outcome. All these aspects should be properly reflected in an institution’s ICAAP. Institutions are expected to consider adopting a longer time horizon for climate- related and environmental risks given the likelihood that they will mostly materialise in the medium to long term.\n",
        "EU institutions have reached a political agreement to develop an EU -wide classification system, or taxonomy, for sustainable investments. Going forward, institutions subject to the Non- Financial Reporting Directive (NFRD) will be asked to provide further transparency on the extent to which their activities can be regarded as environmentally sustainable.\n",
        "Business model, policies and due diligence processes, outcomes, risks and risk management and KPIs. Institutions are reminded of the ECB expectations regarding their business model and strategy, governance and ri sk management as set out in this guide. Disclose Scope 1, Scope 2 and, if appropriate, Scope 3 greenhouse gas (GHG) emissions and the related risks.\n",
        "As disclosure frameworks and the needs of market participants are evolving rapidly in this area, institutions are well -advised to actively improve their disclosures. The ECB observed a bank that provides schematic reference to its alignment wit h the individual TCFD recommendations. This lays out the respective and specific chapters containing its disclosures that are in line with the TC FD recommendations."
      ],
      "metadata": {
        "id": "uAgCPn_W9VEt"
      }
    },
    {
      "cell_type": "markdown",
      "source": [
        "## Load the Model: google pegasus\n"
      ],
      "metadata": {
        "id": "924B-QctAFDz"
      }
    },
    {
      "cell_type": "code",
      "source": [
        "from transformers import AutoTokenizer, PegasusModel\n",
        "\n",
        "model = \"google/pegasus-large\"\n",
        "\n",
        "tokenizer = AutoTokenizer.from_pretrained(model)\n",
        "model = PegasusModel.from_pretrained(model)\n"
      ],
      "metadata": {
        "colab": {
          "base_uri": "https://localhost:8080/",
          "height": 336,
          "referenced_widgets": [
            "f79cf2ff72534bf5b604a62d5346dabb",
            "58afccc6321c4f2a9a0503fe10d4362a",
            "12a46e2abbdf409592996c70fa94bac6",
            "92ccad31350e45039a0c93a3acc29d58",
            "4d4728b078564672bd6bb24e4f77c72b",
            "417a4a5d92c242688747fb4bcf192f9a",
            "f547ea01cdac4f27909243e38f3a22df",
            "92f0ac83201e4f1d9dfc52d2b34c0e0b",
            "8a50cdd8522a4add84cd61e5d7acc997",
            "4645b0279ee74b60a1d6ffcf4ddb8c37",
            "9482df8157aa4053a7f133fe7e2eca7c",
            "5004fa23fbb240898f1c114c43099254",
            "4d65901c6a6f4f83a19188f522d77299",
            "229c00bf16c64505bb16e4ccca06b647",
            "a658af5a503240d2a531a31eba0992e1",
            "10eb529edfe7457282cf7390660dc77a",
            "40ab834ce8994c9ca866eaeeb84a3c67",
            "764b242a4368422a8822882934d19320",
            "a122362b3cbb4bcfa27db1b5d1058527",
            "6a5833763fc14f5089817d9aaad5fe1d",
            "04b63eb5ad8f432a91c00ba49baa5a8c",
            "909c38b52b1542ba953fd8719a8ca190",
            "ee33ca6db478488e8cb7e8ea701c8d02",
            "dfd2240fe79d45ae9b934f7e56a6ab21",
            "30486744b6734ad9a5cb7731205dc780",
            "7b98e77cecbd41ddbbdd5158b7dab39f",
            "23a8d53b14d542e79d16b990e3954327",
            "175265f8c1ad42bc824ca6a031f4b9e2",
            "a64b663ab5624045bf38bf1ab78bc0f0",
            "b7c15a9881664897acfeafba291fbafe",
            "d86d4d7c4423434b92857ca9ee456fe4",
            "9889b1509fde4f69954d91e654589553",
            "338420ab3ad74a1e87fcb3bb59b6bdc2",
            "c73ba5725aff4122879087d788834b7c",
            "9b680e5fef4e4f8282f4b4f513f6a7d6",
            "e7df4fb8034e415b9255d89a5d1db31a",
            "ba6380c16c2d4349babf31902b70286f",
            "d80787f04de44959b068cd3e8161e570",
            "6b6ffd21abf04e0c9d7252f2dc3d0823",
            "ccde708bf1e64c6cae3d8e28904a09c4",
            "c4db95310af340d7ad57c05872e47442",
            "60e46518689544a49fa3548d8f084f46",
            "dcd752cbe79c43a88175da81c9f691a7",
            "c7c745a39b124cf49c849c78e6e38fee",
            "bb46dbfbf6674b3aa975bdeb7f02a91e",
            "5556209f89314d4c8bade12c7b417cdb",
            "54a9c20e0b064aa79b5451f11e854e3a",
            "5d0737fe60d74203b8f542835f7d67f5",
            "a459d2dec37142ffb48cc96a18f1fd53",
            "75c9db8e9d09498aba294c9f95e07c4d",
            "133331384f214267a459145dcfb1e733",
            "6d163974471d4b7a9daede1d39931a2c",
            "f8a3146c3ec344fab8060cddd96267ae",
            "6372d27c045843bcaebb220a7199f82d",
            "2341776e95d742e5a62310a2eb50b9ef"
          ]
        },
        "id": "nVmxZz4HCgrM",
        "outputId": "94aba223-d079-415f-d962-f8a6725d003d"
      },
      "execution_count": null,
      "outputs": [
        {
          "output_type": "stream",
          "name": "stderr",
          "text": [
            "/usr/local/lib/python3.10/dist-packages/huggingface_hub/utils/_token.py:88: UserWarning: \n",
            "The secret `HF_TOKEN` does not exist in your Colab secrets.\n",
            "To authenticate with the Hugging Face Hub, create a token in your settings tab (https://huggingface.co/settings/tokens), set it as secret in your Google Colab and restart your session.\n",
            "You will be able to reuse this secret in all of your notebooks.\n",
            "Please note that authentication is recommended but still optional to access public models or datasets.\n",
            "  warnings.warn(\n"
          ]
        },
        {
          "output_type": "display_data",
          "data": {
            "text/plain": [
              "tokenizer_config.json:   0%|          | 0.00/88.0 [00:00<?, ?B/s]"
            ],
            "application/vnd.jupyter.widget-view+json": {
              "version_major": 2,
              "version_minor": 0,
              "model_id": "f79cf2ff72534bf5b604a62d5346dabb"
            }
          },
          "metadata": {}
        },
        {
          "output_type": "display_data",
          "data": {
            "text/plain": [
              "config.json:   0%|          | 0.00/3.09k [00:00<?, ?B/s]"
            ],
            "application/vnd.jupyter.widget-view+json": {
              "version_major": 2,
              "version_minor": 0,
              "model_id": "5004fa23fbb240898f1c114c43099254"
            }
          },
          "metadata": {}
        },
        {
          "output_type": "display_data",
          "data": {
            "text/plain": [
              "spiece.model:   0%|          | 0.00/1.91M [00:00<?, ?B/s]"
            ],
            "application/vnd.jupyter.widget-view+json": {
              "version_major": 2,
              "version_minor": 0,
              "model_id": "ee33ca6db478488e8cb7e8ea701c8d02"
            }
          },
          "metadata": {}
        },
        {
          "output_type": "display_data",
          "data": {
            "text/plain": [
              "special_tokens_map.json:   0%|          | 0.00/65.0 [00:00<?, ?B/s]"
            ],
            "application/vnd.jupyter.widget-view+json": {
              "version_major": 2,
              "version_minor": 0,
              "model_id": "c73ba5725aff4122879087d788834b7c"
            }
          },
          "metadata": {}
        },
        {
          "output_type": "display_data",
          "data": {
            "text/plain": [
              "pytorch_model.bin:   0%|          | 0.00/2.28G [00:00<?, ?B/s]"
            ],
            "application/vnd.jupyter.widget-view+json": {
              "version_major": 2,
              "version_minor": 0,
              "model_id": "bb46dbfbf6674b3aa975bdeb7f02a91e"
            }
          },
          "metadata": {}
        },
        {
          "output_type": "stream",
          "name": "stderr",
          "text": [
            "Some weights of PegasusModel were not initialized from the model checkpoint at google/pegasus-large and are newly initialized: ['model.decoder.embed_positions.weight', 'model.encoder.embed_positions.weight']\n",
            "You should probably TRAIN this model on a down-stream task to be able to use it for predictions and inference.\n"
          ]
        }
      ]
    },
    {
      "cell_type": "code",
      "source": [
        "length = 0\n",
        "chunk = \"\"\n",
        "chunks = []\n",
        "count = -1\n",
        "for sentence in sentences:\n",
        "  count += 1\n",
        "  combined_length = len(tokenizer.tokenize(sentence)) + length # add the no. of sentence tokens to the length counter\n",
        "\n",
        "  if combined_length  <= tokenizer.max_len_single_sentence: # if it doesn't exceed\n",
        "    chunk += sentence + \" \" # add the sentence to the chunk\n",
        "    length = combined_length # update the length counter\n",
        "\n",
        "    # if it is the last sentence\n",
        "    if count == len(sentences) - 1:\n",
        "      chunks.append(chunk.strip()) # save the chunk\n",
        "\n",
        "  else:\n",
        "    chunks.append(chunk.strip()) # save the chunk\n",
        "\n",
        "    # reset\n",
        "    length = 0\n",
        "    chunk = \"\"\n",
        "\n",
        "    # take care of the overflow sentence\n",
        "    chunk += sentence + \" \"\n",
        "    length = len(tokenizer.tokenize(sentence))\n",
        "len(chunks)"
      ],
      "metadata": {
        "colab": {
          "base_uri": "https://localhost:8080/"
        },
        "id": "a9wqlxkLLnqV",
        "outputId": "a30e9a33-b468-4011-af2b-77015a0e4540"
      },
      "execution_count": null,
      "outputs": [
        {
          "output_type": "execute_result",
          "data": {
            "text/plain": [
              "17"
            ]
          },
          "metadata": {},
          "execution_count": 12
        }
      ]
    },
    {
      "cell_type": "code",
      "source": [
        "# inputs to the model\n",
        "inputs = [tokenizer(chunk, return_tensors=\"pt\") for chunk in chunks]"
      ],
      "metadata": {
        "id": "1wEgpSUXC7DR"
      },
      "execution_count": null,
      "outputs": []
    },
    {
      "cell_type": "code",
      "source": [
        "from transformers import AutoTokenizer, PegasusForConditionalGeneration\n",
        "\n",
        "model_name = \"google/pegasus-large\"\n",
        "\n",
        "tokenizer = AutoTokenizer.from_pretrained(model_name)\n",
        "model = PegasusForConditionalGeneration.from_pretrained(model_name)\n",
        "\n",
        "pegasus_summary = []\n",
        "for input in inputs:\n",
        "  input_ids = tokenizer.encode(input, return_tensors='pt')\n",
        "  output = model.generate(input_ids)\n",
        "  pegasus_summary.append(tokenizer.decode(output[0], skip_special_tokens=True))"
      ],
      "metadata": {
        "colab": {
          "base_uri": "https://localhost:8080/",
          "height": 104,
          "referenced_widgets": [
            "4e82956089c1436f9f5e685771b5aa85",
            "576de27db3154a729234c18df29d5e19",
            "9466585b160047b4a7893436b124cf50",
            "8486ad33e64f47ca886aa47c2cc51dc3",
            "3f1feb445dc54cb196b6956de383b39e",
            "d63e7d82a00b4c15bcc18ec492cbc8a5",
            "8c4fe4449126460ab894942018d05b8f",
            "6a27fb4b4657405ebdc257e98c07fe42",
            "cc6ccd6f6dc549d6822d27190a3949f6",
            "7d2852fd54b04bb98b21dd06d135c0b4",
            "5aa116a189e740b285b4580c300bdafd"
          ]
        },
        "id": "79aOPvFRM9nF",
        "outputId": "3b6a10cc-ccd8-42f0-ba8e-20b401a55bb2"
      },
      "execution_count": null,
      "outputs": [
        {
          "output_type": "stream",
          "name": "stderr",
          "text": [
            "Some weights of PegasusForConditionalGeneration were not initialized from the model checkpoint at google/pegasus-large and are newly initialized: ['model.decoder.embed_positions.weight', 'model.encoder.embed_positions.weight']\n",
            "You should probably TRAIN this model on a down-stream task to be able to use it for predictions and inference.\n"
          ]
        },
        {
          "output_type": "display_data",
          "data": {
            "text/plain": [
              "generation_config.json:   0%|          | 0.00/260 [00:00<?, ?B/s]"
            ],
            "application/vnd.jupyter.widget-view+json": {
              "version_major": 2,
              "version_minor": 0,
              "model_id": "4e82956089c1436f9f5e685771b5aa85"
            }
          },
          "metadata": {}
        }
      ]
    },
    {
      "cell_type": "code",
      "source": [
        "from transformers import PegasusForConditionalGeneration, PegasusTokenizer\n",
        "\n",
        "# Load Pegasus model and tokenizer\n",
        "model_name = \"google/pegasus-large\"\n",
        "tokenizer = PegasusTokenizer.from_pretrained(model_name)\n",
        "model = PegasusForConditionalGeneration.from_pretrained(model_name)\n",
        "\n",
        "for input_text in chunks:\n",
        "  # Tokenize input text\n",
        "  input_ids = tokenizer.encode(input_text, return_tensors=\"pt\", max_length=1024, truncation=True)\n",
        "\n",
        "  # Generate summary\n",
        "  summary_ids = model.generate(input_ids, num_beams=4, length_penalty=2.0, early_stopping=True)\n",
        "  summary = tokenizer.decode(summary_ids[0], skip_special_tokens=True)\n",
        "\n",
        "  print(\"Abstractive Summary:\")\n",
        "  print(summary)"
      ],
      "metadata": {
        "colab": {
          "base_uri": "https://localhost:8080/"
        },
        "id": "eoR9HNZ6OSkw",
        "outputId": "148d3039-edec-49b2-8b7c-51bb61b1db4e"
      },
      "execution_count": null,
      "outputs": [
        {
          "output_type": "stream",
          "name": "stderr",
          "text": [
            "Some weights of PegasusForConditionalGeneration were not initialized from the model checkpoint at google/pegasus-large and are newly initialized: ['model.decoder.embed_positions.weight', 'model.encoder.embed_positions.weight']\n",
            "You should probably TRAIN this model on a down-stream task to be able to use it for predictions and inference.\n"
          ]
        },
        {
          "output_type": "stream",
          "name": "stdout",
          "text": [
            "Abstractive Summary:\n",
            "Climate- related and environmental risks are commonly understood to comprise t wo main risk drivers: • Physical risk refers to the financial impact of a changing climate, including more frequent extreme weather events and gradual changes in climate, as well as of environmental degradation, such as air, water and land pollution, water stress, biodiversity loss and deforestation.10 Physical risk is therefore categorised as “acute” when it arises from extreme events, such as droughts, floods and storms, and “chronic” when it arises from progressive shifts, such as increasing temperatures, sea- level rises, water stress, biodi versity loss, land use change, habitat destruction and resource scarcity.11 This can directly result in, for example, damage to property or reduced productivity, or indirectly lead to subsequent events, such as the disruption of supply chains.\n",
            "Abstractive Summary:\n",
            "Although the majority of studies have focused on climate- related risks, such as the decline in asset values across carbon- intensive sectors, other environmental factors related to the loss of ecosystem services, such as water stress, biodiversity loss and resource scarcity, have also been shown to drive financial risk.18 19 There is also evidence of an interconnection between climate- related change and environmental risks, resulting in combined effects capable of potentially generat ing even greater impacts.20 Climate- related and environmental risks have distinctive characteristics that warrant particular consideration by supervisors and institutions alike.\n",
            "Abstractive Summary:\n",
            "In this respect, it is important for institutions to identify, assess and monitor the current and forward- looking impact of climate- related and environmental factors on their business environment and to ensure the sustainability and resilience of their business model going forward. The business environment captures a broad range of external factors and trends that shape the business conditions in which an institution operates or is likely to operate based on its main or structural geographic and business exposures.31 These include macroeconomic variables, the competitive landscape, policy and regulation, technology, societal/demographic developments, and geopolitical trends.32 Climate- related and environmental ri sks may affect all of these areas.\n",
            "Abstractive Summary:\n",
            "Climate -related and environmental risks may directly impact the effectiveness of institutions’ existing and future strategies.40 Institutions are expected to determine whi ch climate- related and environmental risks impact their business strategy in the short, medium and long term, for example by using (stress) scenario analyses.41 As set out in the EBA Guidelines, institutions should take the limitations, vulnerabilities and shortcomings detected in internal stress tests and scenario analyses into account when determining their business strategy.42 The scenario analysis tool is particularly useful in the context of climate -related and environmental risks given the uncertainty associated with the future course of climate change and society’s response to it.43 By developing a set of plausible scenarios to test the resilience of its business model, institutions can account for these uncertainties in its strategic decision- making.\n",
            "Abstractive Summary:\n",
            "5 Supervisory expectations relating to governance and risk appetite Under Article 74 of the CRD, institutions are required to have robust governance arrangements in place that allow institutions to effectively identify, manage, monitor and report the risks they are or might be exposed to, so as to form a holistic view of all risks both on an individual and consolidated basis.47 To enable institutions to understand and respond to climate- related and environmental risks, institutions are expected to embed these risks in their governance and risk appetite frameworks, while adequately involving all relevant functions. As set out in the EBA Guidelines, the management body is expected to consider climate and environmental risks in the context of the institution’s overall business strategy, which is expected to provide the management body with the knowledge and expertise to ensure that the institution’s climate and environmental risks are properly managed.59 The management body is expected to be involved in the process of establishing a climate and environmental committee, which draws on the knowledge and expertise of the institution’s members in the context of the institution’s overall business strategy, as well as the knowledge and experience of its members in the context of the institution’s overall business strategy.\n",
            "Abstractive Summary:\n",
            "The risk inventory is the result of the risk identification process and is expected to be based on the institution’s internal risk taxonomy, which is a categorisation of different risk types and factors within which climate -related and environmental risks are expected to be clearly defined.67 The risk inventory is used as a basis for the formulation of the RAS.\n",
            "Abstractive Summary:\n",
            "In accordance with Article 74 of the CRD, and as further specified in the EBA Guidelines, institutions should have in place a clear, transparent and documented decision- making process and a clear allocation of responsibilities and authority within their internal control framework, including their business lines, internal units and internal control functions.72 that promote informed decision- making by the management body.73 Consequently, responsibilities for identifying, assessing and managing climate- related and environmental risks are expected to be evenly distributed across the different functions within the institution. Institutions may allocate such responsibilit ies across existing stru ctures or, if deem ed useful, may consider establishing a dedicated structure responsible for coordinating the institution’s overall risk management approach to climate- related and environmental risk. Institutions may allocate such responsibilit ies across existing stru ctures or, if deem ed useful, may consider establishing a dedicated structure responsible for coordinating the institution’s overall risk management approach to climate- related and environmental risk.\n",
            "Abstractive Summary:\n",
            "The compliance function should advise the management body on measures to be taken to ensure compliance with applicable laws, rules, regulations and standards, and should assess the possible impact of any changes in the legal or regulatory environment on t he institution’s activities and compliance framework.76 As rules and standards on sustainability may change over time, institutions may increasingly face compliance- related risks, such as liability, litigation and/or reputational risks, stemming from climat e-related and environmental issues. The internal audit function should rev iew the institution’s internal control and risk management framework, by considering external developments, changes in the risk profile and in products and/or business lines, among other things.77 This is expected to include the appropriateness of the arrangements for managing climate -related and environmental risks.\n",
            "Abstractive Summary:\n",
            "An institution’s risk reports are expected to convey the impact of climate- related and environmental risks on its business model, strategy and risk profile.81 Institutions should strive to cover all material climate- related and environmental risks across the legal entity and/or business lines in its risk reports. Institutions are expected to be adaptable in order to generate agg regated climate- related and environmental risk data to meet a broad range of on- demand and ad hoc reporting requests, including requests during stress/crisis situations, requests related to changing internal needs and requests to meet supervisory queries, as demand for climate- related and environmental risks reporting increases.\n",
            "Abstractive Summary:\n",
            "Institutions are expected to adequately quantify the climate- related and environmental risks that the institution is exposed to.89 As also stated in the ECB Guide to the ICAAP, risks are not expected to be excluded from the assessment because they are difficult to quantify or because the relevant data are not available.90 Where such methodologies are subject to further developments, also taking into account the current work and upcoming publications of international networks91 and standard setters, institutions may use plausible assumptions to develop proxies for the assessment of climate- related and environmental risks.\n",
            "Abstractive Summary:\n",
            "Institutions are expected to perform regular internal reviews,97 for instance, in the context of the ICAAP.98 The purpose of these reviews is to assess whether internal processes and methodologies have led to sound outcomes and whether they remain appropriate in view of current and future developments.99 As the availability of data and methodologies for identifying and measuring climate - related and environmental risks is evolving rapidly, institutions are expected to regularly consider the appropriateness and quality of the data sources and methods in place. 6.2 Credit risk management Expectation 8 In their credit risk management, instituti ons are expected to consider climate- related and environmental risks at all relevant stages of the credit -granting process and to monitor the risks in their portfolios.\n",
            "Abstractive Summary:\n",
            "Institutions are expected to incorporate these considerations into both the process for establishing the value of collateral and into the review process prescribed by the applicable regulations.105 Institutions are expected to monitor and manage credit risks in their portfolios, in particular through sectoral/geographic/single -name concentration analysis, including credit risk concentrations stemming from climate- related and environmental risks, and using exposure limits or deleveraging strategies.106 Institutions are expected to monitor how geographic and sectoral concentration is prone to climate- related and environmental risks. Institu tions’ loan pricing frameworks are expected to reflect their credit risk appetite and business strategy with regard to climate -related and environmental risks.107 Pursuant to Article 76(3) of CR D IV, an institution’s risk committee shall review whether the prices of assets offered to clients take the business model and risk strategy fully into account.\n",
            "Abstractive Summary:\n",
            "In particular, when assessing its critical or important functions, an institution is exks pected to consider the impacts of physi cal risks on the provision of these services.112 The outcome of this assessment, if material for any of the institution’s business lines or operations, is expected to be reflected in its business continuity plan. Institutions are expected to evaluate the extent to which the nature of the activities in which they are involved increases the risk of a negative financial impact arising from future reputational damage, liability and/or litigation. Based on the EBA Guidelines, all relevant risks should be encompassed in the risk management framework of an institution, with appropriate consideration of both financial and non- financial risks, including reputational risk.113 Reputational risks can arise quickly and can rapidly affect firms.\n",
            "Abstractive Summary:\n",
            "As part of the ICAAP, institutions are expected to conduct a tailored and in- depth review of their vulnerabilities through stress testing.117 The stress scenarios should compri se all material risks that may deplete internal capital or impact regulatory capital ratios and be used as part of the institution’s stress -testing programme in both the economic and normative perspective.\n",
            "Abstractive Summary:\n",
            "To ensure robust liquidity risk management, institutions are expected to consider the direct or indirect impacts of climate- related and environmental risks on their liquidity position.122 123 Institutions are encouraged to include such considerations in their ILAAP, considering climate- related and environmental risks under both the economic and the normative perspective. Article 432 of the CRD provides that institutions are reminded to take into account in their internal pricing process the specific marginal cost of funding of sustainable refinancing instruments, including, where relevant, the liquidity cost or benefi t compared to ordinary refinancing instruments.124 7 Supervisory expectations relating to disclosures Access to information is necessary for promoting transparency within financial institutions and contributing to the orderly functioning of financial markets.125 The European regulatory framework therefore sets out disclosure requirements to make key information available about an institution’s capital, risks and risk exposures in order to adequately inform market participants.\n",
            "Abstractive Summary:\n",
            "Furthermore, the EBA Guidelines state that, when an institution decides not to disclose information or a set of requirements due to immateriality, it should clearly state this fact.135 When institutions disclose figures, metrics and targets as material, they are expected to disclose or reference the methodologies, definitions and criteria associated with them.136 These disclosures help to convey the institution’ s risk profile in a comprehensive manner to market participants, namely with a view to limiting reputational and liability risks.\n",
            "Abstractive Summary:\n",
            "In line with the European Commission’s Supplement and the EBA’s key policy messages, institutions are expected to disclose the metrics used, including relevant target s and the current performance of the institution against those targets. Using the aforementioned metrics, the institution is expected to describe the short, medium and long- term resilience of its strategy and risk management processes in the light of different climate- related scenarios.\n"
          ]
        }
      ]
    },
    {
      "cell_type": "markdown",
      "source": [
        "Climate- related and environmental risks are commonly understood to comprise t wo main risk drivers: • Physical risk refers to the financial impact of a changing climate, including more frequent extreme weather events and gradual changes in climate, as well as of environmental degradation, such as air, water and land pollution, water stress, biodiversity loss and deforestation.10 Physical risk is therefore categorised as “acute” when it arises from extreme events, such as droughts, floods and storms, and “chronic” when it arises from progressive shifts, such as increasing temperatures, sea- level rises, water stress, biodi versity loss, land use change, habitat destruction and resource scarcity.11 This can directly result in, for example, damage to property or reduced productivity, or indirectly lead to subsequent events, such as the disruption of supply chains. Although the majority of studies have focused on climate- related risks, such as the decline in asset values across carbon- intensive sectors, other environmental factors related to the loss of ecosystem services, such as water stress, biodiversity loss and resource scarcity, have also been shown to drive financial risk.18 19 There is also evidence of an interconnection between climate- related change and environmental risks, resulting in combined effects capable of potentially generat ing even greater impacts.20 Climate- related and environmental risks have distinctive characteristics that warrant particular consideration by supervisors and institutions alike. In this respect, it is important for institutions to identify, assess and monitor the current and forward- looking impact of climate- related and environmental factors on their business environment and to ensure the sustainability and resilience of their business model going forward. The business environment captures a broad range of external factors and trends that shape the business conditions in which an institution operates or is likely to operate based on its main or structural geographic and business exposures.31 These include macroeconomic variables, the competitive landscape, policy and regulation, technology, societal/demographic developments, and geopolitical trends.32 Climate- related and environmental risks may affect all of these areas.\n",
        "Climate -related and environmental risks may directly impact the effectiveness of institutions’ existing and future strategies.40 Institutions are expected to determine whi ch climate- related and environmental risks impact their business strategy in the short, medium and long term, for example by using (stress) scenario analyses.41 As set out in the EBA Guidelines, institutions should take the limitations, vulnerabilities and shortcomings detected in internal stress tests and scenario analyses into account when determining their business strategy.42 The scenario analysis tool is particularly useful in the context of climate -related and environmental risks given the uncertainty associated with the future course of climate change and society’s response to it.43 By developing a set of plausible scenarios to test the resilience of its business model, institutions can account for these uncertainties in its strategic decision- making.\n",
        "5 Supervisory expectations relating to governance and risk appetite Under Article 74 of the CRD, institutions are required to have robust governance arrangements in place that allow institutions to effectively identify, manage, monitor and report the risks they are or might be exposed to, so as to form a holistic view of all risks both on an individual and consolidated basis.47 To enable institutions to understand and respond to climate- related and environmental risks, institutions are expected to embed these risks in their governance and risk appetite frameworks, while adequately involving all relevant functions. As set out in the EBA Guidelines, the management body is expected to consider climate and environmental risks in the context of the institution’s overall business strategy, which is expected to provide the management body with the knowledge and expertise to ensure that the institution’s climate and environmental risks are properly managed.59 The management body is expected to be involved in the process of establishing a climate and environmental committee, which draws on the knowledge and expertise of the institution’s members in the context of the institution’s overall business strategy, as well as the knowledge and experience of its members in the context of the institution’s overall business strategy.\n",
        "The risk inventory is the result of the risk identification process and is expected to be based on the institution’s internal risk taxonomy, which is a categorisation of different risk types and factors within which climate -related and environmental risks are expected to be clearly defined.67 The risk inventory is used as a basis for the formulation of the RAS. In accordance with Article 74 of the CRD, and as further specified in the EBA Guidelines, institutions should have in place a clear, transparent and documented decision- making process and a clear allocation of responsibilities and authority within their internal control framework, including their business lines, internal units and internal control functions.72 that promote informed decision- making by the management body.73 Consequently, responsibilities for identifying, assessing and managing climate- related and environmental risks are expected to be evenly distributed across the different functions within the institution. Institutions may allocate such responsibilit ies across existing stru ctures or, if deem ed useful, may consider establishing a dedicated structure responsible for coordinating the institution’s overall risk management approach to climate- related and environmental risk. Institutions may allocate such responsibilit ies across existing stru ctures or, if deem ed useful, may consider establishing a dedicated structure responsible for coordinating the institution’s overall risk management approach to climate- related and environmental risk. The compliance function should advise the management body on measures to be taken to ensure compliance with applicable laws, rules, regulations and standards, and should assess the possible impact of any changes in the legal or regulatory environment on t he institution’s activities and compliance framework.76 As rules and standards on sustainability may change over time, institutions may increasingly face compliance- related risks, such as liability, litigation and/or reputational risks, stemming from climat e-related and environmental issues. The internal audit function should rev iew the institution’s internal control and risk management framework, by considering external developments, changes in the risk profile and in products and/or business lines, among other things.77 This is expected to include the appropriateness of the arrangements for managing climate -related and environmental risks. An institution’s risk reports are expected to convey the impact of climate- related and environmental risks on its business model, strategy and risk profile.81 Institutions should strive to cover all material climate- related and environmental risks across the legal entity and/or business lines in its risk reports. Institutions are expected to be adaptable in order to generate agg regated climate- related and environmental risk data to meet a broad range of on- demand and ad hoc reporting requests, including requests during stress/crisis situations, requests related to changing internal needs and requests to meet supervisory queries, as demand for climate- related and environmental risks reporting increases. Institutions are expected to adequately quantify the climate- related and environmental risks that the institution is exposed to.89 As also stated in the ECB Guide to the ICAAP, risks are not expected to be excluded from the assessment because they are difficult to quantify or because the relevant data are not available.90 Where such methodologies are subject to further developments, also taking into account the current work and upcoming publications of international networks91 and standard setters, institutions may use plausible assumptions to develop proxies for the assessment of climate- related and environmental risks. Institutions are expected to perform regular internal reviews,97 for instance, in the context of the ICAAP.98 The purpose of these reviews is to assess whether internal processes and methodologies have led to sound outcomes and whether they remain appropriate in view of current and future developments.99 As the availability of data and methodologies for identifying and measuring climate - related and environmental risks is evolving rapidly, institutions are expected to regularly consider the appropriateness and quality of the data sources and methods in place. 6.2 Credit risk management Expectation 8 In their credit risk management, instituti ons are expected to consider climate- related and environmental risks at all relevant stages of the credit -granting process and to monitor the risks in their portfolios. Institutions are expected to incorporate these considerations into both the process for establishing the value of collateral and into the review process prescribed by the applicable regulations.105 Institutions are expected to monitor and manage credit risks in their portfolios, in particular through sectoral/geographic/single -name concentration analysis, including credit risk concentrations stemming from climate- related and environmental risks, and using exposure limits or deleveraging strategies.106 Institutions are expected to monitor how geographic and sectoral concentration is prone to climate- related and environmental risks. Institu tions’ loan pricing frameworks are expected to reflect their credit risk appetite and business strategy with regard to climate -related and environmental risks.107 Pursuant to Article 76(3) of CR D IV, an institution’s risk committee shall review whether the prices of assets offered to clients take the business model and risk strategy fully into account. In particular, when assessing its critical or important functions, an institution is exks pected to consider the impacts of physi cal risks on the provision of these services.112 The outcome of this assessment, if material for any of the institution’s business lines or operations, is expected to be reflected in its business continuity plan. Institutions are expected to evaluate the extent to which the nature of the activities in which they are involved increases the risk of a negative financial impact arising from future reputational damage, liability and/or litigation. Based on the EBA Guidelines, all relevant risks should be encompassed in the risk management framework of an institution, with appropriate consideration of both financial and non- financial risks, including reputational risk.113 Reputational risks can arise quickly and can rapidly affect firms. As part of the ICAAP, institutions are expected to conduct a tailored and in- depth review of their vulnerabilities through stress testing.117 The stress scenarios should compri se all material risks that may deplete internal capital or impact regulatory capital ratios and be used as part of the institution’s stress -testing programme in both the economic and normative perspective. To ensure robust liquidity risk management, institutions are expected to consider the direct or indirect impacts of climate- related and environmental risks on their liquidity position.122 123 Institutions are encouraged to include such considerations in their ILAAP, considering climate- related and environmental risks under both the economic and the normative perspective. Article 432 of the CRD provides that institutions are reminded to take into account in their internal pricing process the specific marginal cost of funding of sustainable refinancing instruments, including, where relevant, the liquidity cost or benefi t compared to ordinary refinancing instruments.124 7 Supervisory expectations relating to disclosures Access to information is necessary for promoting transparency within financial institutions and contributing to the orderly functioning of financial markets.125 The European regulatory framework therefore sets out disclosure requirements to make key information available about an institution’s capital, risks and risk exposures in order to adequately inform market participants. Furthermore, the EBA Guidelines state that, when an institution decides not to disclose information or a set of requirements due to immateriality, it should clearly state this fact.135 When institutions disclose figures, metrics and targets as material, they are expected to disclose or reference the methodologies, definitions and criteria associated with them.136 These disclosures help to convey the institution’ s risk profile in a comprehensive manner to market participants, namely with a view to limiting reputational and liability risks. In line with the European Commission’s Supplement and the EBA’s key policy messages, institutions are expected to disclose the metrics used, including relevant target s and the current performance of the institution against those targets. Using the aforementioned metrics, the institution is expected to describe the short, medium and long- term resilience of its strategy and risk management processes in the light of different climate- related scenarios.\n"
      ],
      "metadata": {
        "id": "fUoaKjJUUTiL"
      }
    },
    {
      "cell_type": "code",
      "source": [
        "summarized_text = 'Climate change and environmental degradation are sources of structural change that affect economic activity and, in turn, the financial system. Climate-related and environmental risks are commonly understood to comprise t wo main risk drivers. Physical risk refers to the financial impact of a changing climate. Transition ri sk refers to an institution’s financial loss that can result, directly or indirectly, from the process of adjustment towards a lower-carbon economy. Transition risk drivers may affect the viability of some business lines and lead to strategic risk for specific business models. An abrupt repricing of securities, for instance due to asset stranding, may reduce the value of banks’ high quality liquid assets, thereby affecting liquidity buffers. Only a small number of institutions have fully incorporated climate- related and environmental risks into their risk management framework. Only a few institutions include climate- related risks in their stress testing and reverse stress -testing scenarios. Only a minority of institutions’ disclosures are in line with the recommendations by the TC FD. The ECB has observed that a number of institutions are involved i n initiatives that promote broader and more comparable disclosures. Business strategy is an institution’s principal tool for positioning itself within its business environment. Climate-related and environmental risks may directly impact the effectiveness of institutions’ existing and future strategies. Institutions are expected to take into account up- to-date scientific insights to enhance their understanding of the potential changes to their business environment going forward. The ECB observed an institution which had integrated the following climate- related and environmental key performance indicators (KPIs) into its strategic framework. The metrics are cascaded down to the business line level (e.g. retail banking, private banking, commercial banking and corporate banking). For each metric, the respective time horizon is set and progress is measured against a base year. The management body is expected to ensure that the institution adequately embeds climate- related and environmental risks in the overall business strategy and risk management framework. Institutions are expected to have in place a risk appetite framework (RAF) that considers all the material risks to which the institution is exposed. The ECB expects institutions to monitor and report their exposures to climate-related and environmental risk on the basis of their current data and forward- looking estimations. Several institutions aim to keep the carbon content of their financed energy mix in line with the target of remaining well below 1.5-2°C, as provided for in the 2015 Paris Agreement. Remuneration policies and practices are expected to help foster a long-term approach to managing climate-related and environmental risks. Institutions are expected to ensure that the first line of defence performs its duties in accordance with any climate- related and environmental policy, procedure or limit. The ECB observed several institutions that have implemented specific measures to promote a risk culture that takes into account climate-related and environmental risks. Institutions are expected to ensure that the data reporting framew ork for climate-related and environmental risks operates in conjunction with the climate- related and environmental risk metrics set out in their existing RAS and risk management processes. The data reporting framework is also expected to support, where rel evant, the KPIs used to assess the performance of the institution. The risk management framework should encompass on- balance- sheet risks and off-balance-sheet risks, with appropriate consideration of both financial and non-financial risks. Institutions are expected to document the climate- related and environmental risks considered, in particular, their transmission channels and impact on the risk profile. Institutions are expected to conduct a proper climate-related and environmental due diligence, both at the inception of a client relationship and on an ongoing basis. The scope and depth of due diligence is expected to be defined in relation to the sector and geographic location in which the client is located. Institutions are advised to ensure compliance with the OECD Guidelines for Multinational Enterprises. ECB observed that institutions often consider climate- related and environmental risks qualitatively in their credit -granting process. Some institutions are considering or in the process of developing means to incorporate these risk s into their models. One bank is developing climate -informed shadow probabilities of defaults (PDs) to be reported alongside the regular PDs. Mortgages with a better energy label receive a lower client rate than mortgages with a less energy -efficient label. This differentiation is based on the consideration that a portfolio with higher energy efficiency labels is likely to be less vulnerable to transition risk. Institutions’ loan pricing is expected to reflect the different costs driven by climate- related and environmental risks. The ECB observed an institution that considers reputational risks arising from environmental, social or governance impacts in its internal capital adequacy assessment process. Institutions are expected to monitor on an ongoing basis the effect of climate- related and environmental factors on their current market risk positions and future investments. early or late transition), embed plausible consider ations for the related physical outcome. All these aspects should be properly reflected in an institution’s ICAAP. Institutions are expected to consider adopting a longer time horizon for climate- related and environmental risks given the likelihood that they will mostly materialise in the medium to long term. EU institutions have reached a political agreement to develop an EU -wide classification system, or taxonomy, for sustainable investments. Going forward, institutions subject to the Non- Financial Reporting Directive (NFRD) will be asked to provide further transparency on the extent to which their activities can be regarded as environmentally sustainable. Business model, policies and due diligence processes, outcomes, risks and risk management and KPIs. Institutions are reminded of the ECB expectations regarding their business model and strategy, governance and ri sk management as set out in this guide. Disclose Scope 1, Scope 2 and, if appropriate, Scope 3 greenhouse gas (GHG) emissions and the related risks. As disclosure frameworks and the needs of market participants are evolving rapidly in this area, institutions are well -advised to actively improve their disclosures. The ECB observed a bank that provides schematic reference to its alignment wit h the individual TCFD recommendations. This lays out the respective and specific chapters containing its disclosures that are in line with the TC FD recommendations.'"
      ],
      "metadata": {
        "id": "WOgnZieMU37Y"
      },
      "execution_count": null,
      "outputs": []
    },
    {
      "cell_type": "code",
      "source": [
        "# convert the contents in full text to sentences\n",
        "import nltk\n",
        "nltk.download('punkt')\n",
        "sum_sentences = nltk.tokenize.sent_tokenize(summarized_text)"
      ],
      "metadata": {
        "colab": {
          "base_uri": "https://localhost:8080/"
        },
        "id": "eU6CCptHVJvX",
        "outputId": "53399bfb-117e-4bc2-f338-db6d712a062c"
      },
      "execution_count": null,
      "outputs": [
        {
          "output_type": "stream",
          "name": "stderr",
          "text": [
            "[nltk_data] Downloading package punkt to /root/nltk_data...\n",
            "[nltk_data]   Package punkt is already up-to-date!\n"
          ]
        }
      ]
    },
    {
      "cell_type": "code",
      "source": [
        "length = 0\n",
        "chunk = \"\"\n",
        "chunks = []\n",
        "count = -1\n",
        "for sentence in sum_sentences:\n",
        "  count += 1\n",
        "  combined_length = len(tokenizer.tokenize(sentence)) + length # add the no. of sentence tokens to the length counter\n",
        "\n",
        "  if combined_length  <= tokenizer.max_len_single_sentence: # if it doesn't exceed\n",
        "    chunk += sentence + \" \" # add the sentence to the chunk\n",
        "    length = combined_length # update the length counter\n",
        "\n",
        "    # if it is the last sentence\n",
        "    if count == len(sum_sentences) - 1:\n",
        "      chunks.append(chunk.strip()) # save the chunk\n",
        "\n",
        "  else:\n",
        "    chunks.append(chunk.strip()) # save the chunk\n",
        "\n",
        "    # reset\n",
        "    length = 0\n",
        "    chunk = \"\"\n",
        "\n",
        "    # take care of the overflow sentence\n",
        "    chunk += sentence + \" \"\n",
        "    length = len(tokenizer.tokenize(sentence))\n",
        "len(chunks)"
      ],
      "metadata": {
        "colab": {
          "base_uri": "https://localhost:8080/"
        },
        "id": "kOLOVGzQVTNF",
        "outputId": "2710e4f4-0f5f-4c7f-cfa0-a63f9c3b4a61"
      },
      "execution_count": null,
      "outputs": [
        {
          "output_type": "execute_result",
          "data": {
            "text/plain": [
              "2"
            ]
          },
          "metadata": {},
          "execution_count": 27
        }
      ]
    },
    {
      "cell_type": "code",
      "source": [
        "from transformers import PegasusForConditionalGeneration, PegasusTokenizer\n",
        "\n",
        "# Load Pegasus model and tokenizer\n",
        "model_name = \"google/pegasus-large\"\n",
        "tokenizer = PegasusTokenizer.from_pretrained(model_name)\n",
        "model = PegasusForConditionalGeneration.from_pretrained(model_name)\n",
        "\n",
        "for input_text in chunks:\n",
        "  # Tokenize input text\n",
        "  input_ids = tokenizer.encode(input_text, return_tensors=\"pt\", max_length=1024, truncation=True)\n",
        "\n",
        "  # Generate summary\n",
        "  summary_ids = model.generate(input_ids, num_beams=4, length_penalty=2.0, early_stopping=True)\n",
        "  summary = tokenizer.decode(summary_ids[0], skip_special_tokens=True)\n",
        "\n",
        "  print(\"Abstractive Summary:\")\n",
        "  print(summary)"
      ],
      "metadata": {
        "colab": {
          "base_uri": "https://localhost:8080/"
        },
        "id": "VYW-azyRVeEf",
        "outputId": "5f9c9d3d-2bd3-4a07-8c87-7ed58d16bbd6"
      },
      "execution_count": null,
      "outputs": [
        {
          "output_type": "stream",
          "name": "stderr",
          "text": [
            "Some weights of PegasusForConditionalGeneration were not initialized from the model checkpoint at google/pegasus-large and are newly initialized: ['model.decoder.embed_positions.weight', 'model.encoder.embed_positions.weight']\n",
            "You should probably TRAIN this model on a down-stream task to be able to use it for predictions and inference.\n"
          ]
        },
        {
          "output_type": "stream",
          "name": "stdout",
          "text": [
            "Abstractive Summary:\n",
            "Transition risk drivers may affect the viability of some business lines and lead to strategic risk for specific business models. The ECB expects institutions to monitor and report their exposures to climate-related and environmental risk on the basis of their current data and forward- looking estimations.\n",
            "Abstractive Summary:\n",
            "Institutions are reminded of the ECB expectations regarding their business model and strategy, governance and ri sk management as set out in this guide.\n"
          ]
        }
      ]
    },
    {
      "cell_type": "markdown",
      "source": [
        "Transition risk drivers may affect the viability of some business lines and lead to strategic risk for specific business models. The ECB expects institutions to monitor and report their exposures to climate-related and environmental risk on the basis of their current data and forward- looking estimations. Institutions are reminded of the ECB expectations regarding their business model and strategy, governance and risk management as set out in this guide."
      ],
      "metadata": {
        "id": "wyT8YIifV_TF"
      }
    }
  ]
}