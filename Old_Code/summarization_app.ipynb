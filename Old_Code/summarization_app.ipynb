{
 "cells": [
  {
   "cell_type": "markdown",
   "metadata": {},
   "source": [
    "##Building a UI app for making long document summarizations"
   ]
  },
  {
   "cell_type": "code",
   "execution_count": 9,
   "metadata": {},
   "outputs": [],
   "source": [
    "#import necessary libraries\n",
    "from pypdf import PdfReader\n",
    "import re\n",
    "from transformers import pipeline\n",
    "import streamlit as st"
   ]
  },
  {
   "cell_type": "code",
   "execution_count": 10,
   "metadata": {},
   "outputs": [],
   "source": [
    "def clean_pdf(text):\n",
    "    # If the first character is a digit, remove it\n",
    "    for _ in range(4):\n",
    "        if text and text[0].isdigit():\n",
    "            text = text[1:]\n",
    "    #remove '\\n' (newlines)\n",
    "    text = text.replace('\\n', '  ')\n",
    "    # Remove '\\x0c' (form feed/new page)\n",
    "    text = text.replace('\\x0c', ' ')\n",
    "    # Remove '\\xa0' (non-breaking space)\n",
    "    text = text.replace('\\xa0', ' ')\n",
    "    # Remove '\\xa0' (non-breaking space)\n",
    "    text = text.replace('\\uf0b7 ', ' ')\n",
    "    #remove all unnecessary spaces\n",
    "    text = ' '.join(text.split())\n",
    "\n",
    "    return text"
   ]
  },
  {
   "cell_type": "code",
   "execution_count": 11,
   "metadata": {},
   "outputs": [],
   "source": [
    "#read pdf file\n",
    "def read_pdf(filepath):\n",
    "    report_climate_related = []\n",
    "    reader = PdfReader(filepath)\n",
    "    number_of_pages = len(reader.pages)\n",
    "\n",
    "    for i in range(0, number_of_pages):\n",
    "        page = reader.pages[i]\n",
    "        text = page.extract_text()\n",
    "        # Split the text by newline characters\n",
    "        lines = text.split('\\n')\n",
    "        # Remove lines containing URLs\n",
    "        lines = [line for line in lines if not re.search(r'http\\S+', line)]\n",
    "        # Join the text back together\n",
    "        text = '\\n'.join(lines)\n",
    "        report_climate_related.append(text)\n",
    "    return report_climate_related"
   ]
  },
  {
   "cell_type": "code",
   "execution_count": 12,
   "metadata": {},
   "outputs": [],
   "source": [
    "#clean pdf\n",
    "def clean_pdfdoc(report_climate_related):\n",
    "    clean_report_climate_related = []\n",
    "    for i in range(len(report_climate_related)):\n",
    "        text = clean_pdf(report_climate_related[i])\n",
    "        clean_report_climate_related.append(text)\n",
    "\n",
    "    return clean_report_climate_related"
   ]
  },
  {
   "cell_type": "code",
   "execution_count": 13,
   "metadata": {},
   "outputs": [],
   "source": [
    "def summarizer(text):\n",
    "    summarizer = pipeline(\"summarization\", model=\"facebook/bart-large-cnn\")\n",
    "    summary_text = summarizer(text, min_length=100, do_sample=False) \n",
    "    return summary_text[0]['summary_text']"
   ]
  },
  {
   "cell_type": "code",
   "execution_count": 14,
   "metadata": {},
   "outputs": [],
   "source": [
    "def summarize_pdf(input_pdf_path):\n",
    "    summarized_text = []\n",
    "    report_climate_related = read_pdf(input_pdf_path)\n",
    "    clean_report_climate_related = clean_pdfdoc(report_climate_related)\n",
    "    clean_report_climate_related = [word for word in clean_report_climate_related if word != '']\n",
    "    for i in range(len(clean_report_climate_related)):\n",
    "        summary = summarizer(clean_report_climate_related[i])\n",
    "        summarized_text.append(summary)\n",
    "    \n",
    "    summary = '\\n\\n'.join(summarized_text)\n",
    "    return summary"
   ]
  },
  {
   "cell_type": "code",
   "execution_count": 24,
   "metadata": {},
   "outputs": [
    {
     "data": {
      "text/plain": [
       "'The EU has agreed ambitious targets for 2030 regarding GHG emission reductions. An additional annual investment of €180 billion is already neede d to meet the EU’s energy and climate 2030 targets. Weather -related disasters caused a record €283 billion in economic damages in 2017. Better disclosure of climate related information by companies can contribute to the implement ation of the Sendai Framework for Disaster Risk Reduction 2015 -2030, which calls for governments to evaluate, record, share and publically account for disaster losses.\\n\\nCorporate disclosure of climate related information has improved in recent years. However, there are still significant gaps, and further improvements in the quantity, quality and comparability of disclosures are urgently required. Witho ut sufficient, reliable and comparable sustainability -related information from investee companies, the financial sector cannot efficiently direct capital to investments that drive solutions to the sustainability crises we face. This supplement integrates the TCFD recommendations, and provides guidance to companies that is consistent with the Non -Financial Reporting Directive.'"
      ]
     },
     "execution_count": 24,
     "metadata": {},
     "output_type": "execute_result"
    }
   ],
   "source": [
    "summary = summarize_pdf('/Users/pelumioluwaabiola/Downloads/Climate Risk/190618-climate-related-information-reporting-guidelines_en-pages-2-merged.pdf')\n",
    "summary"
   ]
  },
  {
   "cell_type": "code",
   "execution_count": 25,
   "metadata": {},
   "outputs": [
    {
     "name": "stderr",
     "output_type": "stream",
     "text": [
      "2024-04-02 02:02:51.578 \n",
      "  \u001b[33m\u001b[1mWarning:\u001b[0m to view this Streamlit app on a browser, run it with the following\n",
      "  command:\n",
      "\n",
      "    streamlit run /Users/pelumioluwaabiola/Library/Python/3.11/lib/python/site-packages/ipykernel_launcher.py [ARGUMENTS]\n"
     ]
    }
   ],
   "source": [
    "# Create a text input field for the PDF file path\n",
    "input_pdf_path = st.text_input(\"Enter the PDF file path\")\n",
    "\n",
    "# If the input field is not empty, call the summarize_pdf function and display the result\n",
    "if input_pdf_path:\n",
    "    output_summary = summarize_pdf(input_pdf_path)\n",
    "    st.write(\"Summary:\", output_summary)"
   ]
  },
  {
   "cell_type": "code",
   "execution_count": 26,
   "metadata": {},
   "outputs": [],
   "source": [
    "import streamlit as st\n",
    "\n",
    "def greet(name):\n",
    "    return f\"Hello, {name}!\"\n",
    "\n",
    "# Create a text input field for the user's name\n",
    "name = st.text_input(\"Enter your name\")\n",
    "\n",
    "# If the input field is not empty, call the greet function and display the result\n",
    "if name:\n",
    "    greeting = greet(name)\n",
    "    st.write(greeting)"
   ]
  },
  {
   "cell_type": "code",
   "execution_count": null,
   "metadata": {},
   "outputs": [],
   "source": []
  },
  {
   "cell_type": "code",
   "execution_count": 27,
   "metadata": {},
   "outputs": [
    {
     "name": "stderr",
     "output_type": "stream",
     "text": [
      "huggingface/tokenizers: The current process just got forked, after parallelism has already been used. Disabling parallelism to avoid deadlocks...\n",
      "To disable this warning, you can either:\n",
      "\t- Avoid using `tokenizers` before the fork if possible\n",
      "\t- Explicitly set the environment variable TOKENIZERS_PARALLELISM=(true | false)\n"
     ]
    },
    {
     "name": "stdout",
     "output_type": "stream",
     "text": [
      "Usage: streamlit run [OPTIONS] TARGET [ARGS]...\n",
      "Try 'streamlit run --help' for help.\n",
      "\n",
      "Error: Invalid value: File does not exist: app.py\n"
     ]
    }
   ],
   "source": [
    "!streamlit run app.py"
   ]
  }
 ],
 "metadata": {
  "kernelspec": {
   "display_name": "Python 3",
   "language": "python",
   "name": "python3"
  },
  "language_info": {
   "codemirror_mode": {
    "name": "ipython",
    "version": 3
   },
   "file_extension": ".py",
   "mimetype": "text/x-python",
   "name": "python",
   "nbconvert_exporter": "python",
   "pygments_lexer": "ipython3",
   "version": "3.11.5"
  }
 },
 "nbformat": 4,
 "nbformat_minor": 2
}
